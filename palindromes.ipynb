{
 "cells": [
  {
   "cell_type": "code",
   "execution_count": 1,
   "metadata": {
    "collapsed": true
   },
   "outputs": [],
   "source": [
    "# Imports\n",
    "\n",
    "import string\n",
    "import re\n",
    "from collections import Counter\n",
    "\n",
    "from pprint import pprint\n",
    "\n",
    "from cltk.corpus.latin import latinlibrary\n",
    "from cltk.tokenize.word import WordTokenizer\n",
    "from cltk.stem.latin.j_v import JVReplacer"
   ]
  },
  {
   "cell_type": "code",
   "execution_count": 2,
   "metadata": {
    "collapsed": false
   },
   "outputs": [],
   "source": [
    "# Setup CLTK tools\n",
    "\n",
    "word_tokenizer = WordTokenizer('latin')\n",
    "replacer = JVReplacer()"
   ]
  },
  {
   "cell_type": "markdown",
   "metadata": {},
   "source": [
    "## Get list of words\n",
    "We can use the Latin Library to generate a list of possible Latin words to match acrostics against by:\n",
    "- Getting the raw text of the Latin Library\n",
    "- Preproccessing the text to remove numbers, punctuation, English words, etc.\n",
    "- Tokenizing the text"
   ]
  },
  {
   "cell_type": "code",
   "execution_count": 3,
   "metadata": {
    "collapsed": false
   },
   "outputs": [],
   "source": [
    "# Get raw text of the Latin Library\n",
    "#\n",
    "# Note that the CLTK Latin Library was updated on 3/25/17\n",
    "# to fix line breaks in some of the hexameter poems included\n",
    "# in this experiment. Please delete and reimport the\n",
    "# CLTK Latin Library corpus to follow along.\n",
    "\n",
    "ll_raw = latinlibrary.raw()"
   ]
  },
  {
   "cell_type": "code",
   "execution_count": 79,
   "metadata": {
    "collapsed": false
   },
   "outputs": [],
   "source": [
    "# Preprocess texts\n",
    "\n",
    "def preprocess(text):    \n",
    "\n",
    "    text = re.sub(r'&aelig;','ae',text)\n",
    "    text = re.sub(r'&AElig;','AE',text)\n",
    "    text = re.sub(r'&oelig;','oe',text)\n",
    "    text = re.sub(r'&OElig;','OE',text)\n",
    "    \n",
    "    text = re.sub('\\x00',' ',text)\n",
    "    \n",
    "    text = text.lower()\n",
    "    \n",
    "    text = replacer.replace(text)\n",
    "    \n",
    "\n",
    "    text= re.sub(r'&lt;','<',text)\n",
    "    text= re.sub(r'&gt;','>',text)    \n",
    "    \n",
    "    punctuation =\"\\\"#$%&\\'()*+,-/:;<=>@[\\]^_`{|}~.?!\"\n",
    "    translator = str.maketrans({key: \" \" for key in punctuation})\n",
    "    text = text.translate(translator)\n",
    "    \n",
    "    translator = str.maketrans({key: \" \" for key in '0123456789'})\n",
    "    text = text.translate(translator)\n",
    "\n",
    "    remove_list = [r'\\bthe latin library\\b',\n",
    "                   r'\\bthe classics page\\b',\n",
    "                   r'\\bneo-latin\\b', \n",
    "                   r'\\bmedieval latin\\b',\n",
    "                   r'\\bchristian latin\\b',\n",
    "                   r'\\bthe miscellany\\b'\n",
    "                  ]\n",
    "\n",
    "    for pattern in remove_list:\n",
    "        text = re.sub(pattern, '', text)\n",
    "    \n",
    "    text = re.sub('[ ]+',' ', text) # Remove double spaces\n",
    "    text = re.sub('\\s+\\n+\\s+','\\n', text) # Remove double lines and trim spaces around new lines\n",
    "    \n",
    "    return text"
   ]
  },
  {
   "cell_type": "code",
   "execution_count": 80,
   "metadata": {
    "collapsed": false
   },
   "outputs": [],
   "source": [
    "# Preprocess Latin Library\n",
    "\n",
    "ll_text = preprocess(ll_raw)"
   ]
  },
  {
   "cell_type": "code",
   "execution_count": 114,
   "metadata": {
    "collapsed": false
   },
   "outputs": [],
   "source": [
    "# Tokenize the preprocessed text on white space; no need for enclitic splitting, etc. here\n",
    "\n",
    "ll_tokens = ll_text.split()\n",
    "\n",
    "# Remove tokens less than 3 letters long\n",
    "ll_tokens = [token for token in ll_tokens if len(token) > 2]\n",
    "\n",
    "# Remove tokens made up of a single character, e.g. 'aaaa'\n",
    "ll_tokens = [token for token in ll_tokens if token != len(token) * token[0]]\n"
   ]
  },
  {
   "cell_type": "markdown",
   "metadata": {},
   "source": [
    "## Find palindromes"
   ]
  },
  {
   "cell_type": "code",
   "execution_count": 122,
   "metadata": {
    "collapsed": true
   },
   "outputs": [],
   "source": [
    "# Function to test for palindromes\n",
    "\n",
    "def is_palindrome(token):\n",
    "    return token == token[::-1]"
   ]
  },
  {
   "cell_type": "code",
   "execution_count": 123,
   "metadata": {
    "collapsed": false
   },
   "outputs": [],
   "source": [
    "# Filter tokens for palindromes\n",
    "\n",
    "palindromes = [token for token in ll_tokens if is_palindrome(token)]"
   ]
  },
  {
   "cell_type": "code",
   "execution_count": 124,
   "metadata": {
    "collapsed": false
   },
   "outputs": [
    {
     "name": "stdout",
     "output_type": "stream",
     "text": [
      "[('non', 166078), ('esse', 49426), ('illi', 9922), ('ibi', 7155), ('ecce', 3662), ('tot', 3443), ('sumus', 2678), ('sis', 1526), ('usu', 1472), ('tenet', 1072)]\n"
     ]
    }
   ],
   "source": [
    "# List the 10 most frequent palindromes\n",
    "\n",
    "c = Counter(palindromes)\n",
    "print(c.most_common(10))"
   ]
  },
  {
   "cell_type": "code",
   "execution_count": 129,
   "metadata": {
    "collapsed": true
   },
   "outputs": [],
   "source": [
    "# Make a list of the longest palindromes \n",
    "\n",
    "# Keep only tokens that appear at least 3 times\n",
    "c = Counter(palindromes)\n",
    "palindromes = [k for k, c in c.items()]"
   ]
  },
  {
   "cell_type": "code",
   "execution_count": 130,
   "metadata": {
    "collapsed": false
   },
   "outputs": [
    {
     "name": "stdout",
     "output_type": "stream",
     "text": [
      "280\n",
      "['massinissam', 'simillimis', 'sarabaras', 'muratarum', 'sumeremus', 'aballaba', 'suillius', 'siluulis', 'rotator', 'senones']\n"
     ]
    }
   ],
   "source": [
    "palindromes.sort(key = len, reverse=True)\n",
    "print(len(palindromes))\n",
    "print(palindromes[:10])"
   ]
  },
  {
   "cell_type": "code",
   "execution_count": 131,
   "metadata": {
    "collapsed": false
   },
   "outputs": [
    {
     "name": "stdout",
     "output_type": "stream",
     "text": [
      "['massinissam', 'simillimis', 'sarabaras', 'muratarum', 'sumeremus', 'aballaba', 'suillius', 'siluulis', 'rotator', 'senones', 'apocopa', 'murorum', 'erepere', 'tereret', 'erexere', 'sumemus', 'sububus', 'matutam', 'mutatum', 'nomimon', 'madidam', 'sumimus', 'tingnit', 'sinonis', 'eregere', 'ccciccc', 'merorem', 'taedeat', 'sumamus', 'messem', 'mannam', 'mammam', 'mappam', 'terret', 'maiiam', 'iussui', 'marram', 'massam', 'siccis', 'iessei', 'soccos', 'saccas', 'summus', 'mullum', 'tinnit', 'murrum', 'succus', 'selles', 'reuer', 'teget', 'seres', 'ababa', 'sinis', 'atita', 'anona', 'ianai', 'acuca', 'tedet', 'eabae', 'sepes', 'siris', 'sonos', 'obibo', 'rotor', 'etate', 'neuen', 'maiam', 'ccicc', 'neten', 'subus', 'cxxxc', '\\uf8ffnon\\uf8ff', 'satas', 'tabat', 'aenea', 'taxat', 'inoni', 'aitia', 'mulum', 'egage', 'soros', 'tepet', 'iadai', 'simis', 'rogor', 'eumue', 'temet', 'minim', 'seces', 'illli', 'mutum', 'saxas', 'siuis', 'sicis', 'susus', 'sucus', 'surus', 'sudus', 'tioit', 'sefes', 'noton', 'silis', 'adeda', 'sanas', 'essse', 'itati', 'suius', 'malam', 'ogygo', 'refer', 'inani', 'solos', 'aegea', 'agaga', 'sedes', 'teret', 'cilic', 'nomon', 'seges', 'cabac', 'robor', 'sacas', 'aerea', 'seses', 'adada', 'egoge', 'ebibe', 'senes', 'sagas', 'noson', 'oeteo', 'amoma', 'sitis', 'aeaea', 'murum', 'lunul', 'tenet', 'sumus', 'aziza', 'urru', 'xiix', 'cqqc', 'anna', 'emme', 'illi', 'otto', 'iffi', 'alla', 'noon', 'bppb', 'esse', 'assa', 'acca', 'atta', 'oddo', 'issi', 'teet', 'abba', 'amma', 'arra', 'adda', 'appa', 'irri', 'ollo', 'iuui', 'suus', 'ecce', 'elle', 'icci', 'cxxc', 'siis', 'tit', 'eue', 'nhn', 'non', 'tet', 'mum', 'ana', 'fyf', 'ede', 'ama', 'nin', 'cxc', 'ada', 'bab', 'iei', 'oro', 'umu', 'iui', 'xix', 'ala', 'ere', 'odo', 'sas', 'iri', 'ded', 'usu', 'bob', 'uau', 'opo', 'aua', 'ini', 'ses', 'unu', 'ici', 'ili', 'aha', 'νον', 'ese', 'eme', 'scs', 'sos', 'gog', 'ydy', 'pap', 'nyn', 'eae', 'ata', 'cac', 'νῦν', 'tat', 'aia', 'ihi', 'oto', 'bib', 'rer', 'nan', 'ndn', 'nun', 'isi', 'oxo', 'ioi', 'geg', 'omo', 'uiu', 'kak', 'tut', 'a˝a', '渀漀渀', 'aza', 'aea', 'asa', 'did', 'pup', 'ror', 'ono', 'ibi', 'fuf', 'hoh', 'ene', 'mem', 'aga', 'imi', 'ara', 'olo', 'idi', 'rar', 'coc', 'cic', 'uou', 'gcg', 'lol', 'ipi', 'ege', 'sis', 'epe', 'mam', 'pop', 'eie', 'aba', 'ete', 'exe', 'ouo', 'nen', 'tot', 'afa', 'sus', 'igi', 'ele', 'ixi']\n"
     ]
    }
   ],
   "source": [
    "print(palindromes)"
   ]
  },
  {
   "cell_type": "code",
   "execution_count": null,
   "metadata": {
    "collapsed": true
   },
   "outputs": [],
   "source": []
  }
 ],
 "metadata": {
  "kernelspec": {
   "display_name": "Python 3",
   "language": "python",
   "name": "python3"
  },
  "language_info": {
   "codemirror_mode": {
    "name": "ipython",
    "version": 3
   },
   "file_extension": ".py",
   "mimetype": "text/x-python",
   "name": "python",
   "nbconvert_exporter": "python",
   "pygments_lexer": "ipython3",
   "version": "3.5.2"
  }
 },
 "nbformat": 4,
 "nbformat_minor": 1
}
