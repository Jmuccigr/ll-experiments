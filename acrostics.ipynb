{
 "cells": [
  {
   "cell_type": "code",
   "execution_count": 1,
   "metadata": {
    "collapsed": true
   },
   "outputs": [],
   "source": [
    "# Imports\n",
    "\n",
    "import os\n",
    "import string\n",
    "import re\n",
    "from collections import Counter\n",
    "\n",
    "from cltk.corpus.latin import latinlibrary\n",
    "from cltk.tokenize.sentence import TokenizeSentence\n",
    "from cltk.tokenize.word import WordTokenizer\n",
    "from cltk.lemmatize.latin.backoff import BackoffLatinLemmatizer\n",
    "from cltk.stem.latin.j_v import JVReplacer\n",
    "from cltk.utils.file_operations import open_pickle"
   ]
  },
  {
   "cell_type": "code",
   "execution_count": 3,
   "metadata": {
    "collapsed": true
   },
   "outputs": [],
   "source": [
    "\n",
    "\n",
    "# Set up training sentences\n",
    "\n",
    "rel_path = os.path.join('~/cltk_data/latin/model/latin_models_cltk/lemmata/backoff')\n",
    "path = os.path.expanduser(rel_path)\n",
    "\n",
    "# Check for presence of latin_pos_lemmatized_sents\n",
    "file = 'latin_pos_lemmatized_sents.pickle'      \n",
    "\n",
    "latin_pos_lemmatized_sents_path = os.path.join(path, file)\n",
    "if os.path.isfile(latin_pos_lemmatized_sents_path):\n",
    "    latin_pos_lemmatized_sents = open_pickle(latin_pos_lemmatized_sents_path)\n",
    "else:\n",
    "    latin_pos_lemmatized_sents = []\n",
    "    print('The file %s is not available in cltk_data' % file)\n",
    "\n"
   ]
  },
  {
   "cell_type": "code",
   "execution_count": 4,
   "metadata": {
    "collapsed": false
   },
   "outputs": [],
   "source": [
    "# Setup CLTK tools\n",
    "\n",
    "word_tokenizer = WordTokenizer('latin')\n",
    "sent_tokenizer = TokenizeSentence('latin')\n",
    "lemmatizer = BackoffLatinLemmatizer(latin_pos_lemmatized_sents)\n",
    "replacer = JVReplacer()"
   ]
  },
  {
   "cell_type": "code",
   "execution_count": 5,
   "metadata": {
    "collapsed": true
   },
   "outputs": [],
   "source": [
    "# Get raw text of the Latin Library\n",
    "\n",
    "ll_raw = latinlibrary.raw()"
   ]
  },
  {
   "cell_type": "code",
   "execution_count": 6,
   "metadata": {
    "collapsed": true
   },
   "outputs": [],
   "source": [
    "from cltk.corpus.latin import latinlibrary\n",
    "files = latinlibrary.fileids()"
   ]
  },
  {
   "cell_type": "code",
   "execution_count": 7,
   "metadata": {
    "collapsed": true
   },
   "outputs": [],
   "source": [
    "aeneid_files = [file for file in files if 'vergil/aen' in file]"
   ]
  },
  {
   "cell_type": "code",
   "execution_count": 8,
   "metadata": {
    "collapsed": false
   },
   "outputs": [
    {
     "name": "stdout",
     "output_type": "stream",
     "text": [
      "['vergil/aen1.txt', 'vergil/aen10.txt', 'vergil/aen11.txt', 'vergil/aen12.txt', 'vergil/aen2.txt', 'vergil/aen3.txt', 'vergil/aen4.txt', 'vergil/aen5.txt', 'vergil/aen6.txt', 'vergil/aen7.txt', 'vergil/aen8.txt', 'vergil/aen9.txt']\n"
     ]
    }
   ],
   "source": [
    "print(aeneid_files)"
   ]
  },
  {
   "cell_type": "code",
   "execution_count": 9,
   "metadata": {
    "collapsed": true
   },
   "outputs": [],
   "source": [
    "aeneid_raw = latinlibrary.raw(aeneid_files)"
   ]
  },
  {
   "cell_type": "code",
   "execution_count": 11,
   "metadata": {
    "collapsed": false
   },
   "outputs": [],
   "source": [
    "ll_words = latinlibrary.words()"
   ]
  },
  {
   "cell_type": "code",
   "execution_count": 12,
   "metadata": {
    "collapsed": true
   },
   "outputs": [],
   "source": [
    "ll_words = set(ll_words)"
   ]
  },
  {
   "cell_type": "code",
   "execution_count": 13,
   "metadata": {
    "collapsed": true
   },
   "outputs": [],
   "source": [
    "from pprint import pprint"
   ]
  },
  {
   "cell_type": "code",
   "execution_count": 14,
   "metadata": {
    "collapsed": false
   },
   "outputs": [
    {
     "name": "stdout",
     "output_type": "stream",
     "text": [
      "('Vergil: Aeneid I\\n'\n",
      " '\\t\\t \\n'\n",
      " '\\n'\n",
      " '\\t\\t \\n'\n",
      " '\\t\\t\\n'\n",
      " '\\t\\t \\n'\n",
      " '\\t\\t\\n'\n",
      " '\\t\\t \\n'\n",
      " '\\t\\t \\n'\n",
      " '\\t \\n'\n",
      " '\\t\\n'\n",
      " ' \\n'\n",
      " '\\n'\n",
      " '\\n'\n",
      " ' P. VERGILI MARONIS AENEIDOS LIBER PRIMVS \\n'\n",
      " '\\n'\n",
      " '\\n'\n",
      " ' \\n'\n",
      " '\\n'\n",
      " 'Arma virumque cano, Troiae qui primus ab oris \\n'\n",
      " 'Italiam, fato profugus, Laviniaque venit \\n'\n",
      " 'litora, multum ille et terris iactatus et alto \\n'\n",
      " 'vi superum saevae memorem Iunonis ob iram; \\n'\n",
      " 'multa quoque et bello passus, dum conderet urbem,    5 \\n'\n",
      " 'inferretque deos Latio, genus unde Latinum, \\n'\n",
      " 'Albanique patres, atque altae moenia Romae.\\n'\n",
      " ' \\n'\n",
      " '\\n'\n",
      " ' \\n'\n",
      " 'Musa, mihi causas memora, quo numine laeso, \\n'\n",
      " 'quidve dolens, regina deum tot volvere casus \\n'\n",
      " 'insignem pietate virum, tot adire labores    10 \\n'\n",
      " 'impulerit. Tantaene animis caelestibus irae?\\n'\n",
      " ' \\n'\n",
      " '\\n'\n",
      " ' \\n'\n",
      " 'Urbs antiqua fuit, Tyrii tenuere coloni, \\n'\n",
      " 'Karthago, Italiam contra Tiberinaque longe \\n'\n",
      " 'ostia, dives opum studiisque asperrima belli; \\n'\n",
      " 'quam Iuno fertur terris magis omnibus unam    15 \\n'\n",
      " 'posthabita coluisse Samo; hic illius arma, \\n'\n",
      " 'hic currus fuit; hoc regnum dea gentibus esse, \\n'\n",
      " 'si qua fata sinant, iam tum tenditque fovetque. \\n'\n",
      " 'Progeniem sed enim Troiano a sanguine duci \\n'\n",
      " 'audierat, ')\n"
     ]
    }
   ],
   "source": [
    "pprint(aeneid_raw[:1000])"
   ]
  },
  {
   "cell_type": "code",
   "execution_count": 20,
   "metadata": {
    "collapsed": false
   },
   "outputs": [],
   "source": [
    "\n",
    "\n",
    "def prepro\n",
    "\n",
    "# 1. Make the whole text lowercase\n",
    "# Use 'lower' string method\n",
    "\n",
    "aeneid_edit = aeneid_edit.lower()\n",
    "\n",
    "# 2. Remove punctuation\n",
    "# Use 'translate'\n",
    "\n",
    "from string import punctuation\n",
    "\n",
    "translator = str.maketrans({key: \" \" for key in punctuation})\n",
    "aeneid_edit = aeneid_edit.translate(translator)\n",
    "\n",
    "# 3. Remove numbers\n",
    "# Again, use 'translate'\n",
    "\n",
    "translator = str.maketrans({key: \" \" for key in '0123456789'})\n",
    "aeneid_edit = aeneid_edit.translate(translator)\n",
    "\n",
    "# 4. Normalize u/v\n",
    "# Use CLTK 'JVReplacer'\n",
    "\n",
    "from cltk.stem.latin.j_v import JVReplacer\n",
    "replacer = JVReplacer()\n",
    "\n",
    "aeneid_edit = replacer.replace(aeneid_edit)\n",
    "\n",
    "# 5. Remove English words that appear in our plaintext file\n",
    "# Use 'replace'\n",
    "\n",
    "remove_list = ['the', 'latin', 'library', 'classics', 'page']\n",
    "remove_dict = {key: ' ' for key in remove_list}\n",
    "\n",
    "for k, v in remove_dict.items():\n",
    "    aeneid_edit = aeneid_edit.replace(k,v)\n",
    "    \n",
    "aeneid_edit = re.sub('[ ]+',' ', aeneid_edit) # Remove double spaces\n",
    "aeneid_edit = re.sub('\\s+\\n+\\s+','\\n', aeneid_edit) # Remove double lines and trim spaces around new lines"
   ]
  },
  {
   "cell_type": "code",
   "execution_count": 21,
   "metadata": {
    "collapsed": false
   },
   "outputs": [
    {
     "name": "stdout",
     "output_type": "stream",
     "text": [
      "('uergil aeneid i\\n'\n",
      " 'p uergili maronis aeneidos liber primus\\n'\n",
      " 'arma uirumque cano troiae qui primus ab oris \\n'\n",
      " 'italiam fato profugus lauiniaque uenit \\n'\n",
      " 'litora multum ille et terris iactatus et alto \\n'\n",
      " 'ui superum saeuae memorem iunonis ob iram \\n'\n",
      " 'multa quoque et bello passus dum conderet urbem \\n'\n",
      " 'inferretque deos latio genus unde um \\n'\n",
      " 'albanique patres atque altae moenia romae\\n'\n",
      " 'musa mihi causas memora quo numine laeso \\n'\n",
      " 'quidue dolens regina deum tot uoluere casus \\n'\n",
      " 'insignem pietate uirum tot adire labores \\n'\n",
      " 'impulerit tantaene animis caelestibus irae\\n'\n",
      " 'urbs antiqua fuit tyrii tenuere coloni \\n'\n",
      " 'karthago italiam contra tiberinaque longe \\n'\n",
      " 'ostia diues opum studiisque asperrima belli \\n'\n",
      " 'quam iuno fertur terris magis omnibus unam \\n'\n",
      " 'posthabita coluisse samo hic illius arma \\n'\n",
      " 'hic currus fuit hoc regnum dea gentibus esse \\n'\n",
      " 'si qua fata sinant iam tum tenditque fouetque \\n'\n",
      " 'progeniem sed enim troiano a sanguine duci \\n'\n",
      " 'audierat tyrias olim quae uerteret arces \\n'\n",
      " 'hinc populum late regem belloque superbum \\n'\n",
      " 'uenturum excidio libyae sic uol')\n"
     ]
    }
   ],
   "source": [
    "pprint(aeneid_edit[:1000])"
   ]
  },
  {
   "cell_type": "code",
   "execution_count": 22,
   "metadata": {
    "collapsed": true
   },
   "outputs": [],
   "source": [
    "ll_words =[word.lower() for word in ll_words]"
   ]
  },
  {
   "cell_type": "code",
   "execution_count": 34,
   "metadata": {
    "collapsed": true
   },
   "outputs": [],
   "source": [
    "# Preprocess texts\n",
    "def preprocess(text):    \n",
    "    \n",
    "    text = text.lower()\n",
    "    \n",
    "    text = replacer.replace(text)\n",
    "    \n",
    "    text= re.sub(r'&lt;','<',text)\n",
    "    text= re.sub(r'&gt;','>',text)    \n",
    "        \n",
    "    punctuation =\"\\\"#$%&\\'()*+,-/:;<=>@[\\]^_`{|}~.?!\"\n",
    "    translator = str.maketrans({key: \" \" for key in punctuation})\n",
    "    text = text.translate(translator)\n",
    "    \n",
    "    translator = str.maketrans({key: \" \" for key in '0123456789'})\n",
    "    text = text.translate(translator)\n",
    "\n",
    "    remove_list = [r'\\bthe latin library\\b', r'\\bthe classics page\\b', r'\\bcicero\\s+?$'] \n",
    "    for pattern in remove_list:\n",
    "        text = re.sub(pattern, '', text)\n",
    "    \n",
    "    text = re.sub('[ ]+',' ', text) # Remove double spaces\n",
    "    text = re.sub('\\s+\\n+\\s+','\\n', text) # Remove double lines and trim spaces around new lines\n",
    "    \n",
    "    return text"
   ]
  },
  {
   "cell_type": "code",
   "execution_count": 35,
   "metadata": {
    "collapsed": true
   },
   "outputs": [],
   "source": [
    "ll_words_ = \" \".join(ll_words)"
   ]
  },
  {
   "cell_type": "code",
   "execution_count": 36,
   "metadata": {
    "collapsed": false
   },
   "outputs": [],
   "source": [
    "ll_words_ = preprocess(ll_words_)"
   ]
  },
  {
   "cell_type": "code",
   "execution_count": 87,
   "metadata": {
    "collapsed": false
   },
   "outputs": [],
   "source": [
    "ll_words = ll_words_.split()"
   ]
  },
  {
   "cell_type": "code",
   "execution_count": 88,
   "metadata": {
    "collapsed": false
   },
   "outputs": [
    {
     "name": "stdout",
     "output_type": "stream",
     "text": [
      "['elixatas', 'damma', 'partiti', 'summissis', 'forcipes', 'salsas', 'uiridario', 'umerale', 'amanti', 'inparem', 'uectore', 'immundabile', 'foedissime', 'uellaeae', 'circumstructum', 'purgabant', 'gratifcabatur', 'flammatis', 'adigat', 'perge', 'interuertendi', 'uaticinantem', 'condar', 'renouato', 'dignari', 'repudiati', 'gener', 'clamet', 'polyxenam', 'pr', 'diuinume', 'ursa', 'consumpsisses', 'reparandis', 'uideto', 'uelabitis', 'nsium', 'frenaret', 'nicomachus', 'meliboeus', 'aestuent', 'piternus', 'presule', 'unitate', 'transsubstantiauit', 'incipis', 'aselli', 'petrum', 'thaumaturgus', 'cogendorum', 'amputatam', 'predum', 'stipulas', 'lectum', 'praetermissio', 'instincto', 'uid', 'i', 'capillum', 'gattam', 'anselle', 'sacrarum', 'armigerorum', 'abstrahendos', 'docuit', 'remeatum', 'pr', 'migrauit', 'michea', 'castae', 'publicitu', 'fereuente', 'promotionum', 'infestiua', 'segnitatem', 'pleuto', 'monent', 'lai', 'rettuli', 'exossa', 'suptadictum', 'insolescentes', 'liberalesartes', 'euilat', 'ordo', 'dccuiiii', 'prolonga', 'excluderis', 'nebula', 'profunditatem', 'epimeiny', 'obstantes', 'abstrudi', 'succubam', 'conatos', 'coloefium', 'uitatis', 'appropinquauerunt', 'remulcebant', 'trucidandus']\n"
     ]
    }
   ],
   "source": [
    "print(ll_words[:100])"
   ]
  },
  {
   "cell_type": "code",
   "execution_count": 38,
   "metadata": {
    "collapsed": true
   },
   "outputs": [],
   "source": [
    "aeneid_edit = preprocess(aeneid_raw)"
   ]
  },
  {
   "cell_type": "code",
   "execution_count": 40,
   "metadata": {
    "collapsed": false
   },
   "outputs": [
    {
     "name": "stdout",
     "output_type": "stream",
     "text": [
      "('uergil aeneid i\\n'\n",
      " 'p uergili maronis aeneidos liber primus\\n'\n",
      " 'arma uirumque cano troiae qui primus ab oris \\n'\n",
      " 'italiam fato profugus lauiniaque uenit \\n'\n",
      " 'litora multum ille et terris iactatus et alto \\n'\n",
      " 'ui superum saeuae memorem iunonis ob iram \\n'\n",
      " 'multa quoque et bello passus dum conderet urbem \\n'\n",
      " 'inferretque deos latio genus unde latinum \\n'\n",
      " 'albanique patres atque altae moenia romae\\n'\n",
      " 'musa mihi causas memora quo numine laeso \\n'\n",
      " 'quidue dolens regina deum tot uoluere casus \\n'\n",
      " 'insignem pietate uirum tot adire labores \\n'\n",
      " 'impulerit tantaene animis caelestibus irae\\n'\n",
      " 'urbs antiqua fuit tyrii tenuere coloni \\n'\n",
      " 'karthago italiam contra tiberinaque longe \\n'\n",
      " 'ostia diues opum studiisque asperrima belli \\n'\n",
      " 'quam iuno fertur terris magis omnibus unam \\n'\n",
      " 'posthabita coluisse samo hic illius arma \\n'\n",
      " 'hic currus fuit hoc regnum dea gentibus esse \\n'\n",
      " 'si qua fata sinant iam tum tenditque fouetque \\n'\n",
      " 'progeniem sed enim troiano a sanguine duci \\n'\n",
      " 'audierat tyrias olim quae uerteret arces \\n'\n",
      " 'hinc populum late regem belloque superbum \\n'\n",
      " 'uenturum excidio libyae si')\n"
     ]
    }
   ],
   "source": [
    "pprint(aeneid_edit[:1000])"
   ]
  },
  {
   "cell_type": "code",
   "execution_count": 41,
   "metadata": {
    "collapsed": true
   },
   "outputs": [],
   "source": [
    "lines = aeneid_edit.split('\\n')"
   ]
  },
  {
   "cell_type": "code",
   "execution_count": 47,
   "metadata": {
    "collapsed": false
   },
   "outputs": [],
   "source": [
    "lines = [line for line in lines if line]"
   ]
  },
  {
   "cell_type": "code",
   "execution_count": 78,
   "metadata": {
    "collapsed": false
   },
   "outputs": [],
   "source": [
    "initials = [line[0] for line in lines]"
   ]
  },
  {
   "cell_type": "code",
   "execution_count": 52,
   "metadata": {
    "collapsed": true
   },
   "outputs": [],
   "source": [
    "matches = []"
   ]
  },
  {
   "cell_type": "code",
   "execution_count": 126,
   "metadata": {
    "collapsed": true
   },
   "outputs": [],
   "source": [
    "def find_ngrams(input_list, n):\n",
    "    temp = list(zip(*[input_list[i:] for i in range(n)]))\n",
    "    ngrams = [\"\".join(t) for t in temp]\n",
    "    return ngrams\n"
   ]
  },
  {
   "cell_type": "code",
   "execution_count": 133,
   "metadata": {
    "collapsed": false
   },
   "outputs": [],
   "source": [
    "initial_words = list()\n",
    "for i in range(6,8):\n",
    "    temp = find_ngrams(initials, i)\n",
    "    initial_words += temp"
   ]
  },
  {
   "cell_type": "code",
   "execution_count": 134,
   "metadata": {
    "collapsed": false
   },
   "outputs": [
    {
     "data": {
      "text/plain": [
       "['drancae',\n",
       " 'poseae',\n",
       " 'sagaci',\n",
       " 'tatiae',\n",
       " 'quaene',\n",
       " 'cerata',\n",
       " 'cuppis',\n",
       " 'posuit',\n",
       " 'pinasi',\n",
       " 'sagacis',\n",
       " 'audiant',\n",
       " 'arabic',\n",
       " 'calcar',\n",
       " 'trinae',\n",
       " 'aethei',\n",
       " 'coemat',\n",
       " 'concis',\n",
       " 'cainis',\n",
       " 'carpas',\n",
       " 'dantia']"
      ]
     },
     "execution_count": 134,
     "metadata": {},
     "output_type": "execute_result"
    }
   ],
   "source": [
    "list(set(initial_words) & set(ll_words))"
   ]
  },
  {
   "cell_type": "code",
   "execution_count": 117,
   "metadata": {
    "collapsed": false
   },
   "outputs": [],
   "source": [
    "sixgrams = find_ngrams(initials,6)\n",
    "sevengrams = find_ngrams(initials,7)"
   ]
  },
  {
   "cell_type": "code",
   "execution_count": 119,
   "metadata": {
    "collapsed": false
   },
   "outputs": [
    {
     "ename": "ValueError",
     "evalue": "'audiant' is not in list",
     "output_type": "error",
     "traceback": [
      "\u001b[0;31m---------------------------------------------------------------------------\u001b[0m",
      "\u001b[0;31mValueError\u001b[0m                                Traceback (most recent call last)",
      "\u001b[0;32m<ipython-input-119-61e5a16cb794>\u001b[0m in \u001b[0;36m<module>\u001b[0;34m()\u001b[0m\n\u001b[0;32m----> 1\u001b[0;31m \u001b[0msixgrams\u001b[0m\u001b[0;34m.\u001b[0m\u001b[0mindex\u001b[0m\u001b[0;34m(\u001b[0m\u001b[0;34m'audiant'\u001b[0m\u001b[0;34m)\u001b[0m\u001b[0;34m\u001b[0m\u001b[0m\n\u001b[0m",
      "\u001b[0;31mValueError\u001b[0m: 'audiant' is not in list"
     ]
    }
   ],
   "source": [
    "sixgrams.index('audiant')"
   ]
  },
  {
   "cell_type": "code",
   "execution_count": 124,
   "metadata": {
    "collapsed": false
   },
   "outputs": [
    {
     "name": "stdout",
     "output_type": "stream",
     "text": [
      "1149\n",
      "6788\n",
      "['anchemolum thalamos ausum incestare nouercae ', 'uos etiam gemini rutulis cecidistis in aruis ', 'daucia laride thymberque simillima proles ', 'indiscreta suis gratusque parentibus error ', 'at nunc dura dedit uobis discrimina pallas ']\n",
      "['sed circum late uolitans iam fama per urbes ', 'ausonias tulerat cum laomedontia pubes ', 'gramineo ripae religauit ab aggere classem', 'aeneas primique duces et pulcher iulus ', 'corpora sub ramis deponunt arboris altae ', 'instituuntque dapes et adorea liba per herbam ', 'subiciunt epulis sic iuppiter ipse monebat ']\n"
     ]
    }
   ],
   "source": [
    "print(sevengrams.index('audiant'))\n",
    "print(sevengrams.index('sagacis'))\n",
    "\n",
    "print(lines[1149:1154])\n",
    "print(lines[6788:6795])"
   ]
  },
  {
   "cell_type": "code",
   "execution_count": null,
   "metadata": {
    "collapsed": true
   },
   "outputs": [],
   "source": [
    "sevengrams.index('sagacis')"
   ]
  }
 ],
 "metadata": {
  "kernelspec": {
   "display_name": "Python 3",
   "language": "python",
   "name": "python3"
  },
  "language_info": {
   "codemirror_mode": {
    "name": "ipython",
    "version": 3
   },
   "file_extension": ".py",
   "mimetype": "text/x-python",
   "name": "python",
   "nbconvert_exporter": "python",
   "pygments_lexer": "ipython3",
   "version": "3.5.2"
  }
 },
 "nbformat": 4,
 "nbformat_minor": 1
}
