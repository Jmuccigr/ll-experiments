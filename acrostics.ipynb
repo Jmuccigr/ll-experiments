{
 "cells": [
  {
   "cell_type": "code",
   "execution_count": 1,
   "metadata": {
    "collapsed": true
   },
   "outputs": [],
   "source": [
    "# Imports\n",
    "\n",
    "import os\n",
    "import string\n",
    "import re\n",
    "from collections import Counter\n",
    "\n",
    "from pprint import pprint\n",
    "\n",
    "from cltk.corpus.latin import latinlibrary\n",
    "from cltk.tokenize.word import WordTokenizer\n",
    "from cltk.stem.latin.j_v import JVReplacer"
   ]
  },
  {
   "cell_type": "code",
   "execution_count": 2,
   "metadata": {
    "collapsed": false
   },
   "outputs": [],
   "source": [
    "# Setup CLTK tools\n",
    "\n",
    "word_tokenizer = WordTokenizer('latin')\n",
    "replacer = JVReplacer()"
   ]
  },
  {
   "cell_type": "markdown",
   "metadata": {},
   "source": [
    "## Get list of words\n",
    "We can use the Latin Library to generate a list of possible Latin words to match acrostics against by:\n",
    "- Getting the raw text of the Latin Library\n",
    "- Preproccessing the text to remove numbers, punctuation, English words, etc.\n",
    "- Tokenizing the text\n",
    "- Making a set of the tokens. For this experiment, I am going to limit the tokens to those that appear at least 25 times in the Latin Library; this should account for relatively rare words as well as things like typos."
   ]
  },
  {
   "cell_type": "code",
   "execution_count": 3,
   "metadata": {
    "collapsed": false
   },
   "outputs": [],
   "source": [
    "# Get raw text of the Latin Library\n",
    "#\n",
    "# Note that the CLTK Latin Library was updated on 3/25/17\n",
    "# to fix line breaks in some of the hexameter poems included\n",
    "# in this experiment. Please delete and reimport the\n",
    "# CLTK Latin Library corpus to follow along.\n",
    "\n",
    "ll_raw = latinlibrary.raw()"
   ]
  },
  {
   "cell_type": "code",
   "execution_count": 4,
   "metadata": {
    "collapsed": true
   },
   "outputs": [],
   "source": [
    "# Preprocess texts\n",
    "def preprocess(text):    \n",
    "\n",
    "    text = re.sub(r'&aelig;','ae',text)\n",
    "    text = re.sub(r'&AElig;','AE',text)\n",
    "    text = re.sub(r'&oelig;','oe',text)\n",
    "    text = re.sub(r'&OElig;','OE',text)\n",
    "    \n",
    "    text = text.lower()\n",
    "    \n",
    "    text = replacer.replace(text)\n",
    "    \n",
    "\n",
    "    text= re.sub(r'&lt;','<',text)\n",
    "    text= re.sub(r'&gt;','>',text)    \n",
    "    \n",
    "    punctuation =\"\\\"#$%&\\'()*+,-/:;<=>@[\\]^_`{|}~.?!\"\n",
    "    translator = str.maketrans({key: \" \" for key in punctuation})\n",
    "    text = text.translate(translator)\n",
    "    \n",
    "    translator = str.maketrans({key: \" \" for key in '0123456789'})\n",
    "    text = text.translate(translator)\n",
    "\n",
    "    remove_list = [r'\\bthe latin library\\b',\n",
    "                   r'\\bthe classics page\\b',\n",
    "                   r'\\bneo-latin\\b', \n",
    "                   r'\\bmedieval latin\\b',\n",
    "                   r'\\bchristian latin\\b',\n",
    "                   r'\\bthe miscellany\\b'\n",
    "                  ]\n",
    "\n",
    "    for pattern in remove_list:\n",
    "        text = re.sub(pattern, '', text)\n",
    "    \n",
    "    text = re.sub('[ ]+',' ', text) # Remove double spaces\n",
    "    text = re.sub('\\s+\\n+\\s+','\\n', text) # Remove double lines and trim spaces around new lines\n",
    "    \n",
    "    return text"
   ]
  },
  {
   "cell_type": "code",
   "execution_count": 5,
   "metadata": {
    "collapsed": false
   },
   "outputs": [],
   "source": [
    "# Preprocess Latin Library\n",
    "\n",
    "ll_text = preprocess(ll_raw)"
   ]
  },
  {
   "cell_type": "code",
   "execution_count": 6,
   "metadata": {
    "collapsed": false
   },
   "outputs": [],
   "source": [
    "# Tokenize the preprocessed text with the CLTK Latin Word Tokenizer\n",
    "\n",
    "ll_tokens = word_tokenizer.tokenize(ll_text)"
   ]
  },
  {
   "cell_type": "code",
   "execution_count": 7,
   "metadata": {
    "collapsed": false
   },
   "outputs": [],
   "source": [
    "# Make a set of the tokens\n",
    "\n",
    "c = Counter(ll_tokens)\n",
    "ll_min = [k for k, c in c.items() if c > 25]"
   ]
  },
  {
   "cell_type": "markdown",
   "metadata": {},
   "source": [
    "## Make list of possible acrostics in the Aeneid\n",
    "We can also use the Latin Library to generate a list of possible acrostics ine the Aeneid by:\n",
    "- Getting the text of the Aeneid from the Latin Library\n",
    "- Preproccessing\n",
    "- Getting a list of initial letters\n",
    "- Combining the initial letters into 'words'\n",
    "- Getting the intersection of the set of these 'words' with the Latin Library tokens. For this experiment, I am going to make set a range that acrostics need to be at least 4 letters long and we'll look for matches up to 10 letters long.\n"
   ]
  },
  {
   "cell_type": "code",
   "execution_count": 8,
   "metadata": {
    "collapsed": true
   },
   "outputs": [],
   "source": [
    "# Get the Aeneid texts\n",
    "\n",
    "files = latinlibrary.fileids()\n",
    "aeneid_files = [file for file in files if 'vergil/aen' in file]\n",
    "aeneid_raw = latinlibrary.raw(aeneid_files)"
   ]
  },
  {
   "cell_type": "code",
   "execution_count": 9,
   "metadata": {
    "collapsed": true
   },
   "outputs": [],
   "source": [
    "# Preprocess the Aeneid texts\n",
    "\n",
    "aeneid_edit = preprocess(aeneid_raw)"
   ]
  },
  {
   "cell_type": "code",
   "execution_count": 10,
   "metadata": {
    "collapsed": true
   },
   "outputs": [],
   "source": [
    "# Get a list of initial letters\n",
    "\n",
    "def get_lines(text):\n",
    "    lines = text.split('\\n')\n",
    "    lines = [line for line in lines if line] # Test for blank lines\n",
    "    return lines\n",
    "\n",
    "def get_initials(lines):\n",
    "    return [line[0] for line in lines]\n"
   ]
  },
  {
   "cell_type": "code",
   "execution_count": 11,
   "metadata": {
    "collapsed": true
   },
   "outputs": [],
   "source": [
    "aen_lines = get_lines(aeneid_edit)\n",
    "aen_initials = get_initials(aen_lines)"
   ]
  },
  {
   "cell_type": "code",
   "execution_count": 12,
   "metadata": {
    "collapsed": true
   },
   "outputs": [],
   "source": [
    "# Function for combining list elements into various length strings\n",
    "\n",
    "def find_ngrams(input_list, n):\n",
    "    temp = list(zip(*[input_list[i:] for i in range(n)]))\n",
    "    ngrams = [\"\".join(t) for t in temp]\n",
    "    return ngrams\n"
   ]
  },
  {
   "cell_type": "code",
   "execution_count": 13,
   "metadata": {
    "collapsed": false
   },
   "outputs": [],
   "source": [
    "# Combine initial letters into 'words'\n",
    "\n",
    "min_len = 4\n",
    "max_len = 10\n",
    "\n",
    "aen_initial_words = list()\n",
    "for i in range(min_len,max_len + 1):\n",
    "    temp = find_ngrams(aen_initials, i)\n",
    "    aen_initial_words += temp\n"
   ]
  },
  {
   "cell_type": "code",
   "execution_count": 14,
   "metadata": {
    "collapsed": false
   },
   "outputs": [
    {
     "name": "stdout",
     "output_type": "stream",
     "text": [
      "212\n",
      "['abeo', 'acsi', 'acta', 'actu', 'adae', 'addi', 'ades', 'aera', 'aeri', 'alii', 'alta', 'altas', 'alui', 'aluo', 'amet', 'anna', 'anti', 'anum', 'anus', 'apes', 'apis', 'appi', 'apto', 'arae', 'aruo', 'asse', 'assem', 'audi', 'audiant', 'auena', 'auidi', 'aula', 'aure', 'aures', 'ausa', 'ausu', 'ausum', 'beta', 'bini', 'cado', 'call', 'cane', 'cani', 'capp', 'casu', 'caua', 'cauas', 'caue', 'caui', 'cede', 'cedi', 'cena', 'cepi', 'cera', 'cham', 'char', 'citi', 'ciue', 'ciui', 'clit', 'conc', 'creo', 'dant', 'data', 'datas', 'deae', 'deas', 'dici', 'diei', 'dira', 'diro', 'diti', 'diui', 'dius', 'dona', 'donas', 'duce', 'duces', 'eant', 'eius', 'emat', 'emath', 'empto', 'enos', 'epit', 'equa', 'equae', 'erat', 'eris', 'erus', 'esca', 'escas', 'esti', 'etas', 'etsi', 'fata', 'fati', 'feta', 'fiat', 'fida', 'fila', 'filo', 'fimo', 'fine', 'fouit', 'haud', 'heia', 'hiis', 'huiu', 'indi', 'ioui', 'iouis', 'isai', 'iste', 'isti', 'istic', 'iuda', 'iussa', 'iussae', 'lata', 'latum', 'lect', 'ludum', 'maia', 'maii', 'maio', 'mars', 'mess', 'metit', 'miti', 'mole', 'mota', 'nacta', 'nata', 'nate', 'natu', 'naue', 'neae', 'neam', 'nisi', 'nota', 'olea', 'ouis', 'padi', 'papa', 'pati', 'pena', 'pias', 'pica', 'pice', 'pici', 'piis', 'pith', 'poma', 'posui', 'posuit', 'preti', 'proi', 'psal', 'puta', 'quae', 'quid', 'quit', 'rata', 'reis', 'saga', 'sagaci', 'sane', 'sata', 'sati', 'scep', 'scit', 'sent', 'sepe', 'sese', 'sient', 'siet', 'sina', 'sinai', 'sita', 'siti', 'sitit', 'siue', 'sset', 'stant', 'stas', 'stet', 'suas', 'tant', 'tito', 'trina', 'tute', 'uana', 'uani', 'uari', 'uarii', 'uase', 'uate', 'uena', 'uice', 'uidi', 'uidit', 'uiii', 'uisi', 'uiti', 'uitia', 'uiua', 'uiuum', 'uoci', 'usum', 'usus', 'uuas']\n"
     ]
    }
   ],
   "source": [
    "# Get intersection of words with LL tokens\n",
    "\n",
    "aen_acrostics = list(set(aen_initial_words) & set(ll_min))\n",
    "aen_acrostics.sort()\n",
    "print(len(aen_acrostics))\n",
    "print(aen_acrostics)"
   ]
  },
  {
   "cell_type": "code",
   "execution_count": 15,
   "metadata": {
    "collapsed": true
   },
   "outputs": [],
   "source": [
    "def return_acrostic_lines(text, word):\n",
    "    lines = get_lines(text)\n",
    "    initials = get_initials(lines)\n",
    "    grams = find_ngrams(initials, len(word))\n",
    "    return lines[grams.index(word):grams.index(word)+len(word)]"
   ]
  },
  {
   "cell_type": "code",
   "execution_count": 16,
   "metadata": {
    "collapsed": false
   },
   "outputs": [
    {
     "name": "stdout",
     "output_type": "stream",
     "text": [
      "['anchemolum thalamos ausum incestare nouercae ',\n",
      " 'uos etiam gemini rutulis cecidistis in aruis ',\n",
      " 'daucia laride thymberque simillima proles ',\n",
      " 'indiscreta suis gratusque parentibus error ',\n",
      " 'at nunc dura dedit uobis discrimina pallas ',\n",
      " 'nam tibi thymbre caput euandrius abstulit ensis ',\n",
      " 'te decisa suum laride dextera quaerit ']\n",
      "['praecipitate moras nec plura effatus at illi ',\n",
      " 'ocius incubuere omnes pariterque laborem ',\n",
      " 'sortiti fluit aes riuis aurique metallum ',\n",
      " 'uulnificusque chalybs uasta fornace liquescit ',\n",
      " 'ingentem clipeum informant unum omnia contra ',\n",
      " 'tela latinorum septenosque orbibus orbis ']\n",
      "['at medias inter caedes exsultat amazon ',\n",
      " 'unum exserta latus pugnae pharetrata camilla ',\n",
      " 'et nunc lenta manu spargens hastilia denset ',\n",
      " 'nunc ualidam dextra rapit indefessa bipennem ',\n",
      " 'aureus ex umero sonat arcus et arma dianae ']\n",
      "['uulnificusque chalybs uasta fornace liquescit ',\n",
      " 'ingentem clipeum informant unum omnia contra ',\n",
      " 'tela latinorum septenosque orbibus orbis ',\n",
      " 'impediunt alii uentosis follibus auras ',\n",
      " 'accipiunt redduntque alii stridentia tingunt ']\n",
      "['unius ob noxam et furias aiacis oilei ',\n",
      " 'ipsa iouis rapidum iaculata e nubibus ignem ',\n",
      " 'disiecitque rates euertitque aequora uentis ',\n",
      " 'illum expirantem transfixo pectore flammas ',\n",
      " 'turbine corripuit scopuloque infixit acuto ']\n",
      "['mos erat hesperio in latio quem protinus urbes ',\n",
      " 'albanae coluere sacrum nunc maxima rerum ',\n",
      " 'roma colit cum prima mouent in proelia martem ',\n",
      " 'siue getis inferre manu lacrimabile bellum ']\n"
     ]
    }
   ],
   "source": [
    "pprint(return_acrostic_lines(aeneid_edit, 'audiant'))\n",
    "pprint(return_acrostic_lines(aeneid_edit, 'posuit'))\n",
    "pprint(return_acrostic_lines(aeneid_edit, 'auena'))\n",
    "pprint(return_acrostic_lines(aeneid_edit, 'uitia'))\n",
    "pprint(return_acrostic_lines(aeneid_edit, 'uidit'))\n",
    "pprint(return_acrostic_lines(aeneid_edit, 'mars'))"
   ]
  },
  {
   "cell_type": "markdown",
   "metadata": {},
   "source": [
    "## Add Ovid's Metamorphoses"
   ]
  },
  {
   "cell_type": "code",
   "execution_count": 17,
   "metadata": {
    "collapsed": false
   },
   "outputs": [],
   "source": [
    "# Get the Metamorphoses texts\n",
    "\n",
    "files = latinlibrary.fileids()\n",
    "met_files = [file for file in files if 'ovid/ovid.met' in file]\n",
    "met_raw = latinlibrary.raw(met_files)\n",
    "met_edit = preprocess(met_raw)"
   ]
  },
  {
   "cell_type": "code",
   "execution_count": 18,
   "metadata": {
    "collapsed": true
   },
   "outputs": [],
   "source": [
    "met_lines = get_lines(met_edit)\n",
    "met_initials = get_initials(met_lines)"
   ]
  },
  {
   "cell_type": "code",
   "execution_count": 19,
   "metadata": {
    "collapsed": true
   },
   "outputs": [],
   "source": [
    "# Combine initial letters into 'words'\n",
    "\n",
    "min_len = 4\n",
    "max_len = 10\n",
    "\n",
    "met_initial_words = list()\n",
    "for i in range(min_len,max_len + 1):\n",
    "    temp = find_ngrams(met_initials, i)\n",
    "    met_initial_words += temp"
   ]
  },
  {
   "cell_type": "code",
   "execution_count": 20,
   "metadata": {
    "collapsed": true
   },
   "outputs": [],
   "source": [
    "met_lines = met_edit.split('\\n')\n",
    "met_lines = [line for line in met_lines if line]\n",
    "met_initials = [line[0] for line in met_lines]"
   ]
  },
  {
   "cell_type": "code",
   "execution_count": 21,
   "metadata": {
    "collapsed": true
   },
   "outputs": [],
   "source": [
    "met_initial_words = list()\n",
    "for i in range(7,8):\n",
    "    temp = find_ngrams(met_initials, i)\n",
    "    met_initial_words += temp"
   ]
  },
  {
   "cell_type": "code",
   "execution_count": 22,
   "metadata": {
    "collapsed": false
   },
   "outputs": [
    {
     "name": "stdout",
     "output_type": "stream",
     "text": [
      "0\n",
      "[]\n"
     ]
    }
   ],
   "source": [
    "# Get intersection of words with LL tokens\n",
    "\n",
    "met_acrostics = list(set(met_initial_words) & set(ll_min))\n",
    "met_acrostics.sort()\n",
    "print(len(met_acrostics))\n",
    "print(met_acrostics)"
   ]
  },
  {
   "cell_type": "code",
   "execution_count": 23,
   "metadata": {
    "collapsed": false
   },
   "outputs": [
    {
     "name": "stdout",
     "output_type": "stream",
     "text": [
      "['sed uenulus turni postquam mandata peregit ',\n",
      " 'auxiliumque petit uires aetolius heros ',\n",
      " 'excusat nec se aut soceri committere pugnae ',\n",
      " 'uelle sui populos aut quos e gente suorum ',\n",
      " 'armet habere ullos neue haec commenta putetis ']\n",
      "['dissimilem populo promittit origine mira',\n",
      " 'iamque erat in totas sparsurus fulmina terras \\r',\n",
      " 'sed timuit ne forte sacer tot ab ignibus aether \\r',\n",
      " 'conciperet flammas longusque ardesceret axis \\r',\n",
      " 'esse quoque in fatis reminiscitur adfore tempus \\r']\n",
      "['et dedit amplexus iniustaque iusta peregit ',\n",
      " 'non tulit in cineres labi sua phoebus eosdem ',\n",
      " 'semina sed natum flammis uteroque parentis ',\n",
      " 'eripuit geminique tulit chironis in antrum ',\n",
      " 'sperantemque sibi non falsae praemia linguae ']\n",
      "['uana diu uisa est uox auguris exitus illam ',\n",
      " 'resque probat letique genus nouitasque furoris ',\n",
      " 'namque ter ad quinos unum cephisius annum ',\n",
      " 'addiderat poteratque puer iuuenisque uideri ']\n",
      "['it tamen et tenebrae minuunt noxque atra pudorem ',\n",
      " 'nutricisque manum laeua tenet altera motu ',\n",
      " 'caecum iter explorat thalami iam limina tangit ',\n",
      " 'iamque fores aperit iam ducitur intus at illi ',\n",
      " 'poplite succiduo genua intremuere fugitque ',\n",
      " 'et color et sanguis animusque relinquit euntem ']\n",
      "['et nihil est annis uelocius ille sorore ',\n",
      " 'natus auoque suo qui conditus arbore nuper ',\n",
      " 'nuper erat genitus modo formosissimus infans ',\n",
      " 'iam iuuenis iam uir iam se formosior ipso est ',\n",
      " 'iam placet et ueneri matrisque ulciscitur ignes ']\n"
     ]
    }
   ],
   "source": [
    "pprint(return_acrostic_lines(met_edit, 'saeua'))\n",
    "pprint(return_acrostic_lines(met_edit, 'disce'))\n",
    "pprint(return_acrostic_lines(met_edit, 'enses'))\n",
    "pprint(return_acrostic_lines(met_edit, 'urna'))\n",
    "pprint(return_acrostic_lines(met_edit, 'incipe'))\n",
    "pprint(return_acrostic_lines(met_edit, 'ennii'))"
   ]
  },
  {
   "cell_type": "markdown",
   "metadata": {},
   "source": [
    "## Add Lucan's *Bellum Civile*"
   ]
  },
  {
   "cell_type": "code",
   "execution_count": 24,
   "metadata": {
    "collapsed": true
   },
   "outputs": [],
   "source": [
    "# Get the Metamorphoses texts\n",
    "\n",
    "files = latinlibrary.fileids()\n",
    "luc_files = [file for file in files if 'lucan/lucan' in file]\n",
    "luc_raw = latinlibrary.raw(luc_files)\n",
    "luc_edit = preprocess(luc_raw)"
   ]
  },
  {
   "cell_type": "code",
   "execution_count": 25,
   "metadata": {
    "collapsed": true
   },
   "outputs": [],
   "source": [
    "luc_lines = get_lines(luc_edit)\n",
    "luc_initials = get_initials(luc_lines)"
   ]
  },
  {
   "cell_type": "code",
   "execution_count": 26,
   "metadata": {
    "collapsed": true
   },
   "outputs": [],
   "source": [
    "# Combine initial letters into 'words'\n",
    "\n",
    "min_len = 4\n",
    "max_len = 10\n",
    "\n",
    "luc_initial_words = list()\n",
    "for i in range(min_len,max_len + 1):\n",
    "    temp = find_ngrams(luc_initials, i)\n",
    "    luc_initial_words += temp"
   ]
  },
  {
   "cell_type": "code",
   "execution_count": 27,
   "metadata": {
    "collapsed": true
   },
   "outputs": [],
   "source": [
    "luc_initial_words = list()\n",
    "for i in range(7,8):\n",
    "    temp = find_ngrams(luc_initials, i)\n",
    "    met_initial_words += temp"
   ]
  },
  {
   "cell_type": "code",
   "execution_count": 28,
   "metadata": {
    "collapsed": false
   },
   "outputs": [
    {
     "name": "stdout",
     "output_type": "stream",
     "text": [
      "0\n",
      "[]\n"
     ]
    }
   ],
   "source": [
    "# Get intersection of words with LL tokens\n",
    "\n",
    "luc_acrostics = list(set(luc_initial_words) & set(ll_min))\n",
    "luc_acrostics.sort()\n",
    "print(len(luc_acrostics))\n",
    "print(luc_acrostics)"
   ]
  },
  {
   "cell_type": "markdown",
   "metadata": {},
   "source": [
    "## Add *Ilias Latina*"
   ]
  },
  {
   "cell_type": "code",
   "execution_count": 29,
   "metadata": {
    "collapsed": false
   },
   "outputs": [
    {
     "name": "stdout",
     "output_type": "stream",
     "text": [
      "24\n",
      "['apta', 'arce', 'caeci', 'casa', 'dici', 'feci', 'fici', 'huic', 'init', 'ipsi', 'itali', 'niuis', 'piae', 'pios', 'scripsi', 'scripsit', 'seni', 'senio', 'siue', 'suci', 'sunt', 'tali', 'uani', 'uite']\n"
     ]
    }
   ],
   "source": [
    "files = latinlibrary.fileids()\n",
    "ilias_files = [file for file in files if 'ilias' in file]\n",
    "ilias_raw = latinlibrary.raw(ilias_files)\n",
    "ilias_edit = preprocess(ilias_raw)\n",
    "\n",
    "ilias_lines = get_lines(ilias_edit)\n",
    "ilias_initials = get_initials(ilias_lines)\n",
    "\n",
    "# Combine initial letters into 'words'\n",
    "\n",
    "min_len = 4\n",
    "max_len = 10\n",
    "\n",
    "ilias_initial_words = list()\n",
    "for i in range(min_len,max_len + 1):\n",
    "    temp = find_ngrams(ilias_initials, i)\n",
    "    ilias_initial_words += temp\n",
    "\n",
    "# Get intersection of words with LL tokens\n",
    "\n",
    "ilias_acrostics = list(set(ilias_initial_words) & set(ll_min))\n",
    "ilias_acrostics.sort()\n",
    "print(len(ilias_acrostics))\n",
    "print(ilias_acrostics)"
   ]
  },
  {
   "cell_type": "code",
   "execution_count": 30,
   "metadata": {
    "collapsed": false
   },
   "outputs": [
    {
     "name": "stdout",
     "output_type": "stream",
     "text": [
      "['acrius insurgunt troes ad achaica bella',\n",
      " 'pulsa metu uallumque et muros aggere saeptos ',\n",
      " 'transiliunt alii fossas uoluuntur in ipsas ',\n",
      " 'aduolat interea danaum metus impiger hector ']\n",
      "['alterius tenebrae tarde labentibus astris ',\n",
      " 'restabatque super tacitae pars tertia noctis ',\n",
      " 'cum danaum iussu castris aetolius heros ',\n",
      " 'egreditur sociumque sibi delegit ulixem ']\n",
      "['confugiunt portasque obiecto robore firmant ',\n",
      " 'at phryges obsidunt inclusos aggere graios ',\n",
      " 'excubituque premunt muros flammisque coronant ',\n",
      " 'cetera per campos sternunt sua corpora pubes ',\n",
      " 'indulgentque mero curas que animosque resoluunt ']\n",
      "['cum paris exitium troiae funestaque flamma ',\n",
      " 'armatum aduerso menelaum ex agmine cernit ',\n",
      " 'seque uelut uiso perterritus angue recepit ',\n",
      " 'ad socios amens quem postquam turpiter hector ']\n",
      "['dixit et has repetit per quas modo uenerat auras ',\n",
      " 'interea lucem terris dedit ignea lampas ',\n",
      " 'conuocat attonitus iussis pelopeius heros ',\n",
      " 'in coetum proceres remque omnibus ordine pandit ']\n",
      "['fertur et in uenerem flagrantibus irruit armis ',\n",
      " 'et neque quem demens ferro petat inspicit aruis ',\n",
      " 'caelestemque manum mortali uulnerat hasta ',\n",
      " 'icta petit caelum terris cytherea relictis ']\n",
      "['fluminaque et montes cumque altis oppida muris ',\n",
      " 'in quibus exercent leges annosaque iura ',\n",
      " 'certantes populi sedet illic aequus utrisque ',\n",
      " 'iudex et litem discernit fronte serena ']\n",
      "['his se defendit ducibus neptunia troia ',\n",
      " 'uicissetque dolos danaum ni fata fuissent ',\n",
      " 'iamque duae stabant acies fulgentibus armis ',\n",
      " 'cum paris exitium troiae funestaque flamma ']\n",
      "['insignem bello petit hectora quaque patebat ',\n",
      " 'nuda uiri ceruix fulgentem derigit ensem ',\n",
      " 'ille ictum celeri praeuidit callidus astu ',\n",
      " 'tergaque summisit ferrumque umbone repellit ']\n",
      "['iamque tenet portum metamque potentis homeri ',\n",
      " 'pieridum comitata cohors summitte rudentes ',\n",
      " 'sanctaque uirgineos lauro redimita capillos ',\n",
      " 'ipsa tuas depone lyras ades inclita pallas ']\n",
      "['iram pande mihi pelidae diua superbi ',\n",
      " 'tristia quae miseris iniecit funera grais ',\n",
      " 'atque animas fortes heroum tradidit orco ',\n",
      " 'latrantumque dedit rostris uolucrumque trahendos ',\n",
      " 'illorum exsangues inhumatis ossibus artus ']\n",
      "['ne contra sua dicta uelint contendere diui ',\n",
      " 'ipse per aetherias caeli delabitur auras ',\n",
      " 'umbrosisque simul consedit montibus idae ',\n",
      " 'inde acies uidet iliacas dextraque potenti ',\n",
      " 'sustinet auratas aequato pondere lances ']\n",
      "['paeoniis curat iuuenis podalirius herbis ',\n",
      " 'itque iterum in caedes horrendaque proelia uictor ',\n",
      " 'armauit fortes agamemnonis ira pelasgos ',\n",
      " 'et dolor in pugnam cunctos communis agebat ']\n",
      "['perque uiri scapulas animosaque pectora transit ',\n",
      " 'in uultus ruit ille suos calidumque cruorem ',\n",
      " 'ore uomit stratusque super sua palpitat arma ',\n",
      " 'sanguine dardanii manabant undique campi ']\n",
      "['sed iam siste gradum finemque impone labori ',\n",
      " 'calliope uatisque tui moderare carinam ',\n",
      " 'remis quem cernis stringentem litora paucis ',\n",
      " 'iamque tenet portum metamque potentis homeri ',\n",
      " 'pieridum comitata cohors summitte rudentes ',\n",
      " 'sanctaque uirgineos lauro redimita capillos ',\n",
      " 'ipsa tuas depone lyras ades inclita pallas ']\n",
      "['sed iam siste gradum finemque impone labori ',\n",
      " 'calliope uatisque tui moderare carinam ',\n",
      " 'remis quem cernis stringentem litora paucis ',\n",
      " 'iamque tenet portum metamque potentis homeri ',\n",
      " 'pieridum comitata cohors summitte rudentes ',\n",
      " 'sanctaque uirgineos lauro redimita capillos ',\n",
      " 'ipsa tuas depone lyras ades inclita pallas ',\n",
      " 'tuque faue cursu uatis iam phoebe peracto']\n",
      "['spectat atrox miseroque nequit succurrere fratri ',\n",
      " 'et nisi cessisset dextra cecidisset eadem ',\n",
      " 'nec minus in teucros armis furit alter atrides ',\n",
      " 'insequiturque acies et ferro funera miscet ']\n",
      "['spectat atrox miseroque nequit succurrere fratri ',\n",
      " 'et nisi cessisset dextra cecidisset eadem ',\n",
      " 'nec minus in teucros armis furit alter atrides ',\n",
      " 'insequiturque acies et ferro funera miscet ',\n",
      " 'obuius huic fatis occurrit ductus iniquis ']\n",
      "['sic ferus atrides aduersos fertur in hostes ',\n",
      " 'infestasque phrygum proturbat cuspide turmas ',\n",
      " 'uirtus clara ducis uires accendit achiuum ',\n",
      " 'et spes exacuit languentia militis arma ']\n",
      "['sic ruit in medios hostes calydonius heros ',\n",
      " 'uirginis armigerae monitis et numine tutus ',\n",
      " 'conuersi dant terga phryges fugientibus ille ',\n",
      " 'instat et exstructos morientum calcat aceruos ']\n",
      "['sternere caede uiros atque agmina uertere graium ',\n",
      " 'ut lupus in campis pecudes cum uidit apertis',\n",
      " 'non actor gregis ipse comes non horrida terret ',\n",
      " 'turba canum fremit esuriens et neglegit omnes ']\n",
      "['tristia quae miseris iniecit funera grais ',\n",
      " 'atque animas fortes heroum tradidit orco ',\n",
      " 'latrantumque dedit rostris uolucrumque trahendos ',\n",
      " 'illorum exsangues inhumatis ossibus artus ']\n",
      "['ut profugus laetis troiam repararet in aruis ',\n",
      " 'augustumque genus claris submitteret astris ',\n",
      " 'non clarae gentis nobis mansisset origo ',\n",
      " 'inde agit aeacides infesta cuspide teucros ']\n",
      "['uitatumque solo ferrum stetit haud mora totis ',\n",
      " 'ingentem torquet tydides uiribus hastam ',\n",
      " 'transadigitque uiri pectus pars cuspidis ante ',\n",
      " 'eminet et prodit scapulis pars altera fossis ']\n"
     ]
    }
   ],
   "source": [
    "for word in ilias_acrostics:\n",
    "    pprint(return_acrostic_lines(ilias_edit, word))"
   ]
  }
 ],
 "metadata": {
  "kernelspec": {
   "display_name": "Python 3",
   "language": "python",
   "name": "python3"
  },
  "language_info": {
   "codemirror_mode": {
    "name": "ipython",
    "version": 3
   },
   "file_extension": ".py",
   "mimetype": "text/x-python",
   "name": "python",
   "nbconvert_exporter": "python",
   "pygments_lexer": "ipython3",
   "version": "3.5.2"
  }
 },
 "nbformat": 4,
 "nbformat_minor": 1
}
