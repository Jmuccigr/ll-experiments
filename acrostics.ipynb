{
 "cells": [
  {
   "cell_type": "code",
   "execution_count": null,
   "metadata": {
    "collapsed": true
   },
   "outputs": [],
   "source": [
    "# Imports\n",
    "\n",
    "import os\n",
    "import string\n",
    "import re\n",
    "from collections import Counter\n",
    "\n",
    "from pprint import pprint\n",
    "\n",
    "from cltk.corpus.latin import latinlibrary\n",
    "from cltk.tokenize.word import WordTokenizer\n",
    "from cltk.stem.latin.j_v import JVReplacer"
   ]
  },
  {
   "cell_type": "code",
   "execution_count": null,
   "metadata": {
    "collapsed": false
   },
   "outputs": [],
   "source": [
    "# Setup CLTK tools\n",
    "\n",
    "word_tokenizer = WordTokenizer('latin')\n",
    "replacer = JVReplacer()"
   ]
  },
  {
   "cell_type": "markdown",
   "metadata": {},
   "source": [
    "## Get list of words\n",
    "We can use the Latin Library to generate a list of possible Latin words to match acrostics against by:\n",
    "- Getting the raw text of the Latin Library\n",
    "- Preproccessing the text to remove numbers, punctuation, English words, etc.\n",
    "- Tokenizing the text\n",
    "- Making a set of the tokens. For this experiment, I am going to limit the tokens to those that appear at least 25 times in the Latin Library; this should account for relatively rare words as well as things like typos."
   ]
  },
  {
   "cell_type": "code",
   "execution_count": null,
   "metadata": {
    "collapsed": false
   },
   "outputs": [],
   "source": [
    "# Get raw text of the Latin Library\n",
    "#\n",
    "# Note that the CLTK Latin Library was updated on 3/25/17\n",
    "# to fix line breaks in some of the hexameter poems included\n",
    "# in this experiment. Please delete and reimport the\n",
    "# CLTK Latin Library corpus to follow along.\n",
    "\n",
    "ll_raw = latinlibrary.raw()"
   ]
  },
  {
   "cell_type": "code",
   "execution_count": null,
   "metadata": {
    "collapsed": true
   },
   "outputs": [],
   "source": [
    "# Preprocess texts\n",
    "def preprocess(text):    \n",
    "\n",
    "    text = re.sub(r'&aelig;','ae',text)\n",
    "    text = re.sub(r'&AElig;','AE',text)\n",
    "    text = re.sub(r'&oelig;','oe',text)\n",
    "    text = re.sub(r'&OElig;','OE',text)\n",
    "    \n",
    "    text = text.lower()\n",
    "    \n",
    "    text = replacer.replace(text)\n",
    "    \n",
    "\n",
    "    text= re.sub(r'&lt;','<',text)\n",
    "    text= re.sub(r'&gt;','>',text)    \n",
    "    \n",
    "    punctuation =\"\\\"#$%&\\'()*+,-/:;<=>@[\\]^_`{|}~.?!\"\n",
    "    translator = str.maketrans({key: \" \" for key in punctuation})\n",
    "    text = text.translate(translator)\n",
    "    \n",
    "    translator = str.maketrans({key: \" \" for key in '0123456789'})\n",
    "    text = text.translate(translator)\n",
    "\n",
    "    remove_list = [r'\\bthe latin library\\b',\n",
    "                   r'\\bthe classics page\\b',\n",
    "                   r'\\bneo-latin\\b', \n",
    "                   r'\\bmedieval latin\\b',\n",
    "                   r'\\bchristian latin\\b',\n",
    "                   r'\\bthe miscellany\\b'\n",
    "                  ]\n",
    "\n",
    "    for pattern in remove_list:\n",
    "        text = re.sub(pattern, '', text)\n",
    "    \n",
    "    text = re.sub('[ ]+',' ', text) # Remove double spaces\n",
    "    text = re.sub('\\s+\\n+\\s+','\\n', text) # Remove double lines and trim spaces around new lines\n",
    "    \n",
    "    return text"
   ]
  },
  {
   "cell_type": "code",
   "execution_count": null,
   "metadata": {
    "collapsed": false
   },
   "outputs": [],
   "source": [
    "# Preprocess Latin Library\n",
    "\n",
    "ll_text = preprocess(ll_raw)"
   ]
  },
  {
   "cell_type": "code",
   "execution_count": null,
   "metadata": {
    "collapsed": false
   },
   "outputs": [],
   "source": [
    "# Tokenize the preprocessed text with the CLTK Latin Word Tokenizer\n",
    "\n",
    "ll_tokens = word_tokenizer.tokenize(ll_text)"
   ]
  },
  {
   "cell_type": "code",
   "execution_count": null,
   "metadata": {
    "collapsed": false
   },
   "outputs": [],
   "source": [
    "# Make a set of the tokens\n",
    "\n",
    "c = Counter(ll_tokens)\n",
    "ll_min = [k for k, c in c.items() if c > 25]"
   ]
  },
  {
   "cell_type": "markdown",
   "metadata": {},
   "source": [
    "## Make list of possible acrostics in the Aeneid\n",
    "We can also use the Latin Library to generate a list of possible acrostics ine the Aeneid by:\n",
    "- Getting the text of the Aeneid from the Latin Library\n",
    "- Preproccessing\n",
    "- Getting a list of initial letters\n",
    "- Combining the initial letters into 'words'\n",
    "- Getting the intersection of the set of these 'words' with the Latin Library tokens. For this experiment, I am going to make set a range that acrostics need to be at least 4 letters long and we'll look for matches up to 10 letters long.\n"
   ]
  },
  {
   "cell_type": "code",
   "execution_count": null,
   "metadata": {
    "collapsed": true
   },
   "outputs": [],
   "source": [
    "# Get the Aeneid texts\n",
    "\n",
    "files = latinlibrary.fileids()\n",
    "aeneid_files = [file for file in files if 'vergil/aen' in file]\n",
    "aeneid_raw = latinlibrary.raw(aeneid_files)"
   ]
  },
  {
   "cell_type": "code",
   "execution_count": null,
   "metadata": {
    "collapsed": true
   },
   "outputs": [],
   "source": [
    "# Preprocess the Aeneid texts\n",
    "\n",
    "aeneid_edit = preprocess(aeneid_raw)"
   ]
  },
  {
   "cell_type": "code",
   "execution_count": null,
   "metadata": {
    "collapsed": true
   },
   "outputs": [],
   "source": [
    "# Get a list of initial letters\n",
    "\n",
    "def get_lines(text):\n",
    "    lines = text.split('\\n')\n",
    "    lines = [line for line in lines if line] # Test for blank lines\n",
    "    return lines\n",
    "\n",
    "def get_initials(lines):\n",
    "    return [line[0] for line in lines]\n"
   ]
  },
  {
   "cell_type": "code",
   "execution_count": null,
   "metadata": {
    "collapsed": true
   },
   "outputs": [],
   "source": [
    "aen_lines = get_lines(aeneid_edit)\n",
    "aen_initials = get_initials(aen_lines)"
   ]
  },
  {
   "cell_type": "code",
   "execution_count": null,
   "metadata": {
    "collapsed": true
   },
   "outputs": [],
   "source": [
    "# Function for combining list elements into various length strings\n",
    "\n",
    "def find_ngrams(input_list, n):\n",
    "    temp = list(zip(*[input_list[i:] for i in range(n)]))\n",
    "    ngrams = [\"\".join(t) for t in temp]\n",
    "    return ngrams\n"
   ]
  },
  {
   "cell_type": "code",
   "execution_count": null,
   "metadata": {
    "collapsed": false
   },
   "outputs": [],
   "source": [
    "# Combine initial letters into 'words'\n",
    "\n",
    "min_len = 4\n",
    "max_len = 10\n",
    "\n",
    "aen_initial_words = list()\n",
    "for i in range(min_len,max_len + 1):\n",
    "    temp = find_ngrams(aen_initials, i)\n",
    "    aen_initial_words += temp\n"
   ]
  },
  {
   "cell_type": "code",
   "execution_count": null,
   "metadata": {
    "collapsed": false
   },
   "outputs": [],
   "source": [
    "# Get intersection of words with LL tokens\n",
    "\n",
    "aen_acrostics = list(set(aen_initial_words) & set(ll_min))\n",
    "aen_acrostics.sort()\n",
    "print(len(aen_acrostics))\n",
    "print(aen_acrostics)"
   ]
  },
  {
   "cell_type": "code",
   "execution_count": null,
   "metadata": {
    "collapsed": true
   },
   "outputs": [],
   "source": [
    "def return_acrostic_lines(text, word):\n",
    "    lines = get_lines(text)\n",
    "    initials = get_initials(lines)\n",
    "    grams = find_ngrams(initials, len(word))\n",
    "    return lines[grams.index(word):grams.index(word)+len(word)]"
   ]
  },
  {
   "cell_type": "code",
   "execution_count": null,
   "metadata": {
    "collapsed": false
   },
   "outputs": [],
   "source": [
    "pprint(return_acrostic_lines(aeneid_edit, 'audiant'))\n",
    "pprint(return_acrostic_lines(aeneid_edit, 'posuit'))\n",
    "pprint(return_acrostic_lines(aeneid_edit, 'auena'))\n",
    "pprint(return_acrostic_lines(aeneid_edit, 'uitia'))\n",
    "pprint(return_acrostic_lines(aeneid_edit, 'uidit'))\n",
    "pprint(return_acrostic_lines(aeneid_edit, 'mars'))"
   ]
  },
  {
   "cell_type": "markdown",
   "metadata": {},
   "source": [
    "## Add Ovid's Metamorphoses"
   ]
  },
  {
   "cell_type": "code",
   "execution_count": null,
   "metadata": {
    "collapsed": false
   },
   "outputs": [],
   "source": [
    "# Get the Metamorphoses texts\n",
    "\n",
    "files = latinlibrary.fileids()\n",
    "met_files = [file for file in files if 'ovid/ovid.met' in file]\n",
    "met_raw = latinlibrary.raw(met_files)\n",
    "met_edit = preprocess(met_raw)"
   ]
  },
  {
   "cell_type": "code",
   "execution_count": null,
   "metadata": {
    "collapsed": true
   },
   "outputs": [],
   "source": [
    "met_lines = get_lines(met_edit)\n",
    "met_initials = get_initials(met_lines)"
   ]
  },
  {
   "cell_type": "code",
   "execution_count": null,
   "metadata": {
    "collapsed": true
   },
   "outputs": [],
   "source": [
    "# Combine initial letters into 'words'\n",
    "\n",
    "min_len = 4\n",
    "max_len = 10\n",
    "\n",
    "met_initial_words = list()\n",
    "for i in range(min_len,max_len + 1):\n",
    "    temp = find_ngrams(met_initials, i)\n",
    "    met_initial_words += temp"
   ]
  },
  {
   "cell_type": "code",
   "execution_count": null,
   "metadata": {
    "collapsed": true
   },
   "outputs": [],
   "source": [
    "met_lines = met_edit.split('\\n')\n",
    "met_lines = [line for line in met_lines if line]\n",
    "met_initials = [line[0] for line in met_lines]"
   ]
  },
  {
   "cell_type": "code",
   "execution_count": null,
   "metadata": {
    "collapsed": true
   },
   "outputs": [],
   "source": [
    "met_initial_words = list()\n",
    "for i in range(7,8):\n",
    "    temp = find_ngrams(met_initials, i)\n",
    "    met_initial_words += temp"
   ]
  },
  {
   "cell_type": "code",
   "execution_count": null,
   "metadata": {
    "collapsed": false
   },
   "outputs": [],
   "source": [
    "# Get intersection of words with LL tokens\n",
    "\n",
    "met_acrostics = list(set(met_initial_words) & set(ll_min))\n",
    "met_acrostics.sort()\n",
    "print(len(met_acrostics))\n",
    "print(met_acrostics)"
   ]
  },
  {
   "cell_type": "code",
   "execution_count": null,
   "metadata": {
    "collapsed": false
   },
   "outputs": [],
   "source": [
    "pprint(return_acrostic_lines(met_edit, 'saeua'))\n",
    "pprint(return_acrostic_lines(met_edit, 'disce'))\n",
    "pprint(return_acrostic_lines(met_edit, 'enses'))\n",
    "pprint(return_acrostic_lines(met_edit, 'urna'))\n",
    "pprint(return_acrostic_lines(met_edit, 'incipe'))\n",
    "pprint(return_acrostic_lines(met_edit, 'ennii'))"
   ]
  },
  {
   "cell_type": "markdown",
   "metadata": {},
   "source": [
    "## Add Lucan's *Bellum Civile*"
   ]
  },
  {
   "cell_type": "code",
   "execution_count": null,
   "metadata": {
    "collapsed": true
   },
   "outputs": [],
   "source": [
    "# Get the Metamorphoses texts\n",
    "\n",
    "files = latinlibrary.fileids()\n",
    "luc_files = [file for file in files if 'lucan/lucan' in file]\n",
    "luc_raw = latinlibrary.raw(luc_files)\n",
    "luc_edit = preprocess(luc_raw)"
   ]
  },
  {
   "cell_type": "code",
   "execution_count": null,
   "metadata": {
    "collapsed": true
   },
   "outputs": [],
   "source": [
    "luc_lines = get_lines(luc_edit)\n",
    "luc_initials = get_initials(luc_lines)"
   ]
  },
  {
   "cell_type": "code",
   "execution_count": null,
   "metadata": {
    "collapsed": true
   },
   "outputs": [],
   "source": [
    "# Combine initial letters into 'words'\n",
    "\n",
    "min_len = 4\n",
    "max_len = 10\n",
    "\n",
    "luc_initial_words = list()\n",
    "for i in range(min_len,max_len + 1):\n",
    "    temp = find_ngrams(luc_initials, i)\n",
    "    luc_initial_words += temp"
   ]
  },
  {
   "cell_type": "code",
   "execution_count": null,
   "metadata": {
    "collapsed": true
   },
   "outputs": [],
   "source": [
    "luc_initial_words = list()\n",
    "for i in range(7,8):\n",
    "    temp = find_ngrams(luc_initials, i)\n",
    "    met_initial_words += temp"
   ]
  },
  {
   "cell_type": "code",
   "execution_count": null,
   "metadata": {
    "collapsed": false
   },
   "outputs": [],
   "source": [
    "# Get intersection of words with LL tokens\n",
    "\n",
    "luc_acrostics = list(set(luc_initial_words) & set(ll_min))\n",
    "luc_acrostics.sort()\n",
    "print(len(luc_acrostics))\n",
    "print(luc_acrostics)"
   ]
  },
  {
   "cell_type": "markdown",
   "metadata": {},
   "source": [
    "## Add *Ilias Latina*"
   ]
  },
  {
   "cell_type": "code",
   "execution_count": null,
   "metadata": {
    "collapsed": false
   },
   "outputs": [],
   "source": [
    "files = latinlibrary.fileids()\n",
    "ilias_files = [file for file in files if 'ilias' in file]\n",
    "ilias_raw = latinlibrary.raw(ilias_files)\n",
    "ilias_edit = preprocess(ilias_raw)\n",
    "\n",
    "ilias_lines = get_lines(ilias_edit)\n",
    "ilias_initials = get_initials(ilias_lines)\n",
    "\n",
    "# Combine initial letters into 'words'\n",
    "\n",
    "min_len = 4\n",
    "max_len = 10\n",
    "\n",
    "ilias_initial_words = list()\n",
    "for i in range(min_len,max_len + 1):\n",
    "    temp = find_ngrams(ilias_initials, i)\n",
    "    ilias_initial_words += temp\n",
    "\n",
    "# Get intersection of words with LL tokens\n",
    "\n",
    "ilias_acrostics = list(set(ilias_initial_words) & set(ll_min))\n",
    "ilias_acrostics.sort()\n",
    "print(len(ilias_acrostics))\n",
    "print(ilias_acrostics)"
   ]
  },
  {
   "cell_type": "code",
   "execution_count": null,
   "metadata": {
    "collapsed": false
   },
   "outputs": [],
   "source": [
    "for word in ilias_acrostics:\n",
    "    pprint(return_acrostic_lines(ilias_edit, word))"
   ]
  }
 ],
 "metadata": {
  "kernelspec": {
   "display_name": "Python 3",
   "language": "python",
   "name": "python3"
  },
  "language_info": {
   "codemirror_mode": {
    "name": "ipython",
    "version": 3
   },
   "file_extension": ".py",
   "mimetype": "text/x-python",
   "name": "python",
   "nbconvert_exporter": "python",
   "pygments_lexer": "ipython3",
   "version": "3.5.2"
  }
 },
 "nbformat": 4,
 "nbformat_minor": 1
}
