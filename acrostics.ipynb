{
 "cells": [
  {
   "cell_type": "code",
   "execution_count": 1,
   "metadata": {},
   "outputs": [
    {
     "name": "stdout",
     "output_type": "stream",
     "text": [
      "Arabic not supported. Install `pyarabic` library to tokenize Arabic.\n"
     ]
    }
   ],
   "source": [
    "# Imports\n",
    "\n",
    "import os\n",
    "import string\n",
    "import re\n",
    "from collections import Counter\n",
    "\n",
    "from pprint import pprint\n",
    "\n",
    "from cltk.corpus.latin import latinlibrary\n",
    "from cltk.tokenize.word import WordTokenizer\n",
    "from cltk.stem.latin.j_v import JVReplacer"
   ]
  },
  {
   "cell_type": "code",
   "execution_count": 2,
   "metadata": {
    "collapsed": true
   },
   "outputs": [],
   "source": [
    "# Setup CLTK tools\n",
    "\n",
    "word_tokenizer = WordTokenizer('latin')\n",
    "replacer = JVReplacer()"
   ]
  },
  {
   "cell_type": "markdown",
   "metadata": {},
   "source": [
    "## Get list of words\n",
    "We can use the Latin Library to generate a list of possible Latin words to match acrostics against by:\n",
    "- Getting the raw text of the Latin Library\n",
    "- Preproccessing the text to remove numbers, punctuation, English words, etc.\n",
    "- Tokenizing the text\n",
    "- Making a set of the tokens. For this experiment, I am going to limit the tokens to those that appear at least 25 times in the Latin Library; this should account for relatively rare words as well as things like typos."
   ]
  },
  {
   "cell_type": "code",
   "execution_count": 3,
   "metadata": {
    "collapsed": true
   },
   "outputs": [],
   "source": [
    "# Get raw text of the Latin Library\n",
    "#\n",
    "# Note that the CLTK Latin Library was updated on 3/25/17\n",
    "# to fix line breaks in some of the hexameter poems included\n",
    "# in this experiment. Please delete and reimport the\n",
    "# CLTK Latin Library corpus to follow along.\n",
    "\n",
    "ll_raw = latinlibrary.raw()"
   ]
  },
  {
   "cell_type": "code",
   "execution_count": 4,
   "metadata": {
    "collapsed": true
   },
   "outputs": [],
   "source": [
    "# Preprocess texts\n",
    "def preprocess(text):    \n",
    "\n",
    "    text = re.sub(r'&aelig;','ae',text)\n",
    "    text = re.sub(r'&AElig;','AE',text)\n",
    "    text = re.sub(r'&oelig;','oe',text)\n",
    "    text = re.sub(r'&OElig;','OE',text)\n",
    "    \n",
    "    text = text.lower()\n",
    "    \n",
    "    text = replacer.replace(text)\n",
    "    \n",
    "    text= re.sub(r'&lt;','<',text)\n",
    "    text= re.sub(r'&gt;','>',text)    \n",
    "    \n",
    "    punctuation =\"\\\"#$%&\\'()*+,-/:;<=>@[\\]^_`{|}~.?!\"\n",
    "    translator = str.maketrans({key: \" \" for key in punctuation})\n",
    "    text = text.translate(translator)\n",
    "    \n",
    "    translator = str.maketrans({key: \" \" for key in '0123456789'})\n",
    "    text = text.translate(translator)\n",
    "\n",
    "    remove_list = [r'\\bthe latin library\\b',\n",
    "                   r'\\bthe classics page\\b',\n",
    "                   r'\\bneo-latin\\b', \n",
    "                   r'\\bmedieval latin\\b',\n",
    "                   r'\\bchristian latin\\b',\n",
    "                   r'\\bthe miscellany\\b'\n",
    "                  ]\n",
    "\n",
    "    for pattern in remove_list:\n",
    "        text = re.sub(pattern, '', text)\n",
    "    \n",
    "    text = re.sub('[ ]+',' ', text) # Remove double spaces\n",
    "    text = re.sub('\\s+\\n+\\s+','\\n', text) # Remove double lines and trim spaces around new lines\n",
    "    \n",
    "    return text"
   ]
  },
  {
   "cell_type": "code",
   "execution_count": 5,
   "metadata": {
    "collapsed": true
   },
   "outputs": [],
   "source": [
    "# Preprocess Latin Library\n",
    "\n",
    "ll_text = preprocess(ll_raw)"
   ]
  },
  {
   "cell_type": "code",
   "execution_count": 6,
   "metadata": {
    "collapsed": true
   },
   "outputs": [],
   "source": [
    "# Tokenize the preprocessed text with the CLTK Latin Word Tokenizer\n",
    "\n",
    "ll_tokens = word_tokenizer.tokenize(ll_text)"
   ]
  },
  {
   "cell_type": "code",
   "execution_count": 7,
   "metadata": {
    "collapsed": true
   },
   "outputs": [],
   "source": [
    "# Make a set of the tokens\n",
    "\n",
    "c = Counter(ll_tokens)\n",
    "ll_min = [k for k, c in c.items() if c > 25]"
   ]
  },
  {
   "cell_type": "markdown",
   "metadata": {},
   "source": [
    "## Make list of possible acrostics in the Aeneid\n",
    "We can also use the Latin Library to generate a list of possible acrostics ine the Aeneid by:\n",
    "- Getting the text of the Aeneid from the Latin Library\n",
    "- Preproccessing\n",
    "- Getting a list of initial letters\n",
    "- Combining the initial letters into 'words'\n",
    "- Getting the intersection of the set of these 'words' with the Latin Library tokens. For this experiment, I am going to make set a range that acrostics need to be at least 4 letters long and we'll look for matches up to 10 letters long.\n"
   ]
  },
  {
   "cell_type": "code",
   "execution_count": 8,
   "metadata": {
    "collapsed": true
   },
   "outputs": [],
   "source": [
    "# Get the Aeneid texts\n",
    "\n",
    "files = latinlibrary.fileids()\n",
    "aeneid_files = [file for file in files if 'vergil/aen' in file]\n",
    "aeneid_raw = latinlibrary.raw(aeneid_files)"
   ]
  },
  {
   "cell_type": "code",
   "execution_count": 9,
   "metadata": {
    "collapsed": true
   },
   "outputs": [],
   "source": [
    "# Preprocess the Aeneid texts\n",
    "\n",
    "aeneid_edit = preprocess(aeneid_raw)"
   ]
  },
  {
   "cell_type": "code",
   "execution_count": 10,
   "metadata": {
    "collapsed": true
   },
   "outputs": [],
   "source": [
    "# Get a list of initial letters\n",
    "\n",
    "def get_lines(text):\n",
    "    lines = text.split('\\n')\n",
    "    lines = [line for line in lines if line] # Test for blank lines\n",
    "    return lines\n",
    "\n",
    "def get_initials(lines):\n",
    "    return [line[0] for line in lines]\n"
   ]
  },
  {
   "cell_type": "code",
   "execution_count": 11,
   "metadata": {
    "collapsed": true
   },
   "outputs": [],
   "source": [
    "aen_lines = get_lines(aeneid_edit)\n",
    "aen_initials = get_initials(aen_lines)"
   ]
  },
  {
   "cell_type": "code",
   "execution_count": 12,
   "metadata": {
    "collapsed": true
   },
   "outputs": [],
   "source": [
    "# Function for combining list elements into various length strings\n",
    "\n",
    "def find_ngrams(input_list, n):\n",
    "    temp = list(zip(*[input_list[i:] for i in range(n)]))\n",
    "    ngrams = [\"\".join(t) for t in temp]\n",
    "    return ngrams\n"
   ]
  },
  {
   "cell_type": "code",
   "execution_count": 13,
   "metadata": {
    "collapsed": true
   },
   "outputs": [],
   "source": [
    "# Combine initial letters into 'words'\n",
    "\n",
    "min_len = 4\n",
    "max_len = 10\n",
    "\n",
    "aen_initial_words = list()\n",
    "for i in range(min_len,max_len + 1):\n",
    "    temp = find_ngrams(aen_initials, i)\n",
    "    aen_initial_words += temp\n"
   ]
  },
  {
   "cell_type": "code",
   "execution_count": 14,
   "metadata": {},
   "outputs": [
    {
     "name": "stdout",
     "output_type": "stream",
     "text": [
      "212\n",
      "['abeo', 'acsi', 'acta', 'actu', 'adae', 'addi', 'ades', 'aera', 'aeri', 'alii', 'alta', 'altas', 'alui', 'aluo', 'amet', 'anna', 'anti', 'anum', 'anus', 'apes', 'apis', 'appi', 'apto', 'arae', 'aruo', 'asse', 'assem', 'audi', 'audiant', 'auena', 'auidi', 'aula', 'aure', 'aures', 'ausa', 'ausu', 'ausum', 'beta', 'bini', 'cado', 'call', 'cane', 'cani', 'capp', 'casu', 'caua', 'cauas', 'caue', 'caui', 'cede', 'cedi', 'cena', 'cepi', 'cera', 'cham', 'char', 'citi', 'ciue', 'ciui', 'clit', 'conc', 'creo', 'dant', 'data', 'datas', 'deae', 'deas', 'dici', 'diei', 'dira', 'diro', 'diti', 'diui', 'dius', 'dona', 'donas', 'duce', 'duces', 'eant', 'eius', 'emat', 'emath', 'empto', 'enos', 'epit', 'equa', 'equae', 'erat', 'eris', 'erus', 'esca', 'escas', 'esti', 'etas', 'etsi', 'fata', 'fati', 'feta', 'fiat', 'fida', 'fila', 'filo', 'fimo', 'fine', 'fouit', 'haud', 'heia', 'hiis', 'huiu', 'indi', 'ioui', 'iouis', 'isai', 'iste', 'isti', 'istic', 'iuda', 'iussa', 'iussae', 'lata', 'latum', 'lect', 'ludum', 'maia', 'maii', 'maio', 'mars', 'mess', 'metit', 'miti', 'mole', 'mota', 'nacta', 'nata', 'nate', 'natu', 'naue', 'neae', 'neam', 'nisi', 'nota', 'olea', 'ouis', 'padi', 'papa', 'pati', 'pena', 'pias', 'pica', 'pice', 'pici', 'piis', 'pith', 'poma', 'posui', 'posuit', 'preti', 'proi', 'psal', 'puta', 'quae', 'quid', 'quit', 'rata', 'reis', 'saga', 'sagaci', 'sane', 'sata', 'sati', 'scep', 'scit', 'sent', 'sepe', 'sese', 'sient', 'siet', 'sina', 'sinai', 'sita', 'siti', 'sitit', 'siue', 'sset', 'stant', 'stas', 'stet', 'suas', 'tant', 'tito', 'trina', 'tute', 'uana', 'uani', 'uari', 'uarii', 'uase', 'uate', 'uena', 'uice', 'uidi', 'uidit', 'uiii', 'uisi', 'uiti', 'uitia', 'uiua', 'uiuum', 'uoci', 'usum', 'usus', 'uuas']\n"
     ]
    }
   ],
   "source": [
    "# Get intersection of words with LL tokens\n",
    "\n",
    "aen_acrostics = list(set(aen_initial_words) & set(ll_min))\n",
    "aen_acrostics.sort()\n",
    "print(len(aen_acrostics))\n",
    "print(aen_acrostics)"
   ]
  },
  {
   "cell_type": "code",
   "execution_count": 15,
   "metadata": {
    "collapsed": true
   },
   "outputs": [],
   "source": [
    "def return_acrostic_lines(text, word):\n",
    "    lines = get_lines(text)\n",
    "    initials = get_initials(lines)\n",
    "    grams = find_ngrams(initials, len(word))\n",
    "    return lines[grams.index(word):grams.index(word)+len(word)]"
   ]
  },
  {
   "cell_type": "code",
   "execution_count": 16,
   "metadata": {},
   "outputs": [
    {
     "name": "stdout",
     "output_type": "stream",
     "text": [
      "['anchemolum thalamos ausum incestare nouercae ',\n",
      " 'uos etiam gemini rutulis cecidistis in aruis ',\n",
      " 'daucia laride thymberque simillima proles ',\n",
      " 'indiscreta suis gratusque parentibus error ',\n",
      " 'at nunc dura dedit uobis discrimina pallas ',\n",
      " 'nam tibi thymbre caput euandrius abstulit ensis ',\n",
      " 'te decisa suum laride dextera quaerit ']\n",
      "['praecipitate moras nec plura effatus at illi ',\n",
      " 'ocius incubuere omnes pariterque laborem ',\n",
      " 'sortiti fluit aes riuis aurique metallum ',\n",
      " 'uulnificusque chalybs uasta fornace liquescit ',\n",
      " 'ingentem clipeum informant unum omnia contra ',\n",
      " 'tela latinorum septenosque orbibus orbis ']\n",
      "['at medias inter caedes exsultat amazon ',\n",
      " 'unum exserta latus pugnae pharetrata camilla ',\n",
      " 'et nunc lenta manu spargens hastilia denset ',\n",
      " 'nunc ualidam dextra rapit indefessa bipennem ',\n",
      " 'aureus ex umero sonat arcus et arma dianae ']\n",
      "['uulnificusque chalybs uasta fornace liquescit ',\n",
      " 'ingentem clipeum informant unum omnia contra ',\n",
      " 'tela latinorum septenosque orbibus orbis ',\n",
      " 'impediunt alii uentosis follibus auras ',\n",
      " 'accipiunt redduntque alii stridentia tingunt ']\n",
      "['unius ob noxam et furias aiacis oilei ',\n",
      " 'ipsa iouis rapidum iaculata e nubibus ignem ',\n",
      " 'disiecitque rates euertitque aequora uentis ',\n",
      " 'illum expirantem transfixo pectore flammas ',\n",
      " 'turbine corripuit scopuloque infixit acuto ']\n",
      "['mos erat hesperio in latio quem protinus urbes ',\n",
      " 'albanae coluere sacrum nunc maxima rerum ',\n",
      " 'roma colit cum prima mouent in proelia martem ',\n",
      " 'siue getis inferre manu lacrimabile bellum ']\n"
     ]
    }
   ],
   "source": [
    "pprint(return_acrostic_lines(aeneid_edit, 'audiant'))\n",
    "pprint(return_acrostic_lines(aeneid_edit, 'posuit'))\n",
    "pprint(return_acrostic_lines(aeneid_edit, 'auena'))\n",
    "pprint(return_acrostic_lines(aeneid_edit, 'uitia'))\n",
    "pprint(return_acrostic_lines(aeneid_edit, 'uidit'))\n",
    "pprint(return_acrostic_lines(aeneid_edit, 'mars'))"
   ]
  },
  {
   "cell_type": "markdown",
   "metadata": {},
   "source": [
    "## Add Ovid's Metamorphoses"
   ]
  },
  {
   "cell_type": "code",
   "execution_count": 17,
   "metadata": {
    "collapsed": true
   },
   "outputs": [],
   "source": [
    "# Get the Metamorphoses texts\n",
    "\n",
    "files = latinlibrary.fileids()\n",
    "met_files = [file for file in files if 'ovid/ovid.met' in file]\n",
    "met_raw = latinlibrary.raw(met_files)\n",
    "met_edit = preprocess(met_raw)"
   ]
  },
  {
   "cell_type": "code",
   "execution_count": 18,
   "metadata": {
    "collapsed": true
   },
   "outputs": [],
   "source": [
    "met_lines = get_lines(met_edit)\n",
    "met_initials = get_initials(met_lines)"
   ]
  },
  {
   "cell_type": "code",
   "execution_count": 19,
   "metadata": {
    "collapsed": true
   },
   "outputs": [],
   "source": [
    "# Combine initial letters into 'words'\n",
    "\n",
    "min_len = 4\n",
    "max_len = 10\n",
    "\n",
    "met_initial_words = list()\n",
    "for i in range(min_len,max_len + 1):\n",
    "    temp = find_ngrams(met_initials, i)\n",
    "    met_initial_words += temp"
   ]
  },
  {
   "cell_type": "code",
   "execution_count": 20,
   "metadata": {},
   "outputs": [
    {
     "name": "stdout",
     "output_type": "stream",
     "text": [
      "242\n",
      "['abis', 'acci', 'acie', 'acsi', 'acta', 'acus', 'adae', 'adde', 'addi', 'adici', 'aeri', 'aeui', 'alio', 'amat', 'amni', 'anne', 'anni', 'apes', 'apis', 'appi', 'appio', 'apta', 'apud', 'area', 'aser', 'astu', 'auis', 'aure', 'ausi', 'ausis', 'auso', 'ausu', 'auus', 'basa', 'caes', 'call', 'calpe', 'cane', 'canes', 'capi', 'capp', 'caue', 'cauet', 'cccc', 'cepi', 'ciii', 'cita', 'cito', 'ciui', 'cott', 'cotta', 'dant', 'dati', 'deam', 'dedi', 'deis', 'delta', 'deus', 'dices', 'dici', 'diei', 'dies', 'dira', 'diri', 'disce', 'ditem', 'diti', 'dius', 'domu', 'duci', 'edat', 'edit', 'editi', 'eheu', 'eius', 'emit', 'eniti', 'enni', 'ennii', 'ense', 'enses', 'ente', 'eoas', 'equi', 'eram', 'erit', 'esca', 'esse', 'esti', 'etate', 'etsi', 'fiant', 'fida', 'fimo', 'fine', 'finees', 'fons', 'fusi', 'hanc', 'hiis', 'hiram', 'iaces', 'icta', 'icto', 'ictu', 'idea', 'idem', 'iesu', 'iiii', 'imam', 'imus', 'incipe', 'ipse', 'ipsi', 'irae', 'iram', 'iras', 'isai', 'isis', 'iste', 'isti', 'istis', 'item', 'iuda', 'iuge', 'lene', 'lina', 'liui', 'luii', 'maia', 'maii', 'maio', 'mali', 'meae', 'meas', 'meat', 'medi', 'mera', 'meram', 'mess', 'meus', 'miri', 'missi', 'moue', 'muto', 'nare', 'nata', 'nate', 'neas', 'nini', 'nisi', 'niti', 'nitido', 'niue', 'nocte', 'nona', 'nono', 'noui', 'nuda', 'odit', 'oris', 'orta', 'osee', 'otia', 'oues', 'paci', 'paea', 'pand', 'pene', 'penes', 'piae', 'pias', 'pica', 'pice', 'pici', 'pinu', 'pius', 'poti', 'quin', 'quit', 'rate', 'rati', 'rufo', 'ruis', 'saeua', 'sapit', 'sati', 'scep', 'sedi', 'sedis', 'seii', 'seio', 'seir', 'seni', 'sepe', 'sequi', 'seri', 'serit', 'sese', 'sina', 'sisti', 'siti', 'siue', 'spem', 'sset', 'stoici', 'suae', 'sues', 'suis', 'sura', 'tacta', 'tale', 'thara', 'time', 'tous', 'tuam', 'tuens', 'tuere', 'tuli', 'tune', 'tuos', 'tura', 'tuti', 'uasa', 'uati', 'uere', 'uiam', 'uias', 'uice', 'uiii', 'uino', 'uisa', 'uisi', 'uiso', 'uisu', 'uisui', 'uiua', 'urna', 'urnam', 'usus', 'utens', 'uuas']\n"
     ]
    }
   ],
   "source": [
    "# Get intersection of words with LL tokens\n",
    "\n",
    "met_acrostics = list(set(met_initial_words) & set(ll_min))\n",
    "met_acrostics.sort()\n",
    "print(len(met_acrostics))\n",
    "print(met_acrostics)"
   ]
  },
  {
   "cell_type": "code",
   "execution_count": 21,
   "metadata": {},
   "outputs": [
    {
     "name": "stdout",
     "output_type": "stream",
     "text": [
      "['sed uenulus turni postquam mandata peregit ',\n",
      " 'auxiliumque petit uires aetolius heros ',\n",
      " 'excusat nec se aut soceri committere pugnae ',\n",
      " 'uelle sui populos aut quos e gente suorum ',\n",
      " 'armet habere ullos neue haec commenta putetis ']\n",
      "['dissimilem populo promittit origine mira',\n",
      " 'iamque erat in totas sparsurus fulmina terras \\r',\n",
      " 'sed timuit ne forte sacer tot ab ignibus aether \\r',\n",
      " 'conciperet flammas longusque ardesceret axis \\r',\n",
      " 'esse quoque in fatis reminiscitur adfore tempus \\r']\n",
      "['et dedit amplexus iniustaque iusta peregit ',\n",
      " 'non tulit in cineres labi sua phoebus eosdem ',\n",
      " 'semina sed natum flammis uteroque parentis ',\n",
      " 'eripuit geminique tulit chironis in antrum ',\n",
      " 'sperantemque sibi non falsae praemia linguae ']\n",
      "['uana diu uisa est uox auguris exitus illam ',\n",
      " 'resque probat letique genus nouitasque furoris ',\n",
      " 'namque ter ad quinos unum cephisius annum ',\n",
      " 'addiderat poteratque puer iuuenisque uideri ']\n",
      "['it tamen et tenebrae minuunt noxque atra pudorem ',\n",
      " 'nutricisque manum laeua tenet altera motu ',\n",
      " 'caecum iter explorat thalami iam limina tangit ',\n",
      " 'iamque fores aperit iam ducitur intus at illi ',\n",
      " 'poplite succiduo genua intremuere fugitque ',\n",
      " 'et color et sanguis animusque relinquit euntem ']\n",
      "['et nihil est annis uelocius ille sorore ',\n",
      " 'natus auoque suo qui conditus arbore nuper ',\n",
      " 'nuper erat genitus modo formosissimus infans ',\n",
      " 'iam iuuenis iam uir iam se formosior ipso est ',\n",
      " 'iam placet et ueneri matrisque ulciscitur ignes ']\n"
     ]
    }
   ],
   "source": [
    "pprint(return_acrostic_lines(met_edit, 'saeua'))\n",
    "pprint(return_acrostic_lines(met_edit, 'disce'))\n",
    "pprint(return_acrostic_lines(met_edit, 'enses'))\n",
    "pprint(return_acrostic_lines(met_edit, 'urna'))\n",
    "pprint(return_acrostic_lines(met_edit, 'incipe'))\n",
    "pprint(return_acrostic_lines(met_edit, 'ennii'))"
   ]
  },
  {
   "cell_type": "markdown",
   "metadata": {},
   "source": [
    "## Add Lucan's *Bellum Civile*"
   ]
  },
  {
   "cell_type": "code",
   "execution_count": 22,
   "metadata": {
    "collapsed": true
   },
   "outputs": [],
   "source": [
    "# Get the Metamorphoses texts\n",
    "\n",
    "files = latinlibrary.fileids()\n",
    "luc_files = [file for file in files if 'lucan/lucan' in file]\n",
    "luc_raw = latinlibrary.raw(luc_files)\n",
    "luc_edit = preprocess(luc_raw)"
   ]
  },
  {
   "cell_type": "code",
   "execution_count": 23,
   "metadata": {
    "collapsed": true
   },
   "outputs": [],
   "source": [
    "luc_lines = get_lines(luc_edit)\n",
    "luc_initials = get_initials(luc_lines)"
   ]
  },
  {
   "cell_type": "code",
   "execution_count": 24,
   "metadata": {
    "collapsed": true
   },
   "outputs": [],
   "source": [
    "# Combine initial letters into 'words'\n",
    "\n",
    "min_len = 4\n",
    "max_len = 10\n",
    "\n",
    "luc_initial_words = list()\n",
    "for i in range(min_len,max_len + 1):\n",
    "    temp = find_ngrams(luc_initials, i)\n",
    "    luc_initial_words += temp"
   ]
  },
  {
   "cell_type": "code",
   "execution_count": 25,
   "metadata": {},
   "outputs": [
    {
     "name": "stdout",
     "output_type": "stream",
     "text": [
      "142\n",
      "['abia', 'acci', 'acta', 'acuta', 'aede', 'aetna', 'alas', 'amni', 'amnis', 'anni', 'anno', 'anus', 'apes', 'aput', 'arca', 'aser', 'asse', 'ater', 'auia', 'auiae', 'auiam', 'auis', 'auita', 'auli', 'auus', 'basi', 'cape', 'capp', 'casa', 'casu', 'caui', 'cauis', 'caus', 'chai', 'cient', 'ciui', 'ciuis', 'dato', 'deas', 'dena', 'diac', 'diui', 'ecce', 'esca', 'escas', 'esse', 'este', 'esti', 'etas', 'eundi', 'faui', 'fida', 'habui', 'haec', 'heus', 'hunc', 'icti', 'icto', 'iesse', 'imus', 'ioas', 'ipse', 'ipsi', 'ipso', 'ipsos', 'isis', 'isse', 'ista', 'istam', 'istas', 'isti', 'iugi', 'iuni', 'iunio', 'iuno', 'lota', 'meas', 'meat', 'mihi', 'naui', 'neci', 'nedi', 'neue', 'nisi', 'omni', 'opes', 'osee', 'ossa', 'pari', 'piis', 'pios', 'pius', 'pura', 'pure', 'quae', 'quam', 'rude', 'salo', 'sani', 'sanus', 'sata', 'sede', 'sedi', 'semis', 'sena', 'sene', 'sepe', 'sese', 'sies', 'sina', 'sinu', 'situ', 'siue', 'soni', 'sonis', 'spem', 'stas', 'stet', 'suas', 'suci', 'suem', 'tace', 'taces', 'tuis', 'uada', 'uani', 'uehi', 'uera', 'uiae', 'uiam', 'uici', 'uicis', 'uiii', 'uiis', 'uisa', 'uisu', 'uita', 'unco', 'unda', 'unio', 'usta', 'uuis']\n"
     ]
    }
   ],
   "source": [
    "# Get intersection of words with LL tokens\n",
    "\n",
    "luc_acrostics = list(set(luc_initial_words) & set(ll_min))\n",
    "luc_acrostics.sort()\n",
    "print(len(luc_acrostics))\n",
    "print(luc_acrostics)"
   ]
  },
  {
   "cell_type": "code",
   "execution_count": 26,
   "metadata": {},
   "outputs": [
    {
     "name": "stdout",
     "output_type": "stream",
     "text": [
      "['orbita migrantis scindit maeotida bessi ',\n",
      " 'saeua quies pelagi maestoque ignaua profundo',\n",
      " 'stagna iacentis aquae ueluti deserta regente',\n",
      " 'aequora natura cessant pontusque uetustas']\n"
     ]
    }
   ],
   "source": [
    "pprint(return_acrostic_lines(luc_edit, 'ossa'))"
   ]
  },
  {
   "cell_type": "markdown",
   "metadata": {},
   "source": [
    "## Add *Ilias Latina*"
   ]
  },
  {
   "cell_type": "code",
   "execution_count": 27,
   "metadata": {},
   "outputs": [
    {
     "name": "stdout",
     "output_type": "stream",
     "text": [
      "24\n",
      "['apta', 'arce', 'caeci', 'casa', 'dici', 'feci', 'fici', 'huic', 'init', 'ipsi', 'itali', 'niuis', 'piae', 'pios', 'scripsi', 'scripsit', 'seni', 'senio', 'siue', 'suci', 'sunt', 'tali', 'uani', 'uite']\n"
     ]
    }
   ],
   "source": [
    "files = latinlibrary.fileids()\n",
    "ilias_files = [file for file in files if 'ilias' in file]\n",
    "ilias_raw = latinlibrary.raw(ilias_files)\n",
    "ilias_edit = preprocess(ilias_raw)\n",
    "\n",
    "ilias_lines = get_lines(ilias_edit)\n",
    "ilias_initials = get_initials(ilias_lines)\n",
    "\n",
    "# Combine initial letters into 'words'\n",
    "\n",
    "min_len = 4\n",
    "max_len = 10\n",
    "\n",
    "ilias_initial_words = list()\n",
    "for i in range(min_len,max_len + 1):\n",
    "    temp = find_ngrams(ilias_initials, i)\n",
    "    ilias_initial_words += temp\n",
    "\n",
    "# Get intersection of words with LL tokens\n",
    "\n",
    "ilias_acrostics = list(set(ilias_initial_words) & set(ll_min))\n",
    "ilias_acrostics.sort()\n",
    "print(len(ilias_acrostics))\n",
    "print(ilias_acrostics)"
   ]
  },
  {
   "cell_type": "code",
   "execution_count": 28,
   "metadata": {},
   "outputs": [
    {
     "name": "stdout",
     "output_type": "stream",
     "text": [
      "['acrius insurgunt troes ad achaica bella',\n",
      " 'pulsa metu uallumque et muros aggere saeptos ',\n",
      " 'transiliunt alii fossas uoluuntur in ipsas ',\n",
      " 'aduolat interea danaum metus impiger hector ']\n",
      "['alterius tenebrae tarde labentibus astris ',\n",
      " 'restabatque super tacitae pars tertia noctis ',\n",
      " 'cum danaum iussu castris aetolius heros ',\n",
      " 'egreditur sociumque sibi delegit ulixem ']\n",
      "['confugiunt portasque obiecto robore firmant ',\n",
      " 'at phryges obsidunt inclusos aggere graios ',\n",
      " 'excubituque premunt muros flammisque coronant ',\n",
      " 'cetera per campos sternunt sua corpora pubes ',\n",
      " 'indulgentque mero curas que animosque resoluunt ']\n",
      "['cum paris exitium troiae funestaque flamma ',\n",
      " 'armatum aduerso menelaum ex agmine cernit ',\n",
      " 'seque uelut uiso perterritus angue recepit ',\n",
      " 'ad socios amens quem postquam turpiter hector ']\n",
      "['dixit et has repetit per quas modo uenerat auras ',\n",
      " 'interea lucem terris dedit ignea lampas ',\n",
      " 'conuocat attonitus iussis pelopeius heros ',\n",
      " 'in coetum proceres remque omnibus ordine pandit ']\n",
      "['fertur et in uenerem flagrantibus irruit armis ',\n",
      " 'et neque quem demens ferro petat inspicit aruis ',\n",
      " 'caelestemque manum mortali uulnerat hasta ',\n",
      " 'icta petit caelum terris cytherea relictis ']\n",
      "['fluminaque et montes cumque altis oppida muris ',\n",
      " 'in quibus exercent leges annosaque iura ',\n",
      " 'certantes populi sedet illic aequus utrisque ',\n",
      " 'iudex et litem discernit fronte serena ']\n",
      "['his se defendit ducibus neptunia troia ',\n",
      " 'uicissetque dolos danaum ni fata fuissent ',\n",
      " 'iamque duae stabant acies fulgentibus armis ',\n",
      " 'cum paris exitium troiae funestaque flamma ']\n",
      "['insignem bello petit hectora quaque patebat ',\n",
      " 'nuda uiri ceruix fulgentem derigit ensem ',\n",
      " 'ille ictum celeri praeuidit callidus astu ',\n",
      " 'tergaque summisit ferrumque umbone repellit ']\n",
      "['iamque tenet portum metamque potentis homeri ',\n",
      " 'pieridum comitata cohors summitte rudentes ',\n",
      " 'sanctaque uirgineos lauro redimita capillos ',\n",
      " 'ipsa tuas depone lyras ades inclita pallas ']\n",
      "['iram pande mihi pelidae diua superbi ',\n",
      " 'tristia quae miseris iniecit funera grais ',\n",
      " 'atque animas fortes heroum tradidit orco ',\n",
      " 'latrantumque dedit rostris uolucrumque trahendos ',\n",
      " 'illorum exsangues inhumatis ossibus artus ']\n",
      "['ne contra sua dicta uelint contendere diui ',\n",
      " 'ipse per aetherias caeli delabitur auras ',\n",
      " 'umbrosisque simul consedit montibus idae ',\n",
      " 'inde acies uidet iliacas dextraque potenti ',\n",
      " 'sustinet auratas aequato pondere lances ']\n",
      "['paeoniis curat iuuenis podalirius herbis ',\n",
      " 'itque iterum in caedes horrendaque proelia uictor ',\n",
      " 'armauit fortes agamemnonis ira pelasgos ',\n",
      " 'et dolor in pugnam cunctos communis agebat ']\n",
      "['perque uiri scapulas animosaque pectora transit ',\n",
      " 'in uultus ruit ille suos calidumque cruorem ',\n",
      " 'ore uomit stratusque super sua palpitat arma ',\n",
      " 'sanguine dardanii manabant undique campi ']\n",
      "['sed iam siste gradum finemque impone labori ',\n",
      " 'calliope uatisque tui moderare carinam ',\n",
      " 'remis quem cernis stringentem litora paucis ',\n",
      " 'iamque tenet portum metamque potentis homeri ',\n",
      " 'pieridum comitata cohors summitte rudentes ',\n",
      " 'sanctaque uirgineos lauro redimita capillos ',\n",
      " 'ipsa tuas depone lyras ades inclita pallas ']\n",
      "['sed iam siste gradum finemque impone labori ',\n",
      " 'calliope uatisque tui moderare carinam ',\n",
      " 'remis quem cernis stringentem litora paucis ',\n",
      " 'iamque tenet portum metamque potentis homeri ',\n",
      " 'pieridum comitata cohors summitte rudentes ',\n",
      " 'sanctaque uirgineos lauro redimita capillos ',\n",
      " 'ipsa tuas depone lyras ades inclita pallas ',\n",
      " 'tuque faue cursu uatis iam phoebe peracto']\n",
      "['spectat atrox miseroque nequit succurrere fratri ',\n",
      " 'et nisi cessisset dextra cecidisset eadem ',\n",
      " 'nec minus in teucros armis furit alter atrides ',\n",
      " 'insequiturque acies et ferro funera miscet ']\n",
      "['spectat atrox miseroque nequit succurrere fratri ',\n",
      " 'et nisi cessisset dextra cecidisset eadem ',\n",
      " 'nec minus in teucros armis furit alter atrides ',\n",
      " 'insequiturque acies et ferro funera miscet ',\n",
      " 'obuius huic fatis occurrit ductus iniquis ']\n",
      "['sic ferus atrides aduersos fertur in hostes ',\n",
      " 'infestasque phrygum proturbat cuspide turmas ',\n",
      " 'uirtus clara ducis uires accendit achiuum ',\n",
      " 'et spes exacuit languentia militis arma ']\n",
      "['sic ruit in medios hostes calydonius heros ',\n",
      " 'uirginis armigerae monitis et numine tutus ',\n",
      " 'conuersi dant terga phryges fugientibus ille ',\n",
      " 'instat et exstructos morientum calcat aceruos ']\n",
      "['sternere caede uiros atque agmina uertere graium ',\n",
      " 'ut lupus in campis pecudes cum uidit apertis',\n",
      " 'non actor gregis ipse comes non horrida terret ',\n",
      " 'turba canum fremit esuriens et neglegit omnes ']\n",
      "['tristia quae miseris iniecit funera grais ',\n",
      " 'atque animas fortes heroum tradidit orco ',\n",
      " 'latrantumque dedit rostris uolucrumque trahendos ',\n",
      " 'illorum exsangues inhumatis ossibus artus ']\n",
      "['ut profugus laetis troiam repararet in aruis ',\n",
      " 'augustumque genus claris submitteret astris ',\n",
      " 'non clarae gentis nobis mansisset origo ',\n",
      " 'inde agit aeacides infesta cuspide teucros ']\n",
      "['uitatumque solo ferrum stetit haud mora totis ',\n",
      " 'ingentem torquet tydides uiribus hastam ',\n",
      " 'transadigitque uiri pectus pars cuspidis ante ',\n",
      " 'eminet et prodit scapulis pars altera fossis ']\n"
     ]
    }
   ],
   "source": [
    "for word in ilias_acrostics:\n",
    "    pprint(return_acrostic_lines(ilias_edit, word))"
   ]
  },
  {
   "cell_type": "markdown",
   "metadata": {},
   "source": [
    "## Add VF's *Argonautica*"
   ]
  },
  {
   "cell_type": "code",
   "execution_count": 29,
   "metadata": {},
   "outputs": [
    {
     "name": "stdout",
     "output_type": "stream",
     "text": [
      "116\n",
      "['acie', 'acsi', 'acus', 'adde', 'alae', 'alit', 'alite', 'alla', 'alma', 'anni', 'apta', 'aqua', 'aquai', 'asina', 'asse', 'asses', 'assis', 'aulo', 'baco', 'cape', 'capi', 'capp', 'casa', 'caua', 'celi', 'cens', 'cera', 'citi', 'coit', 'coss', 'crus', 'cura', 'dant', 'data', 'dein', 'diac', 'dicti', 'diem', 'disp', 'eois', 'esse', 'fias', 'fici', 'hiis', 'hinc', 'hisp', 'iani', 'icti', 'iesu', 'iesus', 'iiii', 'indi', 'ipsa', 'ipse', 'isis', 'item', 'iure', 'laba', 'lite', 'litt', 'luci', 'lucia', 'meat', 'misi', 'mite', 'nati', 'natu', 'natus', 'neae', 'neas', 'nedum', 'niue', 'niuea', 'odia', 'opes', 'opis', 'otio', 'pace', 'paci', 'pares', 'passi', 'passis', 'peti', 'pici', 'piis', 'pios', 'pira', 'prata', 'quae', 'quin', 'rata', 'rudi', 'saetis', 'scio', 'seii', 'sina', 'sing', 'siti', 'sset', 'stas', 'stet', 'suis', 'tene', 'tito', 'tuas', 'tute', 'uana', 'ueri', 'uesci', 'ueto', 'uice', 'uiii', 'uisa', 'uisae', 'uiue', 'unam']\n"
     ]
    }
   ],
   "source": [
    "files = latinlibrary.fileids()\n",
    "vf_files = [file for file in files if 'valeriusflaccus' in file]\n",
    "vf_raw = latinlibrary.raw(vf_files)\n",
    "vf_edit = preprocess(vf_raw)\n",
    "\n",
    "vf_lines = get_lines(vf_edit)\n",
    "vf_initials = get_initials(vf_lines)\n",
    "\n",
    "# Combine initial letters into 'words'\n",
    "\n",
    "min_len = 4\n",
    "max_len = 10\n",
    "\n",
    "vf_initial_words = list()\n",
    "for i in range(min_len,max_len + 1):\n",
    "    temp = find_ngrams(vf_initials, i)\n",
    "    vf_initial_words += temp\n",
    "\n",
    "# Get intersection of words with LL tokens\n",
    "\n",
    "vf_acrostics = list(set(vf_initial_words) & set(ll_min))\n",
    "vf_acrostics.sort()\n",
    "print(len(vf_acrostics))\n",
    "print(vf_acrostics)"
   ]
  },
  {
   "cell_type": "code",
   "execution_count": 30,
   "metadata": {},
   "outputs": [
    {
     "name": "stdout",
     "output_type": "stream",
     "text": [
      "['arripit et longa styrus prospectat ab unda ',\n",
      " 'coniugio atque iterum sponsae flammatus amore ',\n",
      " 'iamque alii clipeos et tela trabalia dextris ',\n",
      " 'expediunt armant alii picis unguine flammas ']\n",
      "['antraque deprensae tremuerunt conscia culpae ',\n",
      " 'cum trepida inachiae paelex subit ora iuuencae ',\n",
      " 'sponte dei plausu fouet hanc et pectora mulcet ',\n",
      " 'iuno renidenti cohibens suspiria uultu ']\n",
      "['aeetae sociare manus scio perfida regis ',\n",
      " 'corda quidem nullos minyis exsoluet honores ',\n",
      " 'uerum alios tunc ipsa dolos alia orsa mouebo',\n",
      " 'sint precor haec tua namque mihi comitanda potestas ']\n",
      "['aeoliae nec opina domus sat magna laborum ',\n",
      " 'dona fero satis hoc uisu quaecumque rependo ',\n",
      " 'dixit et in sueten magnique in fata ceramni ',\n",
      " 'emicuit clipeumque rotans hunc poplite caeso ']\n",
      "['ausus et inducto cratem defendere tergo ',\n",
      " 'laeta mari tum signa refert plenasque mouebant ',\n",
      " 'armentis nuribusque rates et barbara uestis ',\n",
      " 'et torques insigne loci sonat aequore clamor']\n",
      "['arma umeris regem inde petens superabat ouanti ',\n",
      " 'litora tuta gradu qualis per pascua uictor ',\n",
      " 'ingreditur tum colla tumens tum celsior armis ',\n",
      " 'taurus ubi adsueti pecoris stabula alta reuisit ']\n",
      "['arma umeris regem inde petens superabat ouanti ',\n",
      " 'litora tuta gradu qualis per pascua uictor ',\n",
      " 'ingreditur tum colla tumens tum celsior armis ',\n",
      " 'taurus ubi adsueti pecoris stabula alta reuisit ',\n",
      " 'et patrium nemus et bello quos ultus amores']\n",
      "['adiungit custos argus placet inscia somni ',\n",
      " 'lumina non aliter toto cui uertice quam si ',\n",
      " 'lyda nurus sparso telas maculauerit ostro ',\n",
      " 'argus et in scopulos et monstris horrida lustra ']\n",
      "['atque hos in medio duri discrimine belli ',\n",
      " 'laudibus inque ipsis gaudens ubi uidit iason',\n",
      " 'macte ait o nostrum genus et iam certa propago ',\n",
      " 'aeoliae nec opina domus sat magna laborum ']\n",
      "['altricemque niuem festinaque taedia uitae ',\n",
      " 'non nos aut leuibus componere bracchia remis ',\n",
      " 'nouimus aut uentos opus exspectare ferentes ',\n",
      " 'imus equis qua uel medio riget aequore pontus ']\n",
      "['at memor aesonides nimium iam uera locuti ',\n",
      " 'phineos hinc alios rapto pauet idmone luctus ',\n",
      " 'tum comiti pia iusta tulit caelataque multa ',\n",
      " 'arte dolionii donat uelamina regis ']\n",
      "['arietat et canthum sequitur canthumque reposcit ',\n",
      " 'quem manus a tergo socium rapit atque receptum ',\n",
      " 'uirginis euryales curru locat aduolat ipsa ',\n",
      " 'ac simul haemonidae gesandrumque omnis in unum ']\n",
      "['arietat et canthum sequitur canthumque reposcit ',\n",
      " 'quem manus a tergo socium rapit atque receptum ',\n",
      " 'uirginis euryales curru locat aduolat ipsa ',\n",
      " 'ac simul haemonidae gesandrumque omnis in unum ',\n",
      " 'it manus ille nouas acies et uirginis arma ']\n",
      "['aspectu in misero tota cum protinus alnus ',\n",
      " 'soluitur et uasto puppis mare sorbet hiatu ',\n",
      " 'illam huc atque illuc nunc torquens uerberat eurus ',\n",
      " 'nunc stridens zephyris aufert notus undique feruent',\n",
      " 'aequora cum subitus trifida neptunus in hasta ']\n",
      "['accipiam cedantque tuae mea facta iuuentae ',\n",
      " 'sic ait ille suo conlapsam pectore matrem ',\n",
      " 'sustinuit magnaque senem ceruice recepit',\n",
      " 'et iam finis erat zephyrumque ratemque morantes']\n",
      "['accipiam cedantque tuae mea facta iuuentae ',\n",
      " 'sic ait ille suo conlapsam pectore matrem ',\n",
      " 'sustinuit magnaque senem ceruice recepit',\n",
      " 'et iam finis erat zephyrumque ratemque morantes',\n",
      " 'soluerat amplexus tristi tuba tertia signo ']\n",
      "['audiet et flaui quam tristis nata lycormae ',\n",
      " 'sic ait et celerem frondosa per auia ceruum ',\n",
      " 'suscitat ac iuueni sublimem cornibus offert ',\n",
      " 'ille animos tardusque fugae longumque resistens ',\n",
      " 'sollicitat suadetque pari contendere cursu ']\n",
      "['agmina non usquam uidet utque iterum intrat ',\n",
      " 'uociferans iterum belli diuersa peragrat ',\n",
      " 'lancea caeruleas circum strepit incita uittas ',\n",
      " 'opprimit admissis ferus hinc gesander habenis ']\n",
      "['bellatrix tunc gleba quati pariterque creari ',\n",
      " 'armarique phalanx totisque insurgere campis ',\n",
      " 'cessit et ad socios paulum se rettulit heros ',\n",
      " 'opperiens ubi prima sibi daret agmina tellus ']\n",
      "['carius o mihi patre caput modo saeua quierunt ',\n",
      " 'aequora sic portus fugeret ratis aspera si te ',\n",
      " 'plias in aduersae tenuisset litore thraces ',\n",
      " 'ergo moras caelo cursumque tenentibus undis ']\n",
      "['carmina nunc totos uoluit figitque per artus ',\n",
      " 'aesonidae et totum septeno murmure fertur ',\n",
      " 'per clipeum atque uiro grauiorem reddidit hastam ',\n",
      " 'iamque sui tauris languent absentibus ignes']\n",
      "['cum subitas uidere rates uibrataque flammis ',\n",
      " 'aequora non una minyae formidine surgunt ',\n",
      " 'primus et in puppem deserta uirgine ductor ',\n",
      " 'prosilit et summa galeam rapit altus ab hasta ']\n",
      "['currus et euectae prono laxantur habenae ',\n",
      " 'aethere cum palmas tethys grandaeua sinusque ',\n",
      " 'sustulit et rupto sonuit sacer aequore titan ',\n",
      " 'auxerat hora metus iam se uertentis olympi ']\n",
      "['consilia atque aliquem bello ferat anxia finem',\n",
      " 'at minyae tanti reputantes ultima belli ',\n",
      " 'urgent et precibus cuncti fremituque fatigant ',\n",
      " 'aesoniden quid se externa pro uirgine clausos ']\n",
      "['conseruere manu et longe iacuere perempti',\n",
      " 'ecce grauem nodis pinguique bitumine quassans ',\n",
      " 'lampada turbata phlegyas decurrit ab urbe ',\n",
      " 'ille leues de more manus aciemque pelasgum ']\n",
      "['cogere tu medios gladio bonus ire per hostes ',\n",
      " 'euryte nec patrio minyis ignobilis usu ',\n",
      " 'nuntia uerba ducis populis qui reddit echion',\n",
      " 'sed non iphi tuis argo reditura lacertis ']\n",
      "['conticuit patriae exitium crudele senectae ',\n",
      " 'et tot acerba canens heu diuis uisa sinistris ',\n",
      " 'regna mihi quinam reditus quae me hospita tellus ',\n",
      " 'accipiet quae non primis prohibebit harenis ']\n",
      "['cunctaturque tamen totique occurrere bello ',\n",
      " 'ipse cupit spes nulla datur sic undique densant ',\n",
      " 'terrigenae iam signa duces clamorque tubaeque ',\n",
      " 'iamque omnes uidere uirum iamque omnia contra ']\n",
      "['colchida iam et regis caput hic atque arma uideres ',\n",
      " 'olim annis ille ardor hebet necdum mea proles ',\n",
      " 'imperio et belli rebus matura marique ',\n",
      " 'tu cui iam curaeque uigent animique uiriles']\n",
      "['cui genitor tribuit monitu praenoscere diuum ',\n",
      " 'omina seu flammas seu lubrica comminus exta ',\n",
      " 'seu plenum certis interroget aera pinnis ',\n",
      " 'sic sociis mopsoque canit quantum augur apollo ']\n",
      "['consilia et monitis cedo minor haec ubi fata ',\n",
      " 'rursus ad haemonii iuuenis curamque metumque ',\n",
      " 'uertitur hunc solum propter seu uiuere gaudens ',\n",
      " 'siue mori quodcumque uelit maiora precatur ']\n",
      "['cum comes orsa loqui phoebi genitoris ad aras ',\n",
      " 'uentum ait huc adytis iam se de more paternis ',\n",
      " 'rex feret hic proceres audit populosque precantes ',\n",
      " 'adloquiis facilis praesens pater admonet aequi']\n",
      "['duc precor ad uestri quicumque est ora tyranni ',\n",
      " 'ac tu prima doce fandi tempusque modumque ',\n",
      " 'nam mihi sollicito deus ignaroque locorum ',\n",
      " 'te dedit in te animos atque omnia nostra repono']\n",
      "['da precor amplexus haesuraque uerba relinque ',\n",
      " 'auribus et dulci iam nunc preme lumina dextra ',\n",
      " 'talibus alcimede maeret sed fortior aeson',\n",
      " 'attollens dictis animos o si mihi sanguis ']\n",
      "['dixerat haec pectusque suis euerberat armis ',\n",
      " 'et galeam fletu galeam singultibus implet ',\n",
      " 'ibat et in medii praeceps incendia belli ',\n",
      " 'ni prior aduersis pallas uidisset ab armis ']\n",
      "['dumque illam uariis maerentem uocibus ambit ',\n",
      " 'inque alio sermone tenet quin hoc ait audi ',\n",
      " 'atque attolle genas lacrimisque haec infit obortis',\n",
      " 'cum leuis a superis ad te modo laberer auris ']\n",
      "['da scythicas sociare domos sciat effera regis ',\n",
      " 'ira mei quem te horrifero sortitus in axe ',\n",
      " 'caucasus atque tuis quantum mitescat habenis',\n",
      " 'talibus orantem uultu grauis ille minaci ',\n",
      " 'iamdudum premit et furiis ignescit opertis ']\n",
      "['dum trepidant humilique graues timidoque uolatu ',\n",
      " 'implorant clamore patrem typhona nefando ',\n",
      " 'extulit adsurgens noctem pater imaque summis ',\n",
      " 'miscuit et mediis uox exaudita tenebris']\n",
      "['dicta placent portatque preces ad litora grais ',\n",
      " 'iphinoe nec turba nocens scelerisque recentis ',\n",
      " 'signa mouent tollitque loco cytherea timorem ',\n",
      " 'protinus ingentem procerum dux nomine taurum ']\n",
      "['emicuit calabris taurus per confraga saeptis ',\n",
      " 'obuia quaeque ruens tali se concitat ardens ',\n",
      " 'in iuga senta fuga pauet omnis conscia late ',\n",
      " 'silua pauent montes luctu succensus acerbo ']\n",
      "['ergo sacra nouat ueteris sub nocte cupressi ',\n",
      " 'sordidus et multa pallens ferrugine taurus',\n",
      " 'stabat adhuc cui caeruleae per cornua uittae ',\n"
     ]
    },
    {
     "name": "stdout",
     "output_type": "stream",
     "text": [
      " 'et taxi frons hirta comis ipse aeger anhelans ']\n",
      "['foedera et horrenda trepidam sub uirgine puppem ',\n",
      " 'impia monstriferis surgunt iam proelia campis ',\n",
      " 'ante dolos ante infidi tamen exsequar astus ',\n",
      " 'soligenae falli meriti meritique relinqui ']\n",
      "['frigidus et uiso pallescit flamma ueneno ',\n",
      " 'inicit aesonides dextram atque ardentia uincit ',\n",
      " 'cornua dein totis propendens uiribus haeret ',\n",
      " 'ille uirum atque ipsam tunc te medea recusans ']\n",
      "['hortator postquam furiis et uoce nefanda ',\n",
      " 'impulit oenides uerum cum gente domoque ',\n",
      " 'ista luet saeuaeque aderunt tua numina matri ',\n",
      " 'surge age et in duris haud umquam defice caelo ']\n",
      "['hic et iaxarten dictis stupet hospes acerbis ',\n",
      " 'immodicum linguaque grauem cui nulla minanti ',\n",
      " 'non superum non praesentis reuerentia belli ',\n",
      " 'contra autem aeetes non frustra magna superbo ']\n",
      "['hos stimulant magnaque ratem per lustra uiasque ',\n",
      " 'iussi laude canunt manifesto in lumine fauni',\n",
      " 'siluarumque deae atque elatis cornibus amnes',\n",
      " 'protinus inachiis ultro tirynthius argis ']\n",
      "['in famulas saeuire iouis quas fulmina quamquam ',\n",
      " 'aegidaque ille gerens magnas sibi legit in iras ',\n",
      " 'nunc quoque agenoreis idem decedere tectis ',\n",
      " 'imperat agnoscunt monitus iussaeque recedunt ']\n",
      "['ira mei quem te horrifero sortitus in axe ',\n",
      " 'caucasus atque tuis quantum mitescat habenis',\n",
      " 'talibus orantem uultu grauis ille minaci ',\n",
      " 'iamdudum premit et furiis ignescit opertis ']\n",
      "['inachidosque uias pelagusque emensa iuuencae ',\n",
      " 'exilia intentisque canit uidere priores ',\n",
      " 'saepe iouem in terras argiuaque regna pelasgum ',\n",
      " 'uirginis iasiae blandos descendere ad ignes ']\n",
      "['inachidosque uias pelagusque emensa iuuencae ',\n",
      " 'exilia intentisque canit uidere priores ',\n",
      " 'saepe iouem in terras argiuaque regna pelasgum ',\n",
      " 'uirginis iasiae blandos descendere ad ignes ',\n",
      " 'sentit iuno dolos curaque accensa iugali ']\n",
      "['in populos astraea iouem terrisque relictis ',\n",
      " 'inuocat adsiduo saturnia sidera questu ',\n",
      " 'insequitur niger et magnis cum fratribus eurus ',\n",
      " 'intonat aegaeo tenditque ad litora pontus ']\n",
      "['i phrygas alcides et troiae differat arma ',\n",
      " 'nunc ait eripiat dirae titana uolucri ',\n",
      " 'diua uolat defertque uiro celeranda parentis ',\n",
      " 'imperia atque alacrem laetis hortatibus implet']\n",
      "['ille leues de more manus aciemque pelasgum ',\n",
      " 'per noctem remeasse ratus pulsumque requirens ',\n",
      " 'saepe sibi uano thamyrum clamore petebat ',\n",
      " 'arduus et late fumanti nube coruscus ']\n",
      "['ille furens ira solio se proripit alto ',\n",
      " 'praecipitatque patres ipsumque ut talibus ausis ',\n",
      " 'spem sibi iam rerum uulgi leuitate serentem ',\n",
      " 'ense petit rapit inde fugam crudelia perses ']\n",
      "['incertique metu nunc longas litore uoces ',\n",
      " 'spargere nunc seris ostendere noctibus ignes ',\n",
      " 'ipse uel excelsi cum densa silentia montis ',\n",
      " 'strata uel oblatis ductor uidet aequora uentis ']\n",
      "['iamque pater maesto contristat sidera uultu ',\n",
      " 'talibus aegra mouens nequiquam pectora curis',\n",
      " 'ei mihi si durae natum subducere sorti ',\n",
      " 'moliar atque meis ausim confidere regnis ']\n",
      "['iuppiter ast illum tanto non gliscere caelo ',\n",
      " 'uellet ager uellent calidis iam fontibus amnes ',\n",
      " 'regina attonito quamquam pau or ore silentem ',\n",
      " 'exanimet mirata tamen paulumque reductis ']\n",
      "['letifer aera chalybs trepidus super aduolat idas ',\n",
      " 'ac simul oenides pariterque menoetius et qui ',\n",
      " 'bebrycio propius remeauit ab hospite uictor ',\n",
      " 'at uero ingentem telamon procul extulit orbem ']\n",
      "['litora tuta gradu qualis per pascua uictor ',\n",
      " 'ingreditur tum colla tumens tum celsior armis ',\n",
      " 'taurus ubi adsueti pecoris stabula alta reuisit ',\n",
      " 'et patrium nemus et bello quos ultus amores']\n",
      "['lemnos aquis tibi per uarios defleta labores ',\n",
      " 'ignipotens nec te furiis et crimine matrum ',\n",
      " 'terra fugat meritique piget meminisse prioris',\n",
      " 'tempore quo primum fremitus insurgere opertos ']\n",
      "['libauitque dapes placidi quas protinus angues ',\n",
      " 'umbrarum famuli linguis rapuere coruscis',\n",
      " 'continuo puppem petere et considere transtris ',\n",
      " 'imperat ampycides nec uisum uertere terrae ']\n",
      "['litora quae cornu pepulit saturnus equino',\n",
      " 'ultimus inde sinus saeuumque cubile promethei ',\n",
      " 'cernitur in gelidas consurgens caucasus arctos ',\n",
      " 'ille etiam alciden titania fata morantem ',\n",
      " 'attulerat tum forte dies iamque aspera nisu ']\n",
      "['mellis honor torynis ditant sua mulctra satarchen ',\n",
      " 'exomatas uenatus alit nec clarior ullis ',\n",
      " 'arctos equis abeunt hypanin fragilemque per undam ',\n",
      " 'tigridis aut saeuae profugi cum prole leaenae ']\n",
      "['mox abit et sociae uictor petit agmina puppis',\n",
      " 'interea minyae pulsa lue prima tonanti ',\n",
      " 'sacra nouant tum uina toris epulasque reponunt ',\n",
      " 'ipse inter medios ceu dulcis imagine somni ']\n",
      "['magnus eryx deferre uelint quem uallibus imbres ',\n",
      " 'iam breuis et telo uolucri non utilis aer ',\n",
      " 'tum uero fremitus uanique insania coepti ',\n",
      " 'et tacitus pudor et rursus pallescere uirgo ']\n",
      "['nulla palus nullus scythiae non maeret euntem ',\n",
      " 'amnis hyperboreas mouit conspecta pruinas ',\n",
      " 'tot modo regna tenens ipsi quoque murmura ponunt ',\n",
      " 'iam minyae iam ferre uolunt uix adleuat ora ']\n",
      "['non tibi nil tecum miseri pepigere parentes ',\n",
      " 'aesonide non hoc pelias euadere furto ',\n",
      " 'te iubet aut ullas colchis abducere natas ',\n",
      " 'uellus habe et nostris siquid super accipe templis ']\n",
      "['non tibi nil tecum miseri pepigere parentes ',\n",
      " 'aesonide non hoc pelias euadere furto ',\n",
      " 'te iubet aut ullas colchis abducere natas ',\n",
      " 'uellus habe et nostris siquid super accipe templis ',\n",
      " 'sed quid ego quemquam immeritis incuso querellis ']\n",
      "['nox erat et leni canebant aequora sulco ',\n",
      " 'et iam prona leues spargebant sidera somnos ',\n",
      " 'aura uehit religant tonsas ueloque procneson ',\n",
      " 'et te iam medio flauentem rhyndace ponto ']\n",
      "['nec pharetram aut acres ultra tirynthius arcus ',\n",
      " 'exercet socia sed disicit agmina claua ',\n",
      " 'ac ueluti magna iuuenum cum densa securi ',\n",
      " 'silua labat cuneisque gemit graue robur adactis ']\n",
      "['nox simul astriferas profert optabilis umbras ',\n",
      " 'et cadit extemplo belli fragor aegraque muris ',\n",
      " 'digreditur longum uirgo perpessa timorem ',\n",
      " 'ut fera nyctelii paulum per sacra resistunt ',\n",
      " 'mox rapuere deum iamiam in quodcumque paratae ']\n",
      "['natorumque locis uacuaeque in moenibus urbis ',\n",
      " 'iura nouant donant solio sceptrisque paternis ',\n",
      " 'ut meritam redeunt que piae sua praemia menti',\n",
      " 'ecce procul ualidis lemnon tendentia remis ']\n",
      "['natorumque locis uacuaeque in moenibus urbis ',\n",
      " 'iura nouant donant solio sceptrisque paternis ',\n",
      " 'ut meritam redeunt que piae sua praemia menti',\n",
      " 'ecce procul ualidis lemnon tendentia remis ',\n",
      " 'arma notant rapitur subito regina tumultu ']\n",
      "['oscula permixtumque odiis inspirat amorem ',\n",
      " 'dumque illam uariis maerentem uocibus ambit ',\n",
      " 'inque alio sermone tenet quin hoc ait audi ',\n",
      " 'atque attolle genas lacrimisque haec infit obortis']\n",
      "['omnibus atque ipsas gremiis abducere natas ',\n",
      " 'praedo libet uobisne domos uobisne parentes ',\n",
      " 'esse putem ratis infandis quos sola rapinis ',\n",
      " 'saeuaque pascit hiems et quos credamus ut ipsis ']\n",
      "['ossaque taetra situ et capitum maestissimus ordo ',\n",
      " 'per piceas quibus aduerso sub uulnere nulla ',\n",
      " 'iam facies nec nomen erat media ipsius arma ',\n",
      " 'sacra metu que magnique aris imposta parentis ']\n",
      "['omnia uipereos ipsi tibi surgere crines ',\n",
      " 'talia uerba dabat conlapsaque flebat iniquae ',\n",
      " 'in ueneris medea sinus pestemque latentem ',\n",
      " 'ossibus atque imi monstrabat pectoris ignem']\n",
      "['per freta sed sola sese uirtute sequantur ',\n",
      " 'an uero ut thalamis raptisque indulgeat unus ',\n",
      " 'coniugiis id tempus enim sat uellera grais ',\n",
      " 'et posse oblata componere uirgine bellum ']\n",
      "['princeps naualem nodosi roboris uncum ',\n",
      " 'arripit et longa styrus prospectat ab unda ',\n",
      " 'coniugio atque iterum sponsae flammatus amore ',\n",
      " 'iamque alii clipeos et tela trabalia dextris ']\n",
      "['proclamat neque opem ignoto uiresque daturam ',\n",
      " 'atque toro proiecta manet cum uisa uocari ',\n",
      " 'rursus et impulso sonuerunt cardine postes',\n",
      " 'ergo ubi nescioquo penitus se numine uinci ',\n",
      " 'sentit et abscisum quicquid pudor ante monebat ']\n",
      "['praereptum quanto proles boebeia questu ',\n",
      " 'audiet et flaui quam tristis nata lycormae ',\n",
      " 'sic ait et celerem frondosa per auia ceruum ',\n",
      " 'suscitat ac iuueni sublimem cornibus offert ',\n",
      " 'ille animos tardusque fugae longumque resistens ']\n",
      "['praereptum quanto proles boebeia questu ',\n",
      " 'audiet et flaui quam tristis nata lycormae ',\n",
      " 'sic ait et celerem frondosa per auia ceruum ',\n",
      " 'suscitat ac iuueni sublimem cornibus offert ',\n",
      " 'ille animos tardusque fugae longumque resistens ',\n",
      " 'sollicitat suadetque pari contendere cursu ']\n",
      "['progeniem diuumque minas hunc nam fore regi ',\n",
      " 'exitio uatesque canunt pecudumque per aras ',\n",
      " 'terrifici monitus iterant super ipsius ingens ',\n",
      " 'instat fama uiri uirtusque haud laeta tyranno']\n",
      "['portitor et cunctae primis stant faucibus orci ',\n",
      " 'illum ubi terrifici superesse in tempore sacri',\n",
      " 'conspexit statuit leto supremaque fatur ',\n",
      " 'ipse manu tangens damnati cornua tauri']\n",
      "['pestis et offusae media inter dicta tenebrae ',\n",
      " 'iam tandem cessere irae nec casus ab alto ',\n",
      " 'ipse uolens nostris sed uos deus adpulit oris ',\n",
      " 'sic ait et fatis ita iam cedentibus omnes ']\n",
      "['perderet et mediis intrarent montibus undae',\n",
      " 'intonuit donec pauidis ex aethere uentis ',\n",
      " 'omnipotens regemque dedit quem iussa uereri ',\n",
      " 'saeua cohors uix monte chalybs iterataque muris ']\n",
      "['portat iners tandem grauius mugire recedens ',\n",
      " 'incipit et fesso uictus descendere cornu ',\n",
      " 'respicit hinc socios immania uincula poscens ',\n",
      " 'aesonides iamque ora premit trahiturque trahitque ']\n",
      "['pastores fremitusque canum citus occupat auras ',\n",
      " 'raptor et aegaei super effugit alta profundi',\n",
      " 'accipit augurium aesonides laetusque superbi ',\n",
      " 'tecta petit peliae prior huic tum regia proles ',\n",
      " 'aduolat amplexus fraternaque pectora iungens ']\n",
      "['quae iaculo gens apta leui quae picta pharetris ',\n",
      " 'uenerit ingentes animo iam prospice campos ',\n",
      " 'atque hanc alipedi pulsantem corpora curru ',\n",
      " 'euryalen quibus exsultet mauortia turmis ']\n"
     ]
    },
    {
     "name": "stdout",
     "output_type": "stream",
     "text": [
      "['qui metus usque nouos diuae melioris ad ignes ',\n",
      " 'urbe sedent laeti minyae uiduisque uacantes ',\n",
      " 'indulgent thalamis nimbosque educere luxu ',\n",
      " 'nec iam uelle uias zephyrosque audire uocantes ']\n",
      "['raptor et aegaei super effugit alta profundi',\n",
      " 'accipit augurium aesonides laetusque superbi ',\n",
      " 'tecta petit peliae prior huic tum regia proles ',\n",
      " 'aduolat amplexus fraternaque pectora iungens ']\n",
      "['respexitque fores et adhuc inuenit euntem ',\n",
      " 'uisus et heu miserae tunc pulchrior hospes amanti ',\n",
      " 'discedens tales umeros ea terga relinquit ',\n",
      " 'illa domum atque ipsos paulum procedere postes ']\n",
      "['stridentesque iuuant aurae phrixea subibant ',\n",
      " 'aequora et angustas quondam sine nomine fauces ',\n",
      " 'ecce autem prima uolucrem sub luce dehiscens ',\n",
      " 'terruit unda ratem uittataque constitit helle ',\n",
      " 'iam panopes thetidisque soror iamque aurea laeua ',\n",
      " 'sceptra tenens dum sternit aquas proceresque ducemque ']\n",
      "['sic ratus ille autem celeri rapit ora sinistra ',\n",
      " 'conclamant socii et subitas dant gaudia uoces ',\n",
      " 'illum insperata turbatum fraude furentemque ',\n",
      " 'oebalides prima refugit dum detonet ira ']\n",
      "['sensit et extremum nati prospexit in oras ',\n",
      " 'et quondam laetos domini certamine campos ',\n",
      " 'ingemit ac tales euoluit pectore questus',\n",
      " 'infelix imas quondam mihi rapta sub undas ']\n",
      "['soluitur et uasto puppis mare sorbet hiatu ',\n",
      " 'illam huc atque illuc nunc torquens uerberat eurus ',\n",
      " 'nunc stridens zephyris aufert notus undique feruent',\n",
      " 'aequora cum subitus trifida neptunus in hasta ']\n",
      "['septimus hic celsis descendit montibus auster ',\n",
      " 'iamque ratem scythicis forsan statuisset in oris ',\n",
      " 'nos patriae immemores maneant ceu nulla reuectos ',\n",
      " 'gaudia sed duro saeuae sub rege mycenae ']\n",
      "['serta patri iuuenisque comam uestesque lyaei ',\n",
      " 'induit et medium curru locat aeraque circum ',\n",
      " 'tympanaque et plenas tacita formidine cistas ',\n",
      " 'ipsa sinus hederisque ligat famularibus artus ']\n",
      "['saxa dedit flamma expresso bis fulsit in imbri ',\n",
      " 'sicut multifidus ruptis e nubibus horror ',\n",
      " 'effugit et tenebras nimbosque intermicat ignis ',\n",
      " 'terrificique ruunt tonitrus elisaque noctem ']\n",
      "['sustulit hic geminas phineus ad sidera palmas',\n",
      " 'te que ait infesti quae nunc premis ira tonantis ',\n",
      " 'ante precor nostrae tandem iam parce senectae ',\n",
      " 'sit modus et fore credo equidem nam uestra uoluntas ']\n",
      "['sic neque parte ferox nec caede moratur in una ',\n",
      " 'turbidus inque omnes pariter furit ac modo saeuo ',\n",
      " 'ense modo infesta rarescunt cuspide pugnae ',\n",
      " 'tunc et terrificis undantem crinibus hebrum ']\n",
      "['sola animo medea subit mens omnis in una ',\n",
      " 'uirgine nocturnis qua nulla potentior aris ',\n",
      " 'illius adflatus sparsosque per auia sucos ',\n",
      " 'sidera fixa pauent et aui stupet orbita solis ']\n",
      "['talis in extremo proles iouis emicat aeuo ',\n",
      " 'et nunc magnanimos hypetaona gessithoumque ',\n",
      " 'nunc arinen olbumque rotat iam saucius aprem ',\n",
      " 'et desertus equo thydrum pedes excipit hasta ']\n",
      "['thraces habent nostrum hoc facinus ne quaere quis auctor ',\n",
      " 'iam fuge iam dubiae donum rape mentis et ensem ',\n",
      " 'tu potius miser oro tene tunc excipit artus ',\n",
      " 'obnubitque caput tacitumque ad conscia bacchi ']\n",
      "['the classics pageualerius flaccus liber iu',\n",
      " 'ualeri flacci argonautica liber iu',\n",
      " 'atque ea non oculis diuum pater amplius aequis ',\n",
      " 'sustinuit natique pios miseratus amores ']\n",
      "['the classics pageualerius flaccus liber iii',\n",
      " 'ualeri flacci argonautica liber iii',\n",
      " 'tertia iam gelidas tithonia soluerat umbras ',\n",
      " 'exueratque polum tiphyn placida alta uocabant ']\n",
      "['uidit et infesta uibrantes casside terras ',\n",
      " 'aduolat atque imo tellus qua proxima collo ',\n",
      " 'necdum umeri uidere diem prior ense sequaci ',\n",
      " 'aequat humo truncos rutilum thoraca sequenti ']\n",
      "['unda silens trahit ex alto sic barbarus iras ',\n",
      " 'et nunc ausa uiri nunc heu sua prodita grais ',\n",
      " 'regna fremit quin et facili sibi mente receptum ',\n",
      " 'iam phrixum dolet et scythiae periisse timores ']\n",
      "['undarum nemorumque decus leuis omnibus arcus ',\n",
      " 'et manicae uirides et stricta myrtus habena ',\n",
      " 'summo palla genu tenui uagus innatat unda ',\n",
      " 'crinis ad obscurae decurrens cingula mammae ',\n",
      " 'ipsa citatarum tellus pede plausa sororum ']\n",
      "['uenimus ad questus socium te iungere coeptis',\n",
      " 'est animus neque enim telamon aut canthus et idas ',\n",
      " 'tyndareusque puer mihi uellere dignior helles ',\n",
      " 'o quantum terrae quantum cognoscere caeli ']\n",
      "['undique falcatos deserta per aequora currus ',\n",
      " 'insequitur drangea phalanx claustrisque profusi ',\n",
      " 'caspiadae quis turba canum non segnius acres ',\n",
      " 'exsilit ad lituos pugnasque capessit eriles ']\n",
      "['uerba ducis sic cum stabulis et messibus ingens ',\n",
      " 'ira deum et calabri populator sirius arui ',\n",
      " 'incubuit coit agrestum manus anxia priscum ',\n",
      " 'in nemus et miseris dictat pia uota sacerdos']\n",
      "['uibrat et horrisonae respondent gargara buxo ',\n",
      " 'inde ubi iam medii tenuere silentia ponti ',\n",
      " 'stridentesque iuuant aurae phrixea subibant ',\n",
      " 'aequora et angustas quondam sine nomine fauces ']\n",
      "['uibrat et horrisonae respondent gargara buxo ',\n",
      " 'inde ubi iam medii tenuere silentia ponti ',\n",
      " 'stridentesque iuuant aurae phrixea subibant ',\n",
      " 'aequora et angustas quondam sine nomine fauces ',\n",
      " 'ecce autem prima uolucrem sub luce dehiscens ']\n",
      "['ulta toros premit ecce dies tum uerbere uictas ',\n",
      " 'in thalamos agit et cunctantibus ingerit enses',\n",
      " 'unde ego tot scelerum facies tot fata iacentum ',\n",
      " 'exsequar heu uatem monstris quibus intulit ordo ']\n",
      "['una omnes haud illa sui tamen immemor umquam ',\n",
      " 'nec subitis turbata minis prior occupat unum ',\n",
      " 'aesoniden longeque trahit mox talibus infit',\n",
      " 'me quoque uir tecum minyae fortissima pubes ']\n"
     ]
    }
   ],
   "source": [
    "for word in vf_acrostics:\n",
    "    pprint(return_acrostic_lines(vf_edit, word))"
   ]
  },
  {
   "cell_type": "code",
   "execution_count": 31,
   "metadata": {},
   "outputs": [
    {
     "name": "stdout",
     "output_type": "stream",
     "text": [
      "['natorumque locis uacuaeque in moenibus urbis ',\n",
      " 'iura nouant donant solio sceptrisque paternis ',\n",
      " 'ut meritam redeunt que piae sua praemia menti',\n",
      " 'ecce procul ualidis lemnon tendentia remis ',\n",
      " 'arma notant rapitur subito regina tumultu ']\n"
     ]
    }
   ],
   "source": [
    "pprint(return_acrostic_lines(vf_edit, 'niuea'))"
   ]
  },
  {
   "cell_type": "markdown",
   "metadata": {},
   "source": [
    "![List of eight-letter acrostics in Latin poetry from Hilberg 1899.](img/hilberg_1.png)\n",
    "*List of eight-letters acrostics in Latin poetry from Hilberg 1899.* [Link](https://books.google.com/books?id=gIz8i-tRzG0C&pg=RA1-PA264#v=onepage&q&f=false)"
   ]
  },
  {
   "cell_type": "code",
   "execution_count": 32,
   "metadata": {},
   "outputs": [
    {
     "data": {
      "text/plain": [
       "False"
      ]
     },
     "execution_count": 32,
     "metadata": {},
     "output_type": "execute_result"
    }
   ],
   "source": [
    "\"laniabor\" in ll_min"
   ]
  },
  {
   "cell_type": "code",
   "execution_count": null,
   "metadata": {
    "collapsed": true
   },
   "outputs": [],
   "source": []
  }
 ],
 "metadata": {
  "kernelspec": {
   "display_name": "Python 3",
   "language": "python",
   "name": "python3"
  },
  "language_info": {
   "codemirror_mode": {
    "name": "ipython",
    "version": 3
   },
   "file_extension": ".py",
   "mimetype": "text/x-python",
   "name": "python",
   "nbconvert_exporter": "python",
   "pygments_lexer": "ipython3",
   "version": "3.6.1"
  }
 },
 "nbformat": 4,
 "nbformat_minor": 1
}
