{
 "cells": [
  {
   "cell_type": "code",
   "execution_count": 1,
   "metadata": {
    "collapsed": true
   },
   "outputs": [],
   "source": [
    "from pprint import pprint"
   ]
  },
  {
   "cell_type": "code",
   "execution_count": 2,
   "metadata": {},
   "outputs": [
    {
     "name": "stdout",
     "output_type": "stream",
     "text": [
      "['12tables.txt', '1644.txt', 'abbofloracensis.txt', 'abelard/dialogus.txt', 'abelard/epistola.txt', 'abelard/historia.txt', 'addison/barometri.txt', 'addison/burnett.txt', 'addison/hannes.txt', 'addison/machinae.txt', 'addison/pax.txt', 'addison/praelium.txt', 'addison/preface.txt', 'addison/resurr.txt', 'addison/sphaer.txt']\n"
     ]
    }
   ],
   "source": [
    "# Get the Latin Library corpus\n",
    "\n",
    "# ^^^ Add step for installing Latin Library as a corpus\n",
    "\n",
    "from cltk.corpus.latin import latinlibrary\n",
    "files = latinlibrary.fileids()\n",
    "\n",
    "print(files[:15])"
   ]
  },
  {
   "cell_type": "code",
   "execution_count": 3,
   "metadata": {},
   "outputs": [
    {
     "name": "stdout",
     "output_type": "stream",
     "text": [
      "['alcuin/propos.txt', 'prop2.txt', 'prop3.txt', 'prop4.txt', 'propertius1.txt', 'tertullian/tertullian.propheta.txt']\n"
     ]
    }
   ],
   "source": [
    "print([file for file in files if 'prop' in file])"
   ]
  },
  {
   "cell_type": "code",
   "execution_count": 4,
   "metadata": {},
   "outputs": [
    {
     "name": "stdout",
     "output_type": "stream",
     "text": [
      "['erasmus/antibarb.txt', 'suetonius/suet.tib.txt', 'suetonius/suet.tibullus.txt', 'tibullus1.txt', 'tibullus2.txt', 'tibullus3.txt']\n"
     ]
    }
   ],
   "source": [
    "print([file for file in files if 'tib' in file])"
   ]
  },
  {
   "cell_type": "code",
   "execution_count": 5,
   "metadata": {},
   "outputs": [
    {
     "name": "stdout",
     "output_type": "stream",
     "text": [
      "SEXTI PROPERTI ELEGIARVM LIBER PRIMVS\n",
      "\n",
      "1 2 3 4 5 6 7 8a 8b 9 10 11 12 13 14 15 16 17 18 19 20 21 22\n",
      "\n",
      "I\n",
      "\n",
      "Cynthia prima suis miserum me cepit ocellis,\n",
      "    contactum nullis ante cupidinibus.\n",
      "tum mihi constantis deiecit lumina fastus\n",
      "    et caput impositis pressit Amor pedibus,\n",
      "donec me docuit castas odisse puellas                 5\n",
      "    improbus, et nullo vivere consilio.\n",
      "ei mihi, iam toto furor hic non deficit anno,\n",
      "    cum tamen adversos cogor habere deos.\n",
      "Milanion nullos fugiendo, Tulle, labores\n",
      "\n"
     ]
    }
   ],
   "source": [
    "# Get the Propertius texts\n",
    "\n",
    "propertius_file = 'propertius1.txt'\n",
    "propertius_raw = latinlibrary.raw(propertius_file)\n",
    "\n",
    "print(propertius_raw[:500])"
   ]
  },
  {
   "cell_type": "code",
   "execution_count": 6,
   "metadata": {},
   "outputs": [
    {
     "name": "stdout",
     "output_type": "stream",
     "text": [
      "Tibullus Book I\n",
      "\t\t \n",
      "\n",
      "\t\t \n",
      "\t\t \n",
      "\t \n",
      "\t\n",
      " \n",
      "\n",
      " A. TIBVLLI ELEGIAE LIBER PRIMVS \n",
      "\n",
      " \n",
      "\n",
      " \n",
      " I II III IV V VI VII VIII IX X \n",
      "\n",
      " \n",
      "\n",
      " \n",
      " I \n",
      "\n",
      " \n",
      " Divitias alius fulvo sibi congerat auro \n",
      " &nbsp Et teneat culti iugera multa soli, \n",
      "Quem labor adsiduus vicino terreat hoste, \n",
      " &nbsp Martia cui somnos classica pulsa fugent: \n",
      "Me mea paupertas vita traducat inerti,    5 \n",
      " &nbsp Dum meus adsiduo luceat igne focus. \n",
      "Ipse seram teneras maturo tempore vites \n",
      " &nbsp Rusticus et facili grandia poma manu; \n",
      "Nec spes destituat, sed \n"
     ]
    }
   ],
   "source": [
    "# Get the Tibullus texts\n",
    "\n",
    "tibullus_file = 'tibullus1.txt'\n",
    "tibullus_raw = latinlibrary.raw(tibullus_file)\n",
    "\n",
    "print(tibullus_raw[:500])"
   ]
  },
  {
   "cell_type": "code",
   "execution_count": 7,
   "metadata": {},
   "outputs": [
    {
     "name": "stdout",
     "output_type": "stream",
     "text": [
      "ellam \n",
      " &nbsp Verberat: e caelo deripit ille deos.    60 \n",
      "Sit satis e membris tenuem rescindere vestem, \n",
      " &nbsp Sit satis ornatus dissoluisse comae, \n",
      "Sit lacrimas movisse satis: quater ille beatus, \n",
      " &nbsp Quo tenera irato flere puella potest. \n",
      "Sed manibus qui saevus erit, scutumque sudemque    65 \n",
      " &nbsp Is gerat et miti sit procul a Venere. \n",
      "At nobis, Pax alma, veni spicamque teneto, \n",
      " &nbsp Perfluat et pomis candidus ante sinus.\n",
      " \n",
      "\n",
      " \n",
      "\n",
      " \n",
      " \n",
      " \n",
      "\t Tibullus \n",
      "\t The Latin Library \n",
      "\t The Classics Page\n"
     ]
    }
   ],
   "source": [
    "print(tibullus_raw[-500:])"
   ]
  },
  {
   "cell_type": "code",
   "execution_count": 8,
   "metadata": {
    "collapsed": true
   },
   "outputs": [],
   "source": [
    "import re\n",
    "import html\n",
    "\n",
    "from cltk.stem.latin.j_v import JVReplacer\n",
    "replacer = JVReplacer()"
   ]
  },
  {
   "cell_type": "code",
   "execution_count": 9,
   "metadata": {
    "collapsed": true
   },
   "outputs": [],
   "source": [
    "# Preprocess texts\n",
    "\n",
    "def preprocess(text):\n",
    "\n",
    "    remove_list = [r'\\bThe Latin Library\\b',\n",
    "                   r'\\bThe Classics Page\\b',\n",
    "                   r'\\bPropertius\\b',\n",
    "                   r'\\bSEXTI PROPERTI ELEGIARVM LIBER PRIMVS\\b',\n",
    "                   r'8a', r'8b', r'VIIIA', r'VIIIB',\n",
    "                   r'\\bTibullus Book I\\b',\n",
    "                   r'\\bTibullus',\n",
    "                   r'\\bA. TIBVLLI ELEGIAE LIBER PRIMVS\\b',\n",
    "                   r'I II III IV V VI VII VIII IX X',\n",
    "                   r'25a', r'25b'\n",
    "                  ]\n",
    "    \n",
    "    for pattern in remove_list:\n",
    "        text = re.sub(pattern, '', text)\n",
    "    \n",
    "    # REMOVE LETTER HEADINGS?\n",
    "    \n",
    "    text = html.unescape(text) # Handle html entities\n",
    "    text = re.sub(r'&nbsp;?', ' ',text) #&nbsp; stripped incorrectly in corpus?\n",
    "    text = re.sub(r'\\x00',' ',text) #Another space problem?\n",
    "    text = re.sub(r' \\xa0 ', '    ', text)\n",
    "    \n",
    "    # Remove roman numeral headings; must be before lower & replacer\n",
    "    text = re.sub(r'\\b(M{1,4}(CM|CD|D?C{0,3})(XC|XL|L?X{0,3})(IX|IV|V?I{0,3})|M{0,4}(CM|C?D|D?C{1,3})(XC|XL|L?X{0,3})(IX|IV|V?I{0,4})|M{0,4}(CM|CD|D?C{0,3})(XC|X?L|L?X{1,3})(IX|IV|V?I{0,3})|M{0,4}(CM|CD|D?C{0,3})(XC|XL|L?X{0,3})(IX|I?V|V?I{1,3}))\\b',' ',text)\n",
    "    \n",
    "    text = text.lower()\n",
    "    text = replacer.replace(text) #Normalize u/v & i/j\n",
    "    \n",
    "    punctuation =\"\\\"#$%&\\'()+,-/:;<=>@[\\]^_`{|}~.?!«»—\"\n",
    "    translator = str.maketrans({key: \" \" for key in punctuation})\n",
    "    text = text.translate(translator)\n",
    "    \n",
    "    translator = str.maketrans({key: \" \" for key in '0123456789'})\n",
    "    text = text.translate(translator)\n",
    "    \n",
    "    # Handle spacing\n",
    "    text = re.sub('[ ]+',' ', text) # Remove double spaces\n",
    "    text = re.sub('\\t',' ', text) # Remove tabs\n",
    "    text = re.sub('^\\s+','', text)\n",
    "    text = re.sub(' \\n', '\\n', text)\n",
    "    text = re.sub('\\n\\n', '~', text)\n",
    "    text = re.sub('~+', '\\n\\n', text)\n",
    "    #text = re.sub('\\s+\\n+\\s','\\n', text) # Remove double lines and trim spaces around new lines\n",
    "    \n",
    "    return text.strip()"
   ]
  },
  {
   "cell_type": "code",
   "execution_count": 10,
   "metadata": {
    "collapsed": true
   },
   "outputs": [],
   "source": [
    "tibullus_edit = preprocess(tibullus_raw)\n"
   ]
  },
  {
   "cell_type": "code",
   "execution_count": 11,
   "metadata": {
    "collapsed": true
   },
   "outputs": [],
   "source": [
    "tibullus = tibullus_edit.split('\\n\\n')"
   ]
  },
  {
   "cell_type": "code",
   "execution_count": 12,
   "metadata": {},
   "outputs": [
    {
     "name": "stdout",
     "output_type": "stream",
     "text": [
      "10\n"
     ]
    }
   ],
   "source": [
    "print(len(tibullus))"
   ]
  },
  {
   "cell_type": "code",
   "execution_count": 13,
   "metadata": {},
   "outputs": [
    {
     "name": "stdout",
     "output_type": "stream",
     "text": [
      "cynthia prima suis miserum me cepit ocellis\n",
      " contactum nullis ante cupidinibus\n",
      "tum mihi constantis deiecit lumina fastus\n",
      " et caput impositis pressit amor pedibus\n",
      "donec me docuit castas odisse puellas\n",
      " improbus et nullo uiuere consilio\n",
      "ei mihi iam toto furor hic non deficit anno\n",
      " cum tamen aduersos cogor habere deos\n",
      "milanion nullos fugiendo tulle labores\n",
      " saeuitiam durae contudit iasidos\n",
      "nam modo partheniis amens errabat in antris\n",
      " rursus in hirsutas ibat et ille feras\n",
      "ille etiam hylaei percussus uulnere rami\n",
      " saucius arcadiis rupibus ingemuit\n",
      "ergo uelocem potuit domuisse puellam\n",
      " tantum in amore fides et benefacta ualent\n",
      "in me tardus amor non ullas cogitat artes\n",
      " nec meminit notas ut prius ire uias\n",
      "at uos deductae quibus est pellacia lunae\n",
      " et labor in magicis sacra piare focis\n",
      "en agedum dominae mentem conuertite nostrae\n",
      " et facite illa meo palleat ore magis\n",
      "tunc ego crediderim manes et sidera uobis\n",
      " posse cytinaeis ducere carminibus\n",
      "aut uos qui sero lapsum reuocatis amici\n",
      " quaerite non sani pectoris auxilia\n",
      "fortiter et ferrum saeuos patiemur et ignes\n",
      " sit modo libertas quae uelit ira loqui\n",
      "ferte per extremas gentes et ferte per undas\n",
      " qua non ulla meum femina norit iter\n",
      "uos remanete quibus facili deus annuit aure\n",
      " sitis et in tuto semper amore pares\n",
      "nam me nostra uenus noctes exercet amaras\n",
      " et nullo uacuus tempore defit amor\n",
      "hoc moneo uitate malum sua quemque moretur\n",
      " cura neque assueto mutet amore torum\n",
      "quod si quis monitis tardas aduerterit aures\n",
      " heu referet quanto uerba dolore mea\n",
      "\n",
      "quid iuuat ornato procedere uita capillo\n",
      " et tenuis coa ueste mouere sinus\n",
      "aut quid orontea crines perfundere murra\n",
      " teque peregrinis uendere muneribus\n",
      "naturaeque decus mercato perdere cultu\n",
      " nec sinere in propriis membra nitere bonis\n",
      "crede mihi non ulla tuaest medicina figurae\n",
      " nudus amor formam non amat artificem\n",
      "aspice quos summittat humus non fossa colores\n",
      " ut ueniant hederae sponte sua melius\n",
      "surgat et in solis formosior arbutus antris\n",
      " et sciat indocilis currere lympha uias\n",
      "litora natiuis praefulgent picta lapillis\n",
      " et uolucres nulla dulcius arte canunt\n",
      "non sic leucippis succendit castora phoebe\n",
      " pollucem cultu non helaira soror\n",
      "non idae et cupido quondam discordia phoebo\n",
      " eueni patriis filia litoribus\n",
      "nec phrygium falso traxit candore maritum\n",
      " auecta externis hippodamia rotis\n",
      "sed facies aderat nullis obnoxia gemmis\n",
      " qualis apelleis est color in tabulis\n",
      "non illis studium fuco conquirere amantes\n",
      " illis ampla satis forma pudicitia\n",
      "non ego nunc uereor ne sis tibi uilior istis\n",
      " uni si qua placet culta puella sat est\n",
      "cum tibi praesertim phoebus sua carmina donet\n",
      " aoniamque libens calliopea lyram\n",
      "unica nec desit iucundis gratia uerbis\n",
      " omnia quaeque uenus quaeque minerua probat\n",
      "his tu semper eris nostrae gratissima uitae\n",
      " taedia dum miserae sint tibi luxuriae\n",
      "\n",
      "qualis thesea iacuit cedente carina\n",
      " languida desertis cnosia litoribus\n",
      "qualis et accubuit primo cepheia somno\n",
      " libera iam duris cotibus andromede\n",
      "nec minus assiduis edonis fessa choreis\n",
      " qualis in herboso concidit apidano\n",
      "talis uisa mihi mollem spirare quietem\n",
      " cynthia consertis nixa caput manibus\n",
      "ebria cum multo traherem uestigia baccho\n",
      " et quaterent sera nocte facem pueri\n",
      "hanc ego nondum etiam sensus deperditus omnis\n",
      " molliter impresso conor adire toro\n",
      "et quamuis duplici correptum ardore iuberent\n",
      " hac amor hac liber durus uterque deus\n",
      "subiecto leuiter positam temptare lacerto\n",
      " osculaque admota sumere tarda manu\n",
      "non tamen ausus eram dominae turbare quietem\n",
      " expertae metuens iurgia saeuitiae\n",
      "sed sic intentis haerebam fixus ocellis\n",
      " argus ut ignotis cornibus inachidos\n",
      "et modo soluebam nostra de fronte corollas\n",
      " ponebamque tuis cynthia temporibus\n",
      "et modo gaudebam lapsos formare capillos\n",
      " nunc furtiua cauis poma dabam manibus\n",
      "omnia quae ingrato largibar munera somno\n",
      " munera de prono saepe uoluta sinu\n",
      "et quotiens raro duxti suspiria motu\n",
      " obstupui uano credulus auspicio\n",
      "ne qua tibi insolitos portarent uisa timores\n",
      " neue quis inuitam cogeret esse suam\n",
      "donec diuersas praecurrens luna fenestras\n",
      " luna moraturis sedula luminibus\n",
      "compositos leuibus radiis patefecit ocellos\n",
      " sic ait in molli fixa toro cubitum\n",
      " tandem te nostro referens iniuria lecto\n",
      " alterius clausis expulit e foribus\n",
      "namque ubi longa meae consumpsti tempora noctis\n",
      " languidus exactis ei mihi sideribus\n",
      "o utinam talis perducas improbe noctes\n",
      " me miseram qualis semper habere iubes\n",
      "nam modo purpureo fallebam stamine somnum\n",
      " rursus et orpheae carmine fessa lyrae\n",
      "interdum leuiter mecum deserta querebar\n",
      " externo longas saepe in amore moras\n",
      "dum me iucundis lassam sopor impulit alis\n",
      " illa fuit lacrimis ultima cura meis\n",
      "\n",
      "quid mihi tam multas laudando basse puellas\n",
      " mutatum domina cogis abire mea\n",
      "quid me non pateris uitae quodcumque sequetur\n",
      " hoc magis assueto ducere seruitio\n",
      "tu licet antiopae formam nycteidos et tu\n",
      " spartanae referas laudibus hermionae\n",
      "et quascumque tulit formosi temporis aetas\n",
      " cynthia non illas nomen habere sinat\n",
      "nedum si leuibus fuerit collata figuris\n",
      " inferior duro iudice turpis eat\n",
      "haec sed forma mei pars est extrema furoris\n",
      " sunt maiora quibus basse perire iuuat\n",
      "ingenuus color et motis decor artubus et quae\n",
      " gaudia sub tacita discere ueste libet\n",
      "quo magis et nostros contendis soluere amores\n",
      " hoc magis accepta fallit uterque fide\n",
      "non impune feres sciet haec insana puella\n",
      " et tibi non tacitis uocibus hostis erit\n",
      "nec tibi me post haec committet cynthia nec te\n",
      " quaeret erit tanti criminis illa memor\n",
      "et te circum omnis alias irata puellas\n",
      " differet heu nullo limine carus eris\n",
      "nullas illa suis contemnet fletibus aras\n",
      " et quicumque sacer qualis ubique lapis\n",
      "non ullo grauius temptatur cynthia damno\n",
      " quam sibi cum rapto cessat amore decus\n",
      "praecipue nostro maneat sic semper adoro\n",
      " nec quicquam ex illa quod querar inueniam\n",
      "inuide tu tandem uoces compesce molestas\n",
      " et sine nos cursu quo sumus ire pares\n",
      "\n",
      "quid tibi uis insane meae sentire furores\n",
      " infelix properas ultima nosse mala\n",
      "et miser ignotos uestigia ferre per ignes\n",
      " et bibere e tota toxica thessalia\n",
      "non est illa uagis similis collata puellis\n",
      " molliter irasci non sciet illa tibi\n",
      "quod si forte tuis non est contraria uotis\n",
      " at tibi curarum milia quanta dabit\n",
      "non tibi iam somnos non illa relinquet ocellos\n",
      " illa ferox animis alligat una uiros\n",
      "a mea contemptus quotiens ad limina curres\n",
      " cum tibi singultu fortia uerba cadent\n",
      "et tremulus maestis orietur fletibus horror\n",
      " et timor informem ducet in ore notam\n",
      "et quaecumque uoles fugient tibi uerba querenti\n",
      " nec poteris qui sis aut ubi nosse miser\n",
      "tum graue seruitium nostrae cogere puellae\n",
      " discere et exclusum quid sit abire domum\n",
      "nec iam pallorem totiens mirabere nostrum\n",
      " aut cur sim toto corpore nullus ego\n",
      "nec tibi nobilitas poterit succurrere amanti\n",
      " nescit amor priscis cedere imaginibus\n",
      "quod si parua tuae dederis uestigia culpae\n",
      " quam cito de tanto nomine rumor eris\n",
      "non ego tum potero solacia ferre roganti\n",
      " cum mihi nulla mei sit medicina mali\n",
      "sed pariter miseri socio cogemur amore\n",
      " alter in alterius mutua flere sinu\n",
      "quare quid possit mea cynthia desine galle\n",
      " quaerere non impune illa rogata uenit\n",
      "\n",
      "non ego nunc hadriae uereor mare noscere tecum\n",
      " tulle neque aegaeo ducere uela salo\n",
      "cum quo rhipaeos possim conscendere montes\n",
      " ulteriusque domos uadere memnonias\n",
      "sed me complexae remorantur uerba puellae\n",
      " mutatoque graues saepe colore preces\n",
      "illa mihi totis argutat noctibus ignes\n",
      " et queritur nullos esse relicta deos\n",
      "illa meam mihi iam se denegat illa minatur\n",
      " quae solet ingrato tristis amica uiro\n",
      "his ego non horam possum durare querelis\n",
      " ah pereat si quis lentus amare potest\n",
      "an mihi sit tanti doctas cognoscere athenas\n",
      " atque asiae ueteres cernere diuitias\n",
      "ut mihi deducta faciat conuicia puppi\n",
      " cynthia et insanis ora notet manibus\n",
      "osculaque opposito dicat sibi debita uento\n",
      " et nihil infido durius esse uiro\n",
      "tu patrui meritas conare anteire secures\n",
      " et uetera oblitis iura refer sociis\n",
      "nam tua non aetas umquam cessauit amori\n",
      " semper at armatae cura fuit patriae\n",
      "et tibi non umquam nostros puer iste labores\n",
      " afferat et lacrimis omnia nota meis\n",
      "me sine quem semper uoluit fortuna iacere\n",
      " huic animam extremam reddere nequitiae\n",
      "multi longinquo periere in amore libenter\n",
      " in quorum numero me quoque terra tegat\n",
      "non ego sum laudi non natus idoneus armis\n",
      " hanc me militiam fata subire uolunt\n",
      "at tu seu mollis qua tendit ionia seu qua\n",
      " lydia pactoli tingit arata liquor\n",
      "seu pedibus terras seu pontum remige carpes\n",
      " ibis et accepti pars eris imperii\n",
      "tum tibi si qua mei ueniet non immemor hora\n",
      " uiuere me duro sidere certus eris\n",
      "\n",
      "dum tibi cadmeae dicuntur pontice thebae\n",
      " armaque fraternae tristia militiae\n",
      "atque ita sim felix primo contendis homero\n",
      " sint modo fata tuis mollia carminibus\n",
      "nos ut consuemus nostros agitamus amores\n",
      " atque aliquid duram quaerimus in dominam\n",
      "nec tantum ingenio quantum seruire dolori\n",
      " cogor et aetatis tempora dura queri\n",
      "hic mihi conteritur uitae modus haec mea famast\n",
      " hinc cupio nomen carminis ire mei\n",
      "me laudent doctae solum placuisse puellae\n",
      " pontice et iniustas saepe tulisse minas\n",
      "me legat assidue post haec neglectus amator\n",
      " et prosint illi cognita nostra mala\n",
      "te quoque si certo puer hic concusserit arcu\n",
      " quo nollem nostros me uiolasse deos\n",
      "longe castra tibi longe miser agmina septem\n",
      " flebis in aeterno surda iacere situ\n",
      "et frustra cupies mollem componere uersum\n",
      " nec tibi subiciet carmina serus amor\n",
      "tum me non humilem mirabere saepe poetam\n",
      " tunc ego romanis praeferar ingeniis\n",
      " nec poterunt iuuenes nostro reticere sepulcro\n",
      " ardoris nostri magne poeta iaces\n",
      "tu caue nostra tuo contemnas carmina fastu\n",
      " saepe uenit magno faenore tardus amor\n",
      "\n",
      "tune igitur demens nec te mea cura moratur\n",
      " an tibi sum gelida uilior illyria\n",
      "et tibi iam tanti quicumquest iste uidetur\n",
      " ut sine me uento quolibet ire uelis\n",
      "tune audire potes uesani murmura ponti\n",
      " fortis et in dura naue iacere potes\n",
      "tu pedibus teneris positas fulcire pruinas\n",
      " tu potes insolitas cynthia ferre niues\n",
      "o utinam hibernae duplicentur tempora brumae\n",
      " et sit iners tardis nauita uergiliis\n",
      "nec tibi tyrrhena soluatur funis harena\n",
      " neue inimica meas eleuet aura preces\n",
      "et me defixum uacua patiatur in ora\n",
      " crudelem infesta saepe uocare manu\n",
      "sed quocumque modo de me periura mereris\n",
      " sit galatea tuae non aliena uiae\n",
      "atque ego non uideam talis subsidere uentos\n",
      " cum tibi prouectas auferet unda rates\n",
      "ut te felici post uicta ceraunia remo\n",
      " accipiat placidis oricos aequoribus\n",
      "nam me non ullae poterunt corrumpere de te\n",
      " quin ego uita tuo limine uerba querar\n",
      "nec me deficiet nautas rogitare citatos\n",
      " dicite quo portu clausa puella meast\n",
      "et dicam licet artaciis considat in oris\n",
      " et licet hylaeis illa futura meast\n",
      "\n",
      "hic erit hic iurata manet rumpantur iniqui\n",
      " uicimus assiduas non tulit illa preces\n",
      "falsa licet cupidus deponat gaudia liuor\n",
      " destitit ire nouas cynthia nostra uias\n",
      "illi carus ego et per me carissima roma\n",
      " dicitur et sine me dulcia regna negat\n",
      "illa uel angusto mecum requiescere lecto\n",
      " et quocumque modo maluit esse mea\n",
      "quam sibi dotatae regnum uetus hippodamiae\n",
      " et quas elis opes apta pararat equis\n",
      "quamuis magna daret quamuis maiora daturus\n",
      " non tamen illa meos fugit auara sinus\n",
      "hanc ego non auro non indis flectere conchis\n",
      " sed potui blandi carminis obsequio\n",
      "sunt igitur musae neque amanti tardus apollo\n",
      " quis ego fretus amo cynthia rara meast\n",
      "nunc mihi summa licet contingere sidera plantis\n",
      " siue dies seu nox uenerit illa meast\n",
      "nec mihi riualis certos subducet amores\n",
      " ista meam norit gloria canitiem\n",
      "\n",
      "dicebam tibi uenturos irrisor amores\n",
      " nec tibi perpetuo libera uerba fore\n",
      "ecce iaces supplexque uenis ad iura puellae\n",
      " et tibi nunc quaeuis imperat empta modo\n",
      "non me chaoniae uincant in amore columbae\n",
      " dicere quos iuuenes quaeque puella domet\n",
      "me dolor et lacrimae merito fecere peritum\n",
      " atque utinam posito dicar amore rudis\n",
      "quid tibi nunc misero prodest graue dicere carmen\n",
      " aut amphioniae moenia flere lyrae\n",
      "plus in amore ualet mimnermi uersus homero\n",
      " carmina mansuetus lenia quaerit amor\n",
      "i quaeso et tristis istos sepone libellos\n",
      " et cane quod quaeuis nosse puella uelit\n",
      "quid si non esset facilis tibi copia nunc tu\n",
      " insanus medio flumine quaeris aquam\n",
      "necdum etiam palles uero nec tangeris igni\n",
      " haec est uenturi prima fauilla mali\n",
      "tum magis armenias cupies accedere tigres\n",
      " et magis infernae uincula nosse rotae\n",
      "quam pueri totiens arcum sentire medullis\n",
      " et nihil iratae posse negare tuae\n",
      "nullus amor cuiquam facilis ita praebuit alas\n",
      " ut non alterna presserit ille manu\n",
      "nec te decipiat quod sit satis illa parata\n",
      " acrius illa subit pontice si qua tuast\n",
      "quippe ubi non liceat uacuos seducere ocellos\n",
      " nec uigilare alio limine cedat amor\n",
      "qui non ante patet donec manus attigit ossa\n",
      " quisquis es assiduas tu fuge blanditias\n",
      "illis et silices et possint cedere quercus\n",
      " nedum tu possis spiritus iste leuis\n",
      "quare si pudor est quam primum errata fatere\n",
      " dicere quo pereas saepe in amore leuat\n",
      "\n",
      "o iucunda quies primo cum testis amori\n",
      " affueram uestris conscius in lacrimis\n",
      "o noctem meminisse mihi iucunda uoluptas\n",
      " o quotiens uotis illa uocanda meis\n",
      "cum te complexa morientem galle puella\n",
      " uidimus et longa ducere uerba mora\n",
      "quamuis labentis premeret mihi somnus ocellos\n",
      " et mediis caelo luna ruberet equis\n",
      "non tamen a uestro potui secedere lusu\n",
      " tantus in alternis uocibus ardor erat\n",
      "sed quoniam non es ueritus concredere nobis\n",
      " accipe commissae munera laetitiae\n",
      "non solum uestros didici reticere dolores\n",
      " est quiddam in nobis maius amice fide\n",
      "possum ego diuersos iterum coniungere amantes\n",
      " et dominae tardas possum aperire fores\n",
      "et possum alterius curas sanare recentis\n",
      " nec leuis in uerbis est medicina meis\n",
      "cynthia me docuit semper quae cuique petenda\n",
      " quaeque cauenda forent non nihil egit amor\n",
      "tu caue ne tristi cupias pugnare puellae\n",
      " neue superba loqui neue tacere diu\n",
      "neu si quid petiit ingrata fronte negaris\n",
      " neu tibi pro uano uerba benigna cadant\n",
      "irritata uenit quando contemnitur illa\n",
      " nec meminit iustas ponere laesa minas\n",
      "at quo sis humilis magis et subiectus amori\n",
      " hoc magis effectu saepe fruare bono\n",
      "is poterit felix una remanere puella\n",
      " qui numquam uacuo pectore liber erit\n",
      "\n",
      "ecquid te mediis cessantem cynthia baiis\n",
      " qua iacet herculeis semita litoribus\n",
      "et modo thesproti mirantem subdita regno\n",
      " proxima misenis aequora nobilibus\n",
      "nostri cura subit memores adducere noctes\n",
      " ecquis in extremo restat amore locus\n",
      "an te nescio quis simulatis ignibus hostis\n",
      " sustulit e nostris cynthia carminibus\n",
      "ut solet amoto labi custode puella\n",
      " perfida communis nec meminisse deos\n",
      "atque utinam mage te remis confisa minutis\n",
      " paruula lucrina cumba moretur aqua\n",
      "aut teneat clausam tenui teuthrantis in unda\n",
      " alternae facilis cedere lympha manu\n",
      "quam uacet alterius blandos audire susurros\n",
      " molliter in tacito litore compositam\n",
      "non quia perspecta non es mihi cognita fama\n",
      " sed quod in hac omnis parte timetur amor\n",
      "ignosces igitur si quid tibi triste libelli\n",
      " attulerint nostri culpa timoris erit\n",
      "ah mihi non maior carae custodia matris\n",
      " aut sine te uitae cura sit ulla meae\n",
      "tu mihi sola domus tu cynthia sola parentes\n",
      " omnia tu nostrae tempora laetitiae\n",
      "seu tristis ueniam seu contra laetus amicis\n",
      " quicquid ero dicam cynthia causa fuit\n",
      "tu modo quam primum corruptas desere baias\n",
      " multis ista dabunt litora discidium\n",
      "litora quae fuerunt castis inimica puellis\n",
      " ah pereant baiae crimen amoris aquae\n",
      "\n",
      "quid mihi desidiae non cessas fingere crimen\n",
      " quod faciat nobis cynthia roma moram\n",
      "tam multa illa meo diuisast milia lecto\n",
      " quantum hypanis ueneto dissidet eridano\n",
      "nec mihi consuetos amplexu nutrit amores\n",
      " cynthia nec nostra dulcis in aure sonat\n",
      "olim gratus eram non ullo tempore cuiquam\n",
      " contigit ut simili posset amare fide\n",
      "inuidiae fuimus num me deus obruit an quae\n",
      " lecta prometheis diuidit herba iugis\n",
      "non sum ego qui fueram mutat uia longa puellas\n",
      " quantus in exiguo tempore fugit amor\n",
      "nunc primum longas solus cognoscere noctes\n",
      " cogor et ipse meis auribus esse grauis\n",
      "felix qui potuit praesenti flere puellae\n",
      " non nihil aspersus gaudet amor lacrimis\n",
      "aut si despectus potuit mutare calores\n",
      " sunt quoque translato gaudia seruitio\n",
      "mi neque amare aliam neque ab hac desistere fas est\n",
      " cynthia prima fuit cynthia finis erit\n",
      "\n",
      "tu quod saepe soles nostro laetabere casu\n",
      " galle quod abrepto solus amore uacem\n",
      "at non ipse tuas imitabor perfide uoces\n",
      " fallere te numquam galle puella uelit\n",
      "dum tibi deceptis augetur fama puellis\n",
      " certus et in nullo quaeris amore moram\n",
      "perditus in quadam tardis pallescere curis\n",
      " incipis et primo lapsus abire gradu\n",
      "haec erit illarum contempti poena doloris\n",
      " multarum miseras exiget una uices\n",
      "haec tibi uulgaris istos compescet amores\n",
      " nec noua quaerendo semper amicus eris\n",
      "haec non sum rumore malo non augure doctus\n",
      " uidi ego me quaeso teste negare potes\n",
      "uidi ego te toto uinctum languescere collo\n",
      " et flere iniectis galle diu manibus\n",
      "et cupere optatis animam deponere labris\n",
      " et quae deinde meus celat amice pudor\n",
      "non ego complexus potui diducere uestros\n",
      " tantus erat demens inter utrosque furor\n",
      "non sic haemonio salmonida mixtus enipeo\n",
      " taenarius facili pressit amore deus\n",
      "nec sic caelestem flagrans amor herculis heben\n",
      " sensit ab oetaeis gaudia prima rogis\n",
      "una dies omnis potuit praecurrere amantes\n",
      " nam tibi non tepidas subdidit illa faces\n",
      "nec tibi praeteritos passast succedere fastus\n",
      " nec sinet addictum te tuus ardor aget\n",
      "nec mirum cum sit ioue dignae proxima ledae\n",
      " et ledae partu gratior una tribus\n",
      "illa sit inachiis et blandior heroinis\n",
      " illa suis uerbis cogat amare iouem\n",
      "tu uero quoniam semel es periturus amore\n",
      " utere non alio limine dignus eras\n",
      "qui tibi sit felix quoniam nouus incidit error\n",
      " et quotcumque uoles una sit ista tibi\n",
      "\n",
      "tu licet abiectus tiberina molliter unda\n",
      " lesbia mentoreo uina bibas opere\n",
      "et modo tam celeris mireris currere lintres\n",
      " et modo tam tardas funibus ire rates\n",
      "et nemus omne satas intendat uertice siluas\n",
      " urgetur quantis caucasus arboribus\n",
      "non tamen ista meo ualeant contendere amori\n",
      " nescit amor magnis cedere diuitiis\n",
      "nam siue optatam mecum trahit illa quietem\n",
      " seu facili totum ducit amore diem\n",
      "tum mihi pactoli ueniunt sub tecta liquores\n",
      " et legitur rubris gemma sub aequoribus\n",
      "tum mihi cessuros spondent mea gaudia reges\n",
      " quae maneant dum me fata perire uolent\n",
      "nam quis diuitiis aduerso gaudet amore\n",
      " nulla mihi tristi praemia sint uenere\n",
      "illa potest magnas heroum infringere uires\n",
      " illa etiam duris mentibus esse dolor\n",
      "illa neque arabium metuit transcendere limen\n",
      " nec timet ostrino tulle subire toro\n",
      "et miserum toto iuuenem uersare cubili\n",
      " quid releuant uariis serica textilibus\n",
      "quae mihi dum placata aderit non ulla uerebor\n",
      " regna uel alcinoi munera despicere\n",
      "\n",
      "saepe ego multa tuae leuitatis dura timebam\n",
      " hac tamen excepta cynthia perfidia\n",
      "aspice me quanto rapiat fortuna periclo\n",
      " tu tamen in nostro lenta timore uenis\n",
      "et potes hesternos manibus componere crines\n",
      " et longa faciem quaerere desidia\n",
      "nec minus eois pectus uariare lapillis\n",
      " ut formosa nouo quae parat ire uiro\n",
      "at non sic ithaci digressu mota calypso\n",
      " desertis olim fleuerat aequoribus\n",
      "multos illa dies incomptis maesta capillis\n",
      " sederat iniusto multa locuta salo\n",
      "et quamuis numquam post haec uisura dolebat\n",
      " illa tamen longae conscia laetitiae\n",
      "nec sic aesoniden rapientibus anxia uentis\n",
      " hypsipyle uacuo constitit in thalamo\n",
      "hypsipyle nullos post illos sensit amores\n",
      " ut semel haemonio tabuit hospitio\n",
      "coniugis euadne miseros elata per ignes\n",
      " occidit argiuae fama pudicitiae\n",
      "alphesiboea suos ultast pro coniuge fratres\n",
      " sanguinis et cari uincula rupit amor\n",
      "quarum nulla tuos potuit conuertere mores\n",
      " tu quoque uti fieres nobilis historia\n",
      "desine iam reuocare tuis periuria uerbis\n",
      " cynthia et oblitos parce mouere deos\n",
      "audax ah nimium nostro dolitura periclo\n",
      " si quid forte tibi durius inciderit\n",
      "alta prius retro labentur flumina ponto\n",
      " annus et inuersas duxerit ante uices\n",
      "quam tua sub nostro mutetur pectore cura\n",
      " sis quodcumque uoles non aliena tamen\n",
      "tam tibi ne uiles isti uideantur ocelli\n",
      " per quos saepe mihi credita perfidiast\n",
      "hos tu iurabas si quid mentita fuisses\n",
      " ut tibi suppositis exciderent manibus\n",
      "et contra magnum potes hos attollere solem\n",
      " nec tremis admissae conscia nequitiae\n",
      "quis te cogebat multos pallere colores\n",
      " et fletum inuitis ducere luminibus\n",
      "quis ego nunc pereo similis moniturus amantes\n",
      " non ullis tutum credere blanditiis\n",
      "\n",
      "quae fueram magnis olim patefacta triumphis\n",
      " ianua patriciae uota pudicitiae\n",
      "cuius inaurati celebrarunt limina currus\n",
      " captorum lacrimis umida supplicibus\n",
      "nunc ego nocturnis potorum saucia rixis\n",
      " pulsata indignis saepe queror manibus\n",
      "et mihi non desunt turpes pendere corollae\n",
      " semper et exclusi signa iacere faces\n",
      "nec possum infamis dominae defendere uoces\n",
      " nobilis obscenis tradita carminibus\n",
      "nec tamen illa suae reuocatur parcere famae\n",
      " turpior et saecli uiuere luxuria\n",
      "has inter grauius cogor deflere querelas\n",
      " supplicis a longis tristior excubiis\n",
      "ille meos numquam patitur requiescere postes\n",
      " arguta referens carmina blanditia\n",
      " ianua uel domina penitus crudelior ipsa\n",
      " quid mihi tam duris clausa taces foribus\n",
      "cur numquam reserata meos admittis amores\n",
      " nescia furtiuas reddere mota preces\n",
      "nullane finis erit nostro concessa dolori\n",
      " turpis et in tepido limine somnus erit\n",
      "me mediae noctes me sidera prona iacentem\n",
      " frigidaque eoo me dolet aura gelu\n",
      "o utinam traiecta caua mea uocula rima\n",
      " percussas dominae uertat in auriculas\n",
      "sit licet et saxo patientior illa sicano\n",
      " sit licet et ferro durior et chalybe\n",
      "non tamen illa suos poterit compescere ocellos\n",
      " surget et inuitis spiritus in lacrimis\n",
      "nunc iacet alterius felici nixa lacerto\n",
      " at mea nocturno uerba cadunt zephyro\n",
      "sed tu sola mei tu maxima causa doloris\n",
      " uicta meis numquam ianua muneribus\n",
      "tu sola humanos numquam miserata dolores\n",
      " respondes tacitis mutua cardinibus\n",
      "te non ulla meae laesit petulantia linguae\n",
      " quae solet irato dicere tanta ioco\n",
      "ut me tam longa raucum patiare querela\n",
      " sollicitas triuio peruigilare moras\n",
      "at tibi saepe nouo deduxi carmina uersu\n",
      " osculaque innixus pressa dedi gradibus\n",
      "ante tuos quotiens uerti me perfida postes\n",
      " debitaque occultis uota tuli manibus\n",
      "haec ille et si quae miseri nouistis amantes\n",
      " et matutinis obstrepit alitibus\n",
      "sic ego nunc dominae uitiis et semper amantis\n",
      " fletibus alterna differor inuidia\n",
      "\n",
      "et merito quoniam potui fugisse puellam\n",
      " nunc ego desertas alloquor alcyonas\n",
      "nec mihi cassiope saluo uisura carinam\n",
      " omniaque ingrato litore uota cadunt\n",
      "quin etiam absenti prosunt tibi cynthia uenti\n",
      " aspice quam saeuas increpat aura minas\n",
      "nullane placatae ueniet fortuna procellae\n",
      " haecine parua meum funus harena teget\n",
      "tu tamen in melius saeuas conuerte querelas\n",
      " sat tibi sit poenae nox et iniqua uada\n",
      "an poteris siccis mea fata reposcere ocellis\n",
      " ossaque nulla tuo nostra tenere sinu\n",
      "ah pereat quicumque rates et uela parauit\n",
      " primus et inuito gurgite fecit iter\n",
      "nonne fuit leuius dominae peruincere mores\n",
      " quamuis dura tamen rara puella fuit\n",
      "quam sic ignotis circumdata litora siluis\n",
      " cernere et optatos quaerere tyndaridas\n",
      "illic si qua meum sepelissent fata dolorem\n",
      " ultimus et posito staret amore lapis\n",
      "illa meo caros donasset funere crines\n",
      " molliter et tenera poneret ossa rosa\n",
      "illa meum extremo clamasset puluere nomen\n",
      " ut mihi non ullo pondere terra foret\n",
      "at uos aequoreae formosa doride natae\n",
      " candida felici soluite uela choro\n",
      "si quando uestras labens amor attigit undas\n",
      " mansuetis socio parcite litoribus\n",
      "\n",
      "haec certe deserta loca et taciturna querenti\n",
      " et uacuum zephyri possidet aura nemus\n",
      "hic licet occultos proferre impune dolores\n",
      " si modo sola queant saxa tenere fidem\n",
      "unde tuos primum repetam mea cynthia fastus\n",
      " quod mihi das flendi cynthia principium\n",
      "qui modo felicis inter numerabar amantes\n",
      " nunc in amore tuo cogor habere notam\n",
      "quid tantum merui quae te mihi crimina mutant\n",
      " an noua tristitiae causa puella tuae\n",
      "sic mihi te referas leuis ut non altera nostro\n",
      " limine formosos intulit ulla pedes\n",
      "quamuis multa tibi dolor hic meus aspera debet\n",
      " non ita saeua tamen uenerit ira mea\n",
      "ut tibi sim merito semper furor et tua flendo\n",
      " lumina deiectis turpia sint lacrimis\n",
      "an quia parua damus mutato signa colore\n",
      " et non ulla meo clamat in ore fides\n",
      "uos eritis testes si quos habet arbor amores\n",
      " fagus et arcadio pinus amica deo\n",
      "ah quotiens uestras resonant mea uerba sub umbras\n",
      " scribitur et teneris cynthia corticibus\n",
      "ah tua quot peperit nobis iniuria curas\n",
      " quae solum tacitis cognita sunt foribus\n",
      "omnia consueui timidus perferre superbae\n",
      " iussa neque arguto facta dolore queri\n",
      "pro quo continui montes et frigida rupes\n",
      " et datur inculto tramite dura quies\n",
      "et quodcumque meae possunt narrare querelae\n",
      " cogor ad argutas dicere solus aues\n",
      "sed qualiscumque s resonent mihi cynthia siluae\n",
      " nec deserta tuo nomine saxa uacent\n",
      "\n",
      "non ego nunc tristis uereor mea cynthia manes\n",
      " nec moror extremo debita fata rogo\n",
      "sed ne forte tuo careat mihi funus amore\n",
      " hic timor est ipsis durior exsequiis\n",
      "non adeo leuiter nostris puer haesit ocellis\n",
      " ut meus oblito puluis amore uacet\n",
      "illic phylacides iucundae coniugis heros\n",
      " non potuit caecis immemor esse locis\n",
      "sed cupidus falsis attingere gaudia palmis\n",
      " thessalis antiquam uenerat umbra domum\n",
      "illic quidquid ero semper tua dicar imago\n",
      " traicit et fati litora magnus amor\n",
      "illic formosae ueniant chorus heroinae\n",
      " quas dedit argiuis dardana praeda uiris\n",
      "quarum nulla tua fuerit mihi cynthia forma\n",
      " gratior et tellus hoc ita iusta sinat\n",
      "quamuis te longae remorentur fata senectae\n",
      " cara tamen lacrimis ossa futura meis\n",
      "quae tu uiua mea possis sentire fauilla\n",
      " tum mihi non ullo mors sit amara loco\n",
      "quam uereor ne te contempto cynthia busto\n",
      " abstrahat a nostro puluere iniquus amor\n",
      "cogat et inuitam lacrimas siccare cadentis\n",
      " flectitur assiduis certa puella minis\n",
      "quare dum licet inter nos laetemur amantes\n",
      " non satis est ullo tempore longus amor\n",
      "\n",
      "hoc pro continuo te galle monemus amore\n",
      " quod tibi ne uacuo defluat ex animo\n",
      "saepe imprudenti fortuna occurrit amanti\n",
      " crudelis minyis sic erat ascanius\n",
      "est tibi non infra specie non nomine dispar\n",
      " theiodamanteo proximus ardor hylae\n",
      "huic tu siue leges umbrae rate flumina siluae\n",
      " siue aniena tuos tinxerit unda pedes\n",
      "siue gigantei spatiabere litoris ora\n",
      " siue ubicumque uago fluminis hospitio\n",
      "nympharum semper cupidas defende rapinas\n",
      " non minor ausoniis est amor adryasin\n",
      "ne tibi sit duros montes et frigida saxa\n",
      " galle neque expertos semper adire lacus\n",
      "quae miser ignotis error perpessus in oris\n",
      " herculis indomito fleuerat ascanio\n",
      "namque ferunt olim pagasae naualibus argo\n",
      " egressam longe phasidos isse uiam\n",
      "et iam praeteritis labentem athamantidos undis\n",
      " mysorum scopulis applicuisse ratem\n",
      "hic manus heroum placidis ut constitit oris\n",
      " mollia composita litora fronde tegit\n",
      "at comes inuicti iuuenis processerat ultra\n",
      " raram sepositi quaerere fontis aquam\n",
      "hunc duo sectati fratres aquilonia proles\n",
      " nunc superat zetes nunc superat calais\n",
      "oscula suspensis instabant carpere plantis\n",
      " oscula et alterna ferre supina fuga\n",
      "ille sed extrema pendentes ludit in ala\n",
      " et uolucris ramo summouet insidias\n",
      "iam pandioniae cessit genus orithyiae\n",
      " ah dolor ibat hylas ibat hamadryasin\n",
      "hic erat arganthi pege sub uertice montis\n",
      " grata domus nymphis umida thyniasin\n",
      "quam supra nulli pendebant debita curae\n",
      " roscida desertis poma sub arboribus\n",
      "et circum irriguo surgebant lilia prato\n",
      " candida purpureis mixta papaueribus\n",
      "quae modo decerpens tenero pueriliter ungui\n",
      " proposito florem praetulit officio\n",
      "et modo formosis incumbens nescius undis\n",
      " errorem blandis tardat imaginibus\n",
      "tandem haurire parat demissis flumina palmis\n",
      " innixus dextro plena trahens umero\n",
      "cuius ut accensae dryades candore puellae\n",
      " miratae solitos destituere choros\n",
      "prolapsum et leuiter facili traxere liquore\n",
      " tum sonitum rapto corpore fecit hylas\n",
      "cui procul alcides ter hyla respondet at illi\n",
      " nomen ab extremis montibus aura refert\n",
      "his o galle tuos monitus seruabis amores\n",
      " formosum ni uis perdere rursus hylan\n",
      "\n",
      "tu qui consortem properas euadere casum\n",
      " miles ab etruscis saucius aggeribus\n",
      "quid nostro gemitu turgentia lumina torques\n",
      " pars ego sum uestrae proxima militiae\n",
      "sic te seruato possint gaudere parentes\n",
      " haec soror acta tuis sentiat e lacrimis\n",
      "gallum per medios ereptum caesaris enses\n",
      " effugere ignotas non potuisse manus\n",
      "et quaecumque super dispersa inuenerit ossa\n",
      " montibus etruscis haec sciat esse mea\n",
      "\n",
      "qualis et unde genus qui sint mihi tulle penates\n",
      " quaeris pro nostra semper amicitia\n",
      "si perusina tibi patriae sunt nota sepulcra\n",
      " italiae duris funera temporibus\n",
      "cum romana suos egit discordia ciues\n",
      " sic mihi praecipue puluis etrusca dolor\n",
      "tu proiecta mei perpessa s membra propinqui\n",
      " tu nullo miseri contegis ossa solo\n",
      "proxima suppositos contingens umbria campos\n",
      " me genuit terris fertilis uberibus\n"
     ]
    }
   ],
   "source": [
    "propertius_edit = preprocess(propertius_raw)\n",
    "\n",
    "print(propertius_edit)"
   ]
  },
  {
   "cell_type": "code",
   "execution_count": 14,
   "metadata": {
    "collapsed": true
   },
   "outputs": [],
   "source": [
    "propertius = propertius_edit.split('\\n\\n')"
   ]
  },
  {
   "cell_type": "code",
   "execution_count": 15,
   "metadata": {},
   "outputs": [
    {
     "name": "stdout",
     "output_type": "stream",
     "text": [
      "cynthia prima suis miserum me cepit ocellis\n",
      "quid iuuat ornato procedere uita capillo\n",
      "qualis thesea iacuit cedente carina\n",
      "quid mihi tam multas laudando basse puellas\n",
      "quid tibi uis insane meae sentire furores\n",
      "non ego nunc hadriae uereor mare noscere tecum\n",
      "dum tibi cadmeae dicuntur pontice thebae\n",
      "tune igitur demens nec te mea cura moratur\n",
      "hic erit hic iurata manet rumpantur iniqui\n",
      "dicebam tibi uenturos irrisor amores\n",
      "o iucunda quies primo cum testis amori\n",
      "ecquid te mediis cessantem cynthia baiis\n",
      "quid mihi desidiae non cessas fingere crimen\n",
      "tu quod saepe soles nostro laetabere casu\n",
      "tu licet abiectus tiberina molliter unda\n",
      "saepe ego multa tuae leuitatis dura timebam\n",
      "quae fueram magnis olim patefacta triumphis\n",
      "et merito quoniam potui fugisse puellam\n",
      "haec certe deserta loca et taciturna querenti\n",
      "non ego nunc tristis uereor mea cynthia manes\n",
      "hoc pro continuo te galle monemus amore\n",
      "tu qui consortem properas euadere casum\n",
      "qualis et unde genus qui sint mihi tulle penates\n"
     ]
    }
   ],
   "source": [
    "for poem in propertius:\n",
    "    print(poem[:poem.find('\\n')])"
   ]
  },
  {
   "cell_type": "code",
   "execution_count": 16,
   "metadata": {
    "collapsed": true
   },
   "outputs": [],
   "source": [
    "tibullus_titles = ['Tib. 1.1', 'Tib. 1.2', 'Tib. 1.3', 'Tib. 1.4', 'Tib. 1.5', \n",
    "                   'Tib. 1.6', 'Tib. 1.7', 'Tib. 1.8', 'Tib. 1.9', 'Tib. 1.10']\n",
    "\n",
    "propertius_titles = ['Prop. 1.1', 'Prop. 1.2', 'Prop. 1.3', 'Prop. 1.4', 'Prop. 1.5', \n",
    "                     'Prop. 1.6', 'Prop. 1.7', 'Prop. 1.8a', 'Prop. 1.8b', 'Prop. 1.9', \n",
    "                     'Prop. 1.10', 'Prop. 1.11', 'Prop. 1.12', 'Prop. 1.13', 'Prop. 1.14', \n",
    "                     'Prop. 1.15', 'Prop. 1.16', 'Prop. 1.17', 'Prop. 1.18', 'Prop. 1.19', \n",
    "                     'Prop. 1.20', 'Prop. 1.21', 'Prop. 1.22']\n"
   ]
  },
  {
   "cell_type": "code",
   "execution_count": 17,
   "metadata": {},
   "outputs": [
    {
     "name": "stdout",
     "output_type": "stream",
     "text": [
      "cynthia prima suis miserum me cepit ocellis\n",
      " contactum nullis ante cupidinibus\n",
      "tum mihi constantis deiecit lumina fastus\n",
      " et caput impositis pressit amor pedibus\n",
      "donec me docuit castas odisse puellas\n",
      " improbus et nullo uiuere consilio\n",
      "ei mihi iam toto furor hic non deficit anno\n",
      " cum tamen aduersos cogor habere deos\n",
      "milanion nullos fugiendo tulle labores\n",
      " saeuitiam durae contudit iasidos\n",
      "nam modo partheniis amens errabat in antris\n",
      " rursus in hirsutas ibat et ille feras\n",
      "ille etiam hylaei percussus uulnere rami\n",
      " saucius arcadiis rupibus ingemuit\n",
      "ergo uelocem potuit domuisse puellam\n",
      " tantum in amore fides et benefacta ualent\n",
      "in me tardus amor non ullas cogitat artes\n",
      " nec meminit notas ut prius ire uias\n",
      "at uos deductae quibus est pellacia lunae\n",
      " et labor in magicis sacra piare focis\n",
      "en agedum dominae mentem conuertite nostrae\n",
      " et facite illa meo palleat ore magis\n",
      "tunc ego crediderim manes et sidera uobis\n",
      " posse cytinaeis ducere carminibus\n",
      "aut uos qui sero lapsum reuocatis amici\n",
      " quaerite non sani pectoris auxilia\n",
      "fortiter et ferrum saeuos patiemur et ignes\n",
      " sit modo libertas quae uelit ira loqui\n",
      "ferte per extremas gentes et ferte per undas\n",
      " qua non ulla meum femina norit iter\n",
      "uos remanete quibus facili deus annuit aure\n",
      " sitis et in tuto semper amore pares\n",
      "nam me nostra uenus noctes exercet amaras\n",
      " et nullo uacuus tempore defit amor\n",
      "hoc moneo uitate malum sua quemque moretur\n",
      " cura neque assueto mutet amore torum\n",
      "quod si quis monitis tardas aduerterit aures\n",
      " heu referet quanto uerba dolore mea\n"
     ]
    }
   ],
   "source": [
    "print(propertius[0])"
   ]
  },
  {
   "cell_type": "code",
   "execution_count": 18,
   "metadata": {
    "collapsed": true
   },
   "outputs": [],
   "source": [
    "from cltk.tokenize.word import WordTokenizer\n",
    "word_tokenizer = WordTokenizer('latin')"
   ]
  },
  {
   "cell_type": "code",
   "execution_count": 19,
   "metadata": {},
   "outputs": [
    {
     "name": "stdout",
     "output_type": "stream",
     "text": [
      "['cynthia', 'prima', 'suis', 'miserum', 'me', 'cepit', 'ocellis', 'contactum', 'nullis', 'ante', 'cupidinibus', 'tum', 'mihi', 'constantis', 'deiecit', 'lumina', 'fastus', 'et', 'caput', 'impositis', 'pressit', 'amor', 'pedibus', 'donec', 'me', 'docuit', 'castas', 'odisse', 'puellas', 'improbus', 'et', 'nullo', 'uiuere', 'consilio', 'ei', 'mihi', 'iam', 'toto', 'furor', 'hic', 'non', 'deficit', 'anno', 'cum', 'tamen', 'aduersos', 'cogor', 'habere', 'deos', 'milanio', '-ne', 'nullos', 'fugiendo', 'tulle', 'labores', 'saeuitiam', 'durae', 'contudit', 'iasidos', 'nam', 'modo', 'partheniis', 'amens', 'errabat', 'in', 'antris', 'rursus', 'in', 'hirsutas', 'ibat', 'et', 'ille', 'feras', 'ille', 'etiam', 'hylaei', 'percussus', 'uulnere', 'rami', 'saucius', 'arcadiis', 'rupibus', 'ingemuit', 'ergo', 'uelocem', 'potuit', 'domuisse', 'puellam', 'tantum', 'in', 'amore', 'fides', 'et', 'benefacta', 'ualent', 'in', 'me', 'tardus', 'amor', 'non', 'ullas', 'cogitat', 'artes', 'nec', 'meminit', 'notas', 'ut', 'prius', 'ire', 'uias', 'at', 'uos', 'deductae', 'quibus', 'est', 'pellacia', 'lunae', 'et', 'labor', 'in', 'magicis', 'sacra', 'piare', 'focis', 'en', 'agedum', 'dominae', 'mentem', 'conuertite', 'nostrae', 'et', 'facite', 'illa', 'meo', 'palleat', 'ore', 'magis', 'tunc', 'ego', 'crediderim', 'manes', 'et', 'sidera', 'uobis', 'posse', 'cytinaeis', 'ducere', 'carminibus', 'aut', 'uos', 'qui', 'sero', 'lapsum', 'reuocatis', 'amici', 'quaerite', 'non', 'sani', 'pectoris', 'auxilia', 'fortiter', 'et', 'ferrum', 'saeuos', 'patiemur', 'et', 'ignes', 'sit', 'modo', 'libertas', 'quae', 'uelit', 'ira', 'loqui', 'ferte', 'per', 'extremas', 'gentes', 'et', 'ferte', 'per', 'undas', 'qua', 'non', 'ulla', 'meum', 'femina', 'norit', 'iter', 'uos', 'remanete', 'quibus', 'facili', 'deus', 'annuit', 'aure', 'sitis', 'et', 'in', 'tuto', 'semper', 'amore', 'pares', 'nam', 'me', 'nostra', 'uenus', 'noctes', 'exercet', 'amaras', 'et', 'nullo', 'uacuus', 'tempore', 'defit', 'amor', 'hoc', 'moneo', 'uitate', 'malum', 'sua', 'quemque', 'moretur', 'cura', 'neque', 'assueto', 'mutet', 'amore', 'torum', 'quod', 'si', 'quis', 'monitis', 'tardas', 'aduerterit', 'aures', 'heu', 'referet', 'quanto', 'uerba', 'dolore', 'mea']\n"
     ]
    }
   ],
   "source": [
    "tokens = word_tokenizer.tokenize(propertius[0])\n",
    "print(tokens)"
   ]
  },
  {
   "cell_type": "code",
   "execution_count": 20,
   "metadata": {
    "collapsed": true
   },
   "outputs": [],
   "source": [
    "propertius_tokens = [word_tokenizer.tokenize(poem) for poem in propertius]\n",
    "tibullus_tokens = [word_tokenizer.tokenize(poem) for poem in tibullus]"
   ]
  },
  {
   "cell_type": "code",
   "execution_count": 21,
   "metadata": {
    "collapsed": true
   },
   "outputs": [],
   "source": [
    "import os\n",
    "from cltk.utils.file_operations import open_pickle\n",
    "\n",
    "# Set up training sentences\n",
    "\n",
    "rel_path = os.path.join('~/cltk_data/latin/model/latin_models_cltk/lemmata/backoff')\n",
    "path = os.path.expanduser(rel_path)\n",
    "\n",
    "# Check for presence of latin_pos_lemmatized_sents\n",
    "file = 'latin_pos_lemmatized_sents.pickle'      \n",
    "\n",
    "latin_pos_lemmatized_sents_path = os.path.join(path, file)\n",
    "if os.path.isfile(latin_pos_lemmatized_sents_path):\n",
    "    latin_pos_lemmatized_sents = open_pickle(latin_pos_lemmatized_sents_path)\n",
    "else:\n",
    "    latin_pos_lemmatized_sents = []\n",
    "    print('The file %s is not available in cltk_data' % file)  "
   ]
  },
  {
   "cell_type": "code",
   "execution_count": 22,
   "metadata": {
    "collapsed": true
   },
   "outputs": [],
   "source": [
    "from cltk.lemmatize.latin.backoff import BackoffLatinLemmatizer\n",
    "lemmatizer = BackoffLatinLemmatizer(latin_pos_lemmatized_sents)"
   ]
  },
  {
   "cell_type": "code",
   "execution_count": 23,
   "metadata": {},
   "outputs": [],
   "source": [
    "#lemmas = lemmatizer.lemmatize(propertius_tokens[0])"
   ]
  },
  {
   "cell_type": "code",
   "execution_count": 24,
   "metadata": {},
   "outputs": [],
   "source": [
    "#print(lemmas)"
   ]
  },
  {
   "cell_type": "code",
   "execution_count": 400,
   "metadata": {
    "collapsed": true
   },
   "outputs": [],
   "source": [
    "# Make one string of all files, delimited by |||\n",
    "# (NB: Attempt to reduce the number of regex compiles.)\n",
    "\n",
    "def create_lemmatized_texts(texts):\n",
    "    textin = \" ||| \".join(texts)\n",
    "    tokens = textin.split()\n",
    "    lemmas = lemmatizer.lemmatize(tokens)\n",
    "    textout = \" \".join(lemma[1] for lemma in lemmas)\n",
    "    translator = str.maketrans({key: \" \" for key in '0123456789'})\n",
    "    textout = textout.translate(translator)\n",
    "    lemmatized_texts = textout.split('|||')\n",
    "    #lemmatized_texts = textout\n",
    "    return lemmatized_texts\n"
   ]
  },
  {
   "cell_type": "code",
   "execution_count": 401,
   "metadata": {},
   "outputs": [
    {
     "name": "stdout",
     "output_type": "stream",
     "text": [
      "['cynthia primus suus miser ego capio ocellus contingo nullus ante cupido tum ego consto deicio lumen fastus et caput impono premo amor pes donec ego doceo castus odi puella improbus et nullus uiuo consilis is ego iam totus furor hic non deficio annus cum  tamen aduerto cogo habeo deus milanion nullus fugio tullus labor saevitia durus contundo iasidos nam modo parthenius amens erro in antrum rursus in hirsutus eo et ille ferus ille etiam hylaeus percutio uulnus ramus saucius arcadius rupes ingemo ergo uelox possum domo puella tantus in amor fides et benefacio ualeo in ego tardus amor non ullus cogito ars neque memini nosco ut prior eo uia at tu deduco qui sum pellacia luna et labor in magicus sacer piaris focus en agedum domina mens conuerto noster et facio ille meus palleo os magis tunc ego credo manes et sidus tu possum cytinaeis duco carmen aut tu qui serus labor reuoco amicus quaero non sanus pector auxilium fortis et ferrum saeuus patior et ignis sum modo libertas qui uolo ira loquor fero per exter gens et fero per unda qui non ullus meus femina nosco iter tu remaneo qui facilis deus annuo auris sum et in tueor semper amor paris nam ego noster uenus nox exerceo amarus et nullus uacuus tempus deficio amor hic moneo uitas malus suus quisque moror cura neque assuesco muto amor torus qui si quis moneo tardus aduerto auris heu refero quantus uerbum dolor meus']\n"
     ]
    }
   ],
   "source": [
    "test = create_lemmatized_texts(propertius[:1])\n",
    "print(test)"
   ]
  },
  {
   "cell_type": "code",
   "execution_count": 27,
   "metadata": {
    "collapsed": true
   },
   "outputs": [],
   "source": [
    "#propertius_lemmas = [lemmatizer.lemmatize(tokens) for tokens in propertius_tokens]\n",
    "#tibullus_lemmas = [lemmatizer.lemmatize(tokens) for tokens in tibullus_tokens]"
   ]
  },
  {
   "cell_type": "code",
   "execution_count": 28,
   "metadata": {
    "collapsed": true
   },
   "outputs": [],
   "source": [
    "# ^^^ pickle the lemmatized texts to speed up workshop"
   ]
  },
  {
   "cell_type": "code",
   "execution_count": 29,
   "metadata": {
    "collapsed": true
   },
   "outputs": [],
   "source": [
    "propertius_tokenized_texts = [' '.join(tokens) for tokens in propertius_tokens]\n",
    "tibullus_tokenized_texts = [' '.join(tokens) for tokens in tibullus_tokens]\n",
    "\n",
    "propertius_lemmatized_texts = create_lemmatized_texts(propertius_tokenized_texts)\n",
    "tibullus_lemmatized_texts = create_lemmatized_texts(tibullus_tokenized_texts)"
   ]
  },
  {
   "cell_type": "code",
   "execution_count": 30,
   "metadata": {
    "collapsed": true
   },
   "outputs": [],
   "source": [
    "propertius_lemmas = [text.split() for text in propertius_lemmatized_texts]\n",
    "propertius_lemmas = [item for sublist in propertius_lemmas for item in sublist]\n",
    "\n",
    "tibullus_lemmas = [text.split() for text in tibullus_lemmatized_texts]\n",
    "tibullus_lemmas = [item for sublist in tibullus_lemmas for item in sublist]"
   ]
  },
  {
   "cell_type": "code",
   "execution_count": 31,
   "metadata": {},
   "outputs": [
    {
     "name": "stdout",
     "output_type": "stream",
     "text": [
      "Top 25 lemmas in Propertius 1:\n",
      "\n",
      "       lemma       COUNT       Type-Tok %  RUNNING %   \n",
      "    1. et          135         3.05%       3.05%       \n",
      "    2. sum         124         2.81%       5.86%       \n",
      "    3. tu          113         2.56%       8.42%       \n",
      "    4. ego         106         2.4%        10.82%      \n",
      "    5. non         84          1.9%        12.72%      \n",
      "    6. qui         66          1.49%       14.21%      \n",
      "    7. amor        61          1.38%       15.59%      \n",
      "    8. meus        57          1.29%       16.88%      \n",
      "    9. ille        52          1.18%       18.06%      \n",
      "   10. neque       49          1.11%       19.17%      \n"
     ]
    }
   ],
   "source": [
    "from collections import Counter\n",
    "\n",
    "# Build counter of top token counts\n",
    "propertius_lemmas_counter = Counter(propertius_lemmas)\n",
    "propertius_lemmas_mc = propertius_lemmas_counter.most_common(100)\n",
    "\n",
    "running = 0\n",
    "\n",
    "print('Top 25 lemmas in Propertius 1:\\n')\n",
    "print(\"{number:>5}  {lemma:<12}{count:<12}{percent:<12}{running:<12}\".format(number=\"\", lemma=\"lemma\", count=\"COUNT\", percent=\"Type-Tok %\", running = \"RUNNING %\"))\n",
    "for i, pair in enumerate(propertius_lemmas_mc[:10]):\n",
    "    running += pair[1]\n",
    "    print(\"{number:>5}. {lemma:<12}{count:<12}{percent:<12}{running:<12}\".format(number=i+1, lemma=pair[0], count=pair[1], percent=str(round(pair[1] / len(propertius_lemmas)*100, 2))+\"%\", running = str(round(running / len(propertius_lemmas)*100, 2))+\"%\"))"
   ]
  },
  {
   "cell_type": "code",
   "execution_count": 32,
   "metadata": {},
   "outputs": [
    {
     "name": "stdout",
     "output_type": "stream",
     "text": [
      "Top 25 lemmas in tibullus 1:\n",
      "\n",
      "       lemma       COUNT       Type-Tok %  RUNNING %   \n",
      "    1. et          148         2.77%       2.77%       \n",
      "    2. sum         119         2.23%       5.0%        \n",
      "    3. ego         108         2.02%       7.02%       \n",
      "    4. -que        106         1.98%       9.01%       \n",
      "    5. tu          101         1.89%       10.9%       \n",
      "    6. non         68          1.27%       12.17%      \n",
      "    7. hic         61          1.14%       13.31%      \n",
      "    8. qui         56          1.05%       14.36%      \n",
      "    9. ille        56          1.05%       15.41%      \n",
      "   10. neque       48          0.9%        16.31%      \n"
     ]
    }
   ],
   "source": [
    "# Build counter of top token counts\n",
    "tibullus_lemmas_counter = Counter(tibullus_lemmas)\n",
    "tibullus_lemmas_mc = tibullus_lemmas_counter.most_common(100)\n",
    "\n",
    "running = 0\n",
    "\n",
    "print('Top 25 lemmas in tibullus 1:\\n')\n",
    "print(\"{number:>5}  {lemma:<12}{count:<12}{percent:<12}{running:<12}\".format(number=\"\", lemma=\"lemma\", count=\"COUNT\", percent=\"Type-Tok %\", running = \"RUNNING %\"))\n",
    "for i, pair in enumerate(tibullus_lemmas_mc[:10]):\n",
    "    running += pair[1]\n",
    "    print(\"{number:>5}. {lemma:<12}{count:<12}{percent:<12}{running:<12}\".format(number=i+1, lemma=pair[0], count=pair[1], percent=str(round(pair[1] / len(tibullus_lemmas)*100, 2))+\"%\", running = str(round(running / len(tibullus_lemmas)*100, 2))+\"%\"))"
   ]
  },
  {
   "cell_type": "code",
   "execution_count": 33,
   "metadata": {},
   "outputs": [],
   "source": [
    "import numpy as np\n",
    "import sklearn.feature_extraction.text as text"
   ]
  },
  {
   "cell_type": "code",
   "execution_count": 34,
   "metadata": {
    "collapsed": true
   },
   "outputs": [],
   "source": [
    "vectorizer = text.CountVectorizer(input='content')"
   ]
  },
  {
   "cell_type": "code",
   "execution_count": 35,
   "metadata": {},
   "outputs": [
    {
     "name": "stdout",
     "output_type": "stream",
     "text": [
      "['ab' 'abeo' 'abicio' ..., 'zephyro' 'zephyrus' 'zetes']\n"
     ]
    }
   ],
   "source": [
    "dtm = vectorizer.fit_transform(propertius_lemmatized_texts)\n",
    "dtm = dtm.toarray()\n",
    "vocab = np.array(vectorizer.get_feature_names())\n",
    "print(vocab)"
   ]
  },
  {
   "cell_type": "code",
   "execution_count": 36,
   "metadata": {},
   "outputs": [
    {
     "name": "stdout",
     "output_type": "stream",
     "text": [
      "[242 196 262 194 196 235 163 171 134 226 185 183 132 234 149 251 284 173\n",
      " 213 166 302  58  60]\n",
      "23\n"
     ]
    }
   ],
   "source": [
    "lengths = np.sum(dtm, axis=1)\n",
    "print(lengths)\n",
    "print(len(lengths))"
   ]
  },
  {
   "cell_type": "code",
   "execution_count": 37,
   "metadata": {},
   "outputs": [],
   "source": [
    "import matplotlib.pyplot as plt"
   ]
  },
  {
   "cell_type": "code",
   "execution_count": 38,
   "metadata": {
    "collapsed": true
   },
   "outputs": [],
   "source": [
    "from sklearn.manifold import MDS\n",
    "from sklearn.metrics.pairwise import cosine_similarity"
   ]
  },
  {
   "cell_type": "code",
   "execution_count": 39,
   "metadata": {
    "collapsed": true
   },
   "outputs": [],
   "source": [
    "dist = 1 - cosine_similarity(dtm)"
   ]
  },
  {
   "cell_type": "code",
   "execution_count": 40,
   "metadata": {
    "collapsed": true
   },
   "outputs": [],
   "source": [
    "mds = MDS(n_components=2, dissimilarity='precomputed', random_state=1)"
   ]
  },
  {
   "cell_type": "code",
   "execution_count": 41,
   "metadata": {
    "collapsed": true
   },
   "outputs": [],
   "source": [
    "pos = mds.fit_transform(dist)"
   ]
  },
  {
   "cell_type": "code",
   "execution_count": 42,
   "metadata": {},
   "outputs": [
    {
     "data": {
      "image/png": "[encoded data removed]",
      "text/plain": [
       "<matplotlib.figure.Figure at 0x1158e9c88>"
      ]
     },
     "metadata": {},
     "output_type": "display_data"
    }
   ],
   "source": [
    "plt.figure(figsize=(11,8.5))\n",
    "\n",
    "xs, ys = pos[:,0], pos[:,1]\n",
    "plt.scatter(xs, ys, cmap='spring')\n",
    "for x, y, name in zip(xs, ys, propertius_titles):\n",
    "    plt.text(x,y,name,alpha=0.5,fontsize=10)\n",
    "\n",
    "    \n",
    "#print(len(xs))\n",
    "plt.show()"
   ]
  },
  {
   "cell_type": "code",
   "execution_count": 43,
   "metadata": {
    "collapsed": true
   },
   "outputs": [],
   "source": [
    "from scipy.cluster.hierarchy import ward, dendrogram"
   ]
  },
  {
   "cell_type": "code",
   "execution_count": 44,
   "metadata": {
    "collapsed": true
   },
   "outputs": [],
   "source": [
    "linkage_matrix = ward(dist)"
   ]
  },
  {
   "cell_type": "code",
   "execution_count": 47,
   "metadata": {},
   "outputs": [
    {
     "data": {
      "image/png": "[encoded data removed]",
      "text/plain": [
       "<matplotlib.figure.Figure at 0x115cc4c50>"
      ]
     },
     "metadata": {},
     "output_type": "display_data"
    }
   ],
   "source": [
    "plt.figure(figsize=(11,11))\n",
    "dendrogram(linkage_matrix, orientation=\"left\", labels=propertius_titles, leaf_font_size=12);\n",
    "plt.show()"
   ]
  },
  {
   "cell_type": "code",
   "execution_count": 48,
   "metadata": {
    "collapsed": true
   },
   "outputs": [],
   "source": [
    "texts = propertius_lemmatized_texts + tibullus_lemmatized_texts\n",
    "titles = propertius_titles + tibullus_titles\n",
    "\n"
   ]
  },
  {
   "cell_type": "code",
   "execution_count": 49,
   "metadata": {},
   "outputs": [],
   "source": [
    "dtm = vectorizer.fit_transform(texts)\n",
    "dtm = dtm.toarray()"
   ]
  },
  {
   "cell_type": "code",
   "execution_count": 50,
   "metadata": {},
   "outputs": [
    {
     "data": {
      "text/plain": [
       "<matplotlib.figure.Figure at 0x1158e3908>"
      ]
     },
     "execution_count": 50,
     "metadata": {},
     "output_type": "execute_result"
    }
   ],
   "source": [
    "dist = 1 - cosine_similarity(dtm)\n",
    "mds = MDS(n_components=2, dissimilarity='precomputed', random_state=1)\n",
    "pos = mds.fit_transform(dist)\n",
    "plt.figure(figsize=(11,8.5))"
   ]
  },
  {
   "cell_type": "code",
   "execution_count": 52,
   "metadata": {},
   "outputs": [
    {
     "data": {
      "image/png": "[encoded data removed]",
      "text/plain": [
       "<matplotlib.figure.Figure at 0x116978d30>"
      ]
     },
     "metadata": {},
     "output_type": "display_data"
    }
   ],
   "source": [
    "linkage_matrix = ward(dist)\n",
    "plt.figure(figsize=(11,11))\n",
    "dendrogram(linkage_matrix, orientation=\"left\", labels=titles, leaf_font_size=12);\n",
    "plt.show()"
   ]
  },
  {
   "cell_type": "markdown",
   "metadata": {
    "collapsed": true
   },
   "source": [
    "\"The fact that four words (out of eighty-four) in a Propertian passage, and words that are hardly unusual or remarkable, bear some similarity to four words (out ofthirty-four) in some lines ofTibullus provides extremely weak grounds for claiming Propertian influence.\" (Murgatroyd, P. 1982. \"Reply to Review,\" *Acta Classica* 25: 145-147.)"
   ]
  },
  {
   "cell_type": "code",
   "execution_count": 366,
   "metadata": {
    "collapsed": true
   },
   "outputs": [],
   "source": [
    "from cltk.stop.latin.stops import STOPS_LIST as latin_stops\n",
    "latin_stops += ['cynthia']"
   ]
  },
  {
   "cell_type": "code",
   "execution_count": 384,
   "metadata": {},
   "outputs": [
    {
     "data": {
      "text/plain": [
       "(33, 633)"
      ]
     },
     "execution_count": 384,
     "metadata": {},
     "output_type": "execute_result"
    }
   ],
   "source": [
    "import sklearn.feature_extraction.text as text\n",
    "vectorizer = text.CountVectorizer(input='content', stop_words=latin_stops, min_df=3)\n",
    "dtm = vectorizer.fit_transform(propertius_lemmatized_texts+tibullus_lemmatized_texts).toarray()\n",
    "vocab = np.array(vectorizer.get_feature_names())\n",
    "\n",
    "dtm.shape"
   ]
  },
  {
   "cell_type": "code",
   "execution_count": 385,
   "metadata": {},
   "outputs": [],
   "source": [
    "from sklearn import decomposition\n",
    "num_topics = 10\n",
    "num_top_words = 10\n",
    "clf = decomposition.NMF(n_components=num_topics, random_state=1)"
   ]
  },
  {
   "cell_type": "code",
   "execution_count": 386,
   "metadata": {},
   "outputs": [],
   "source": [
    "doctopic = clf.fit_transform(dtm)"
   ]
  },
  {
   "cell_type": "code",
   "execution_count": 387,
   "metadata": {
    "collapsed": true
   },
   "outputs": [],
   "source": [
    "topic_words = []\n",
    "\n",
    "for topic in clf.components_:\n",
    "    word_idx = np.argsort(topic)[::-1][0:num_top_words]\n",
    "    topic_words.append([vocab[i] for i in word_idx])"
   ]
  },
  {
   "cell_type": "code",
   "execution_count": 388,
   "metadata": {
    "collapsed": true
   },
   "outputs": [],
   "source": [
    "doctopic = doctopic / np.sum(doctopic, axis=1, keepdims=True)"
   ]
  },
  {
   "cell_type": "code",
   "execution_count": 389,
   "metadata": {
    "collapsed": true
   },
   "outputs": [],
   "source": [
    "names = np.asarray(propertius_titles+tibullus_titles)"
   ]
  },
  {
   "cell_type": "code",
   "execution_count": 390,
   "metadata": {
    "collapsed": true
   },
   "outputs": [],
   "source": [
    "doctopic_orig = doctopic.copy()"
   ]
  },
  {
   "cell_type": "code",
   "execution_count": 391,
   "metadata": {
    "collapsed": true
   },
   "outputs": [],
   "source": [
    "num_groups = len(set(names))"
   ]
  },
  {
   "cell_type": "code",
   "execution_count": 392,
   "metadata": {
    "collapsed": true
   },
   "outputs": [],
   "source": [
    "doctopic_grouped = np.zeros((num_groups, num_topics))"
   ]
  },
  {
   "cell_type": "code",
   "execution_count": 393,
   "metadata": {},
   "outputs": [],
   "source": [
    "for i, name in enumerate(sorted(set(names))):\n",
    "    doctopic_grouped[i, :] = np.mean(doctopic[names == name, :], axis=0)"
   ]
  },
  {
   "cell_type": "code",
   "execution_count": 394,
   "metadata": {
    "collapsed": true
   },
   "outputs": [],
   "source": [
    "doctopic = doctopic_grouped"
   ]
  },
  {
   "cell_type": "code",
   "execution_count": 395,
   "metadata": {
    "collapsed": true
   },
   "outputs": [],
   "source": [
    "from IPython.display import display, HTML"
   ]
  },
  {
   "cell_type": "code",
   "execution_count": 396,
   "metadata": {},
   "outputs": [
    {
     "data": {
      "text/html": [
       "<div>\n",
       "<style>\n",
       "    .dataframe thead tr:only-child th {\n",
       "        text-align: right;\n",
       "    }\n",
       "\n",
       "    .dataframe thead th {\n",
       "        text-align: left;\n",
       "    }\n",
       "\n",
       "    .dataframe tbody tr th {\n",
       "        vertical-align: top;\n",
       "    }\n",
       "</style>\n",
       "<table border=\"1\" class=\"dataframe\">\n",
       "  <thead>\n",
       "    <tr style=\"text-align: right;\">\n",
       "      <th></th>\n",
       "      <th>0</th>\n",
       "      <th>1</th>\n",
       "      <th>2</th>\n",
       "      <th>3</th>\n",
       "      <th>4</th>\n",
       "      <th>5</th>\n",
       "      <th>6</th>\n",
       "      <th>7</th>\n",
       "      <th>8</th>\n",
       "      <th>9</th>\n",
       "    </tr>\n",
       "  </thead>\n",
       "  <tbody>\n",
       "    <tr>\n",
       "      <th>Prop. 1.1</th>\n",
       "      <td>0.000000</td>\n",
       "      <td>0.000000</td>\n",
       "      <td>0.033403</td>\n",
       "      <td>0.082858</td>\n",
       "      <td>0.000000</td>\n",
       "      <td>0.000000</td>\n",
       "      <td>0.000000</td>\n",
       "      <td>0.000000</td>\n",
       "      <td>0.063848</td>\n",
       "      <td>0.819891</td>\n",
       "    </tr>\n",
       "    <tr>\n",
       "      <th>Prop. 1.2</th>\n",
       "      <td>0.000000</td>\n",
       "      <td>0.281510</td>\n",
       "      <td>0.000000</td>\n",
       "      <td>0.130922</td>\n",
       "      <td>0.000000</td>\n",
       "      <td>0.000000</td>\n",
       "      <td>0.000000</td>\n",
       "      <td>0.014572</td>\n",
       "      <td>0.000000</td>\n",
       "      <td>0.572996</td>\n",
       "    </tr>\n",
       "    <tr>\n",
       "      <th>Prop. 1.3</th>\n",
       "      <td>0.010757</td>\n",
       "      <td>0.000000</td>\n",
       "      <td>0.000000</td>\n",
       "      <td>0.102167</td>\n",
       "      <td>0.000000</td>\n",
       "      <td>0.000000</td>\n",
       "      <td>0.041318</td>\n",
       "      <td>0.000000</td>\n",
       "      <td>0.000000</td>\n",
       "      <td>0.845758</td>\n",
       "    </tr>\n",
       "    <tr>\n",
       "      <th>Prop. 1.4</th>\n",
       "      <td>0.000000</td>\n",
       "      <td>0.118505</td>\n",
       "      <td>0.000000</td>\n",
       "      <td>0.000000</td>\n",
       "      <td>0.000000</td>\n",
       "      <td>0.000000</td>\n",
       "      <td>0.061520</td>\n",
       "      <td>0.000000</td>\n",
       "      <td>0.083190</td>\n",
       "      <td>0.736784</td>\n",
       "    </tr>\n",
       "    <tr>\n",
       "      <th>Prop. 1.5</th>\n",
       "      <td>0.000000</td>\n",
       "      <td>0.000000</td>\n",
       "      <td>0.013452</td>\n",
       "      <td>0.032213</td>\n",
       "      <td>0.000000</td>\n",
       "      <td>0.000000</td>\n",
       "      <td>0.000000</td>\n",
       "      <td>0.035700</td>\n",
       "      <td>0.000000</td>\n",
       "      <td>0.918635</td>\n",
       "    </tr>\n",
       "    <tr>\n",
       "      <th>Prop. 1.6</th>\n",
       "      <td>0.000000</td>\n",
       "      <td>0.005072</td>\n",
       "      <td>0.048424</td>\n",
       "      <td>0.124037</td>\n",
       "      <td>0.000000</td>\n",
       "      <td>0.000000</td>\n",
       "      <td>0.000000</td>\n",
       "      <td>0.000000</td>\n",
       "      <td>0.000000</td>\n",
       "      <td>0.822467</td>\n",
       "    </tr>\n",
       "    <tr>\n",
       "      <th>Prop. 1.7</th>\n",
       "      <td>0.000000</td>\n",
       "      <td>0.000000</td>\n",
       "      <td>0.000000</td>\n",
       "      <td>0.000000</td>\n",
       "      <td>0.115632</td>\n",
       "      <td>0.000000</td>\n",
       "      <td>0.000000</td>\n",
       "      <td>0.238091</td>\n",
       "      <td>0.029539</td>\n",
       "      <td>0.616738</td>\n",
       "    </tr>\n",
       "    <tr>\n",
       "      <th>Prop. 1.8a</th>\n",
       "      <td>0.000000</td>\n",
       "      <td>1.000000</td>\n",
       "      <td>0.000000</td>\n",
       "      <td>0.000000</td>\n",
       "      <td>0.000000</td>\n",
       "      <td>0.000000</td>\n",
       "      <td>0.000000</td>\n",
       "      <td>0.000000</td>\n",
       "      <td>0.000000</td>\n",
       "      <td>0.000000</td>\n",
       "    </tr>\n",
       "    <tr>\n",
       "      <th>Prop. 1.8b</th>\n",
       "      <td>0.000000</td>\n",
       "      <td>0.329675</td>\n",
       "      <td>0.000000</td>\n",
       "      <td>0.000000</td>\n",
       "      <td>0.000000</td>\n",
       "      <td>0.002762</td>\n",
       "      <td>0.201232</td>\n",
       "      <td>0.000000</td>\n",
       "      <td>0.000000</td>\n",
       "      <td>0.466332</td>\n",
       "    </tr>\n",
       "    <tr>\n",
       "      <th>Prop. 1.9</th>\n",
       "      <td>0.000000</td>\n",
       "      <td>0.557352</td>\n",
       "      <td>0.000000</td>\n",
       "      <td>0.000000</td>\n",
       "      <td>0.000000</td>\n",
       "      <td>0.000000</td>\n",
       "      <td>0.000000</td>\n",
       "      <td>0.099279</td>\n",
       "      <td>0.000000</td>\n",
       "      <td>0.343369</td>\n",
       "    </tr>\n",
       "    <tr>\n",
       "      <th>Prop. 1.10</th>\n",
       "      <td>0.000000</td>\n",
       "      <td>0.212320</td>\n",
       "      <td>0.000000</td>\n",
       "      <td>0.000000</td>\n",
       "      <td>0.000000</td>\n",
       "      <td>0.050517</td>\n",
       "      <td>0.000000</td>\n",
       "      <td>0.000000</td>\n",
       "      <td>0.000000</td>\n",
       "      <td>0.737163</td>\n",
       "    </tr>\n",
       "    <tr>\n",
       "      <th>Prop. 1.11</th>\n",
       "      <td>0.245220</td>\n",
       "      <td>0.000000</td>\n",
       "      <td>0.030094</td>\n",
       "      <td>0.000000</td>\n",
       "      <td>0.000000</td>\n",
       "      <td>0.050853</td>\n",
       "      <td>0.000000</td>\n",
       "      <td>0.238256</td>\n",
       "      <td>0.118174</td>\n",
       "      <td>0.317403</td>\n",
       "    </tr>\n",
       "    <tr>\n",
       "      <th>Prop. 1.12</th>\n",
       "      <td>0.000000</td>\n",
       "      <td>0.000000</td>\n",
       "      <td>0.152292</td>\n",
       "      <td>0.000000</td>\n",
       "      <td>0.000000</td>\n",
       "      <td>0.000000</td>\n",
       "      <td>0.039843</td>\n",
       "      <td>0.000000</td>\n",
       "      <td>0.009920</td>\n",
       "      <td>0.797945</td>\n",
       "    </tr>\n",
       "    <tr>\n",
       "      <th>Prop. 1.13</th>\n",
       "      <td>0.000000</td>\n",
       "      <td>0.434663</td>\n",
       "      <td>0.000000</td>\n",
       "      <td>0.000000</td>\n",
       "      <td>0.000000</td>\n",
       "      <td>0.000000</td>\n",
       "      <td>0.000000</td>\n",
       "      <td>0.112453</td>\n",
       "      <td>0.000000</td>\n",
       "      <td>0.452884</td>\n",
       "    </tr>\n",
       "    <tr>\n",
       "      <th>Prop. 1.14</th>\n",
       "      <td>0.000000</td>\n",
       "      <td>0.317137</td>\n",
       "      <td>0.000000</td>\n",
       "      <td>0.103722</td>\n",
       "      <td>0.000000</td>\n",
       "      <td>0.040470</td>\n",
       "      <td>0.000000</td>\n",
       "      <td>0.000000</td>\n",
       "      <td>0.048892</td>\n",
       "      <td>0.489780</td>\n",
       "    </tr>\n",
       "    <tr>\n",
       "      <th>Prop. 1.15</th>\n",
       "      <td>0.000000</td>\n",
       "      <td>0.238191</td>\n",
       "      <td>0.000000</td>\n",
       "      <td>0.059804</td>\n",
       "      <td>0.000000</td>\n",
       "      <td>0.008440</td>\n",
       "      <td>0.023306</td>\n",
       "      <td>0.043907</td>\n",
       "      <td>0.324413</td>\n",
       "      <td>0.301938</td>\n",
       "    </tr>\n",
       "    <tr>\n",
       "      <th>Prop. 1.16</th>\n",
       "      <td>0.000000</td>\n",
       "      <td>0.138473</td>\n",
       "      <td>0.000000</td>\n",
       "      <td>0.086856</td>\n",
       "      <td>0.000000</td>\n",
       "      <td>0.000000</td>\n",
       "      <td>0.036576</td>\n",
       "      <td>0.000000</td>\n",
       "      <td>0.000000</td>\n",
       "      <td>0.738095</td>\n",
       "    </tr>\n",
       "    <tr>\n",
       "      <th>Prop. 1.17</th>\n",
       "      <td>0.000000</td>\n",
       "      <td>0.246595</td>\n",
       "      <td>0.000000</td>\n",
       "      <td>0.054623</td>\n",
       "      <td>0.000000</td>\n",
       "      <td>0.000000</td>\n",
       "      <td>0.000000</td>\n",
       "      <td>0.154850</td>\n",
       "      <td>0.000000</td>\n",
       "      <td>0.543931</td>\n",
       "    </tr>\n",
       "    <tr>\n",
       "      <th>Prop. 1.18</th>\n",
       "      <td>0.058320</td>\n",
       "      <td>0.182969</td>\n",
       "      <td>0.000000</td>\n",
       "      <td>0.134293</td>\n",
       "      <td>0.000000</td>\n",
       "      <td>0.055728</td>\n",
       "      <td>0.040862</td>\n",
       "      <td>0.124953</td>\n",
       "      <td>0.000000</td>\n",
       "      <td>0.402875</td>\n",
       "    </tr>\n",
       "    <tr>\n",
       "      <th>Prop. 1.19</th>\n",
       "      <td>0.017249</td>\n",
       "      <td>0.199826</td>\n",
       "      <td>0.031319</td>\n",
       "      <td>0.000000</td>\n",
       "      <td>0.000940</td>\n",
       "      <td>0.000000</td>\n",
       "      <td>0.000000</td>\n",
       "      <td>0.000000</td>\n",
       "      <td>0.057179</td>\n",
       "      <td>0.693488</td>\n",
       "    </tr>\n",
       "    <tr>\n",
       "      <th>Prop. 1.20</th>\n",
       "      <td>0.000000</td>\n",
       "      <td>0.520550</td>\n",
       "      <td>0.000000</td>\n",
       "      <td>0.155776</td>\n",
       "      <td>0.000000</td>\n",
       "      <td>0.000000</td>\n",
       "      <td>0.000000</td>\n",
       "      <td>0.120118</td>\n",
       "      <td>0.000000</td>\n",
       "      <td>0.203556</td>\n",
       "    </tr>\n",
       "    <tr>\n",
       "      <th>Prop. 1.21</th>\n",
       "      <td>0.000000</td>\n",
       "      <td>0.571600</td>\n",
       "      <td>0.079921</td>\n",
       "      <td>0.079076</td>\n",
       "      <td>0.000000</td>\n",
       "      <td>0.000000</td>\n",
       "      <td>0.017621</td>\n",
       "      <td>0.029898</td>\n",
       "      <td>0.029786</td>\n",
       "      <td>0.192098</td>\n",
       "    </tr>\n",
       "    <tr>\n",
       "      <th>Prop. 1.22</th>\n",
       "      <td>0.006758</td>\n",
       "      <td>0.000000</td>\n",
       "      <td>0.000000</td>\n",
       "      <td>0.000000</td>\n",
       "      <td>0.000000</td>\n",
       "      <td>0.126796</td>\n",
       "      <td>0.000000</td>\n",
       "      <td>0.000000</td>\n",
       "      <td>0.000000</td>\n",
       "      <td>0.866446</td>\n",
       "    </tr>\n",
       "    <tr>\n",
       "      <th>Tib. 1.1</th>\n",
       "      <td>0.000000</td>\n",
       "      <td>0.000000</td>\n",
       "      <td>0.000000</td>\n",
       "      <td>0.000000</td>\n",
       "      <td>0.000000</td>\n",
       "      <td>0.000000</td>\n",
       "      <td>1.000000</td>\n",
       "      <td>0.000000</td>\n",
       "      <td>0.000000</td>\n",
       "      <td>0.000000</td>\n",
       "    </tr>\n",
       "    <tr>\n",
       "      <th>Tib. 1.2</th>\n",
       "      <td>1.000000</td>\n",
       "      <td>0.000000</td>\n",
       "      <td>0.000000</td>\n",
       "      <td>0.000000</td>\n",
       "      <td>0.000000</td>\n",
       "      <td>0.000000</td>\n",
       "      <td>0.000000</td>\n",
       "      <td>0.000000</td>\n",
       "      <td>0.000000</td>\n",
       "      <td>0.000000</td>\n",
       "    </tr>\n",
       "    <tr>\n",
       "      <th>Tib. 1.3</th>\n",
       "      <td>0.000000</td>\n",
       "      <td>0.000000</td>\n",
       "      <td>0.000000</td>\n",
       "      <td>0.981229</td>\n",
       "      <td>0.010739</td>\n",
       "      <td>0.008033</td>\n",
       "      <td>0.000000</td>\n",
       "      <td>0.000000</td>\n",
       "      <td>0.000000</td>\n",
       "      <td>0.000000</td>\n",
       "    </tr>\n",
       "    <tr>\n",
       "      <th>Tib. 1.4</th>\n",
       "      <td>0.000000</td>\n",
       "      <td>0.000000</td>\n",
       "      <td>0.000000</td>\n",
       "      <td>0.000000</td>\n",
       "      <td>0.000000</td>\n",
       "      <td>1.000000</td>\n",
       "      <td>0.000000</td>\n",
       "      <td>0.000000</td>\n",
       "      <td>0.000000</td>\n",
       "      <td>0.000000</td>\n",
       "    </tr>\n",
       "    <tr>\n",
       "      <th>Tib. 1.5</th>\n",
       "      <td>0.000000</td>\n",
       "      <td>0.000000</td>\n",
       "      <td>1.000000</td>\n",
       "      <td>0.000000</td>\n",
       "      <td>0.000000</td>\n",
       "      <td>0.000000</td>\n",
       "      <td>0.000000</td>\n",
       "      <td>0.000000</td>\n",
       "      <td>0.000000</td>\n",
       "      <td>0.000000</td>\n",
       "    </tr>\n",
       "    <tr>\n",
       "      <th>Tib. 1.6</th>\n",
       "      <td>0.291035</td>\n",
       "      <td>0.577148</td>\n",
       "      <td>0.000000</td>\n",
       "      <td>0.005509</td>\n",
       "      <td>0.002487</td>\n",
       "      <td>0.123820</td>\n",
       "      <td>0.000000</td>\n",
       "      <td>0.000000</td>\n",
       "      <td>0.000000</td>\n",
       "      <td>0.000000</td>\n",
       "    </tr>\n",
       "    <tr>\n",
       "      <th>Tib. 1.7</th>\n",
       "      <td>0.003543</td>\n",
       "      <td>0.000000</td>\n",
       "      <td>0.000000</td>\n",
       "      <td>0.003147</td>\n",
       "      <td>0.991105</td>\n",
       "      <td>0.000928</td>\n",
       "      <td>0.001277</td>\n",
       "      <td>0.000000</td>\n",
       "      <td>0.000000</td>\n",
       "      <td>0.000000</td>\n",
       "    </tr>\n",
       "    <tr>\n",
       "      <th>Tib. 1.8</th>\n",
       "      <td>0.401855</td>\n",
       "      <td>0.000000</td>\n",
       "      <td>0.392048</td>\n",
       "      <td>0.000000</td>\n",
       "      <td>0.025977</td>\n",
       "      <td>0.000000</td>\n",
       "      <td>0.000000</td>\n",
       "      <td>0.000000</td>\n",
       "      <td>0.165979</td>\n",
       "      <td>0.014142</td>\n",
       "    </tr>\n",
       "    <tr>\n",
       "      <th>Tib. 1.9</th>\n",
       "      <td>0.000000</td>\n",
       "      <td>0.000000</td>\n",
       "      <td>0.000000</td>\n",
       "      <td>0.000000</td>\n",
       "      <td>0.000000</td>\n",
       "      <td>0.000000</td>\n",
       "      <td>0.000000</td>\n",
       "      <td>0.000000</td>\n",
       "      <td>1.000000</td>\n",
       "      <td>0.000000</td>\n",
       "    </tr>\n",
       "    <tr>\n",
       "      <th>Tib. 1.10</th>\n",
       "      <td>0.022183</td>\n",
       "      <td>0.000000</td>\n",
       "      <td>0.000000</td>\n",
       "      <td>0.000000</td>\n",
       "      <td>0.000000</td>\n",
       "      <td>0.002691</td>\n",
       "      <td>0.000000</td>\n",
       "      <td>0.975125</td>\n",
       "      <td>0.000000</td>\n",
       "      <td>0.000000</td>\n",
       "    </tr>\n",
       "  </tbody>\n",
       "</table>\n",
       "</div>"
      ],
      "text/plain": [
       "                   0         1         2         3         4         5  \\\n",
       "Prop. 1.1   0.000000  0.000000  0.033403  0.082858  0.000000  0.000000   \n",
       "Prop. 1.2   0.000000  0.281510  0.000000  0.130922  0.000000  0.000000   \n",
       "Prop. 1.3   0.010757  0.000000  0.000000  0.102167  0.000000  0.000000   \n",
       "Prop. 1.4   0.000000  0.118505  0.000000  0.000000  0.000000  0.000000   \n",
       "Prop. 1.5   0.000000  0.000000  0.013452  0.032213  0.000000  0.000000   \n",
       "Prop. 1.6   0.000000  0.005072  0.048424  0.124037  0.000000  0.000000   \n",
       "Prop. 1.7   0.000000  0.000000  0.000000  0.000000  0.115632  0.000000   \n",
       "Prop. 1.8a  0.000000  1.000000  0.000000  0.000000  0.000000  0.000000   \n",
       "Prop. 1.8b  0.000000  0.329675  0.000000  0.000000  0.000000  0.002762   \n",
       "Prop. 1.9   0.000000  0.557352  0.000000  0.000000  0.000000  0.000000   \n",
       "Prop. 1.10  0.000000  0.212320  0.000000  0.000000  0.000000  0.050517   \n",
       "Prop. 1.11  0.245220  0.000000  0.030094  0.000000  0.000000  0.050853   \n",
       "Prop. 1.12  0.000000  0.000000  0.152292  0.000000  0.000000  0.000000   \n",
       "Prop. 1.13  0.000000  0.434663  0.000000  0.000000  0.000000  0.000000   \n",
       "Prop. 1.14  0.000000  0.317137  0.000000  0.103722  0.000000  0.040470   \n",
       "Prop. 1.15  0.000000  0.238191  0.000000  0.059804  0.000000  0.008440   \n",
       "Prop. 1.16  0.000000  0.138473  0.000000  0.086856  0.000000  0.000000   \n",
       "Prop. 1.17  0.000000  0.246595  0.000000  0.054623  0.000000  0.000000   \n",
       "Prop. 1.18  0.058320  0.182969  0.000000  0.134293  0.000000  0.055728   \n",
       "Prop. 1.19  0.017249  0.199826  0.031319  0.000000  0.000940  0.000000   \n",
       "Prop. 1.20  0.000000  0.520550  0.000000  0.155776  0.000000  0.000000   \n",
       "Prop. 1.21  0.000000  0.571600  0.079921  0.079076  0.000000  0.000000   \n",
       "Prop. 1.22  0.006758  0.000000  0.000000  0.000000  0.000000  0.126796   \n",
       "Tib. 1.1    0.000000  0.000000  0.000000  0.000000  0.000000  0.000000   \n",
       "Tib. 1.2    1.000000  0.000000  0.000000  0.000000  0.000000  0.000000   \n",
       "Tib. 1.3    0.000000  0.000000  0.000000  0.981229  0.010739  0.008033   \n",
       "Tib. 1.4    0.000000  0.000000  0.000000  0.000000  0.000000  1.000000   \n",
       "Tib. 1.5    0.000000  0.000000  1.000000  0.000000  0.000000  0.000000   \n",
       "Tib. 1.6    0.291035  0.577148  0.000000  0.005509  0.002487  0.123820   \n",
       "Tib. 1.7    0.003543  0.000000  0.000000  0.003147  0.991105  0.000928   \n",
       "Tib. 1.8    0.401855  0.000000  0.392048  0.000000  0.025977  0.000000   \n",
       "Tib. 1.9    0.000000  0.000000  0.000000  0.000000  0.000000  0.000000   \n",
       "Tib. 1.10   0.022183  0.000000  0.000000  0.000000  0.000000  0.002691   \n",
       "\n",
       "                   6         7         8         9  \n",
       "Prop. 1.1   0.000000  0.000000  0.063848  0.819891  \n",
       "Prop. 1.2   0.000000  0.014572  0.000000  0.572996  \n",
       "Prop. 1.3   0.041318  0.000000  0.000000  0.845758  \n",
       "Prop. 1.4   0.061520  0.000000  0.083190  0.736784  \n",
       "Prop. 1.5   0.000000  0.035700  0.000000  0.918635  \n",
       "Prop. 1.6   0.000000  0.000000  0.000000  0.822467  \n",
       "Prop. 1.7   0.000000  0.238091  0.029539  0.616738  \n",
       "Prop. 1.8a  0.000000  0.000000  0.000000  0.000000  \n",
       "Prop. 1.8b  0.201232  0.000000  0.000000  0.466332  \n",
       "Prop. 1.9   0.000000  0.099279  0.000000  0.343369  \n",
       "Prop. 1.10  0.000000  0.000000  0.000000  0.737163  \n",
       "Prop. 1.11  0.000000  0.238256  0.118174  0.317403  \n",
       "Prop. 1.12  0.039843  0.000000  0.009920  0.797945  \n",
       "Prop. 1.13  0.000000  0.112453  0.000000  0.452884  \n",
       "Prop. 1.14  0.000000  0.000000  0.048892  0.489780  \n",
       "Prop. 1.15  0.023306  0.043907  0.324413  0.301938  \n",
       "Prop. 1.16  0.036576  0.000000  0.000000  0.738095  \n",
       "Prop. 1.17  0.000000  0.154850  0.000000  0.543931  \n",
       "Prop. 1.18  0.040862  0.124953  0.000000  0.402875  \n",
       "Prop. 1.19  0.000000  0.000000  0.057179  0.693488  \n",
       "Prop. 1.20  0.000000  0.120118  0.000000  0.203556  \n",
       "Prop. 1.21  0.017621  0.029898  0.029786  0.192098  \n",
       "Prop. 1.22  0.000000  0.000000  0.000000  0.866446  \n",
       "Tib. 1.1    1.000000  0.000000  0.000000  0.000000  \n",
       "Tib. 1.2    0.000000  0.000000  0.000000  0.000000  \n",
       "Tib. 1.3    0.000000  0.000000  0.000000  0.000000  \n",
       "Tib. 1.4    0.000000  0.000000  0.000000  0.000000  \n",
       "Tib. 1.5    0.000000  0.000000  0.000000  0.000000  \n",
       "Tib. 1.6    0.000000  0.000000  0.000000  0.000000  \n",
       "Tib. 1.7    0.001277  0.000000  0.000000  0.000000  \n",
       "Tib. 1.8    0.000000  0.000000  0.165979  0.014142  \n",
       "Tib. 1.9    0.000000  0.000000  1.000000  0.000000  \n",
       "Tib. 1.10   0.000000  0.975125  0.000000  0.000000  "
      ]
     },
     "metadata": {},
     "output_type": "display_data"
    }
   ],
   "source": [
    "import pandas as pd\n",
    "df = pd.DataFrame(data=doctopic, index=propertius_titles+tibullus_titles)\n",
    "display(df)"
   ]
  },
  {
   "cell_type": "code",
   "execution_count": 397,
   "metadata": {},
   "outputs": [
    {
     "name": "stdout",
     "output_type": "stream",
     "text": [
      "Top NMF topics in...\n",
      "Prop. 1.1: 9 3 8\n",
      "Prop. 1.2: 9 1 3\n",
      "Prop. 1.3: 9 3 6\n",
      "Prop. 1.4: 9 1 8\n",
      "Prop. 1.5: 9 7 3\n",
      "Prop. 1.6: 9 3 2\n",
      "Prop. 1.7: 9 7 4\n",
      "Prop. 1.8a: 1 9 8\n",
      "Prop. 1.8b: 9 1 6\n",
      "Prop. 1.9: 1 9 7\n",
      "Prop. 1.10: 9 1 5\n",
      "Prop. 1.11: 9 0 7\n",
      "Prop. 1.12: 9 2 6\n",
      "Prop. 1.13: 9 1 7\n",
      "Prop. 1.14: 9 1 3\n",
      "Prop. 1.15: 8 9 1\n",
      "Prop. 1.16: 9 1 3\n",
      "Prop. 1.17: 9 1 7\n",
      "Prop. 1.18: 9 1 3\n",
      "Prop. 1.19: 9 1 8\n",
      "Prop. 1.20: 1 9 3\n",
      "Prop. 1.21: 1 9 2\n",
      "Prop. 1.22: 9 5 0\n",
      "Tib. 1.1: 6 9 8\n",
      "Tib. 1.2: 0 9 8\n",
      "Tib. 1.3: 3 4 5\n",
      "Tib. 1.4: 5 9 8\n",
      "Tib. 1.5: 2 9 8\n",
      "Tib. 1.6: 1 0 5\n",
      "Tib. 1.7: 4 0 3\n",
      "Tib. 1.8: 0 2 8\n",
      "Tib. 1.9: 8 9 7\n",
      "Tib. 1.10: 7 0 5\n"
     ]
    }
   ],
   "source": [
    "print(\"Top NMF topics in...\")\n",
    "for i in range(len(doctopic)):\n",
    "    top_topics = np.argsort(doctopic[i,:])[::-1][0:3]\n",
    "    top_topics_str = ' '.join(str(t) for t in top_topics)\n",
    "    print(\"{}: {}\".format(names[i], top_topics_str))"
   ]
  },
  {
   "cell_type": "code",
   "execution_count": 398,
   "metadata": {},
   "outputs": [
    {
     "name": "stdout",
     "output_type": "stream",
     "text": [
      "Topic 0: que cum2 tener primus facio uenio bellum gero candidus uua\n",
      "Topic 1: meus nunc domina que dolor solus amo uotum saepe numquam\n",
      "Topic 2: que uolo puer do amor aqua dies uenus doceo primus\n",
      "Topic 3: cum2 que pono amor meus neu uenus seu nox totus\n",
      "Topic 4: que amor tuus duco magnus manus sto procul meus multus\n",
      "Topic 5: que nunc terra illic amor de_ os lio porto sacer\n",
      "Topic 6: que meus fero pono teneo tener cum2 parco nunc domus\n",
      "Topic 7: tuus que multus meus cum2 puer aurum deus facio amor\n",
      "Topic 8: do cantus que deus puer uenus nox caput saepe serus\n",
      "Topic 9: amor puella noster tuus meus nullus eo quaero primus ullus\n"
     ]
    }
   ],
   "source": [
    "for t in range(len(topic_words)):\n",
    "    print(\"Topic {}: {}\".format(t, ' '.join(topic_words[t][:15])))"
   ]
  },
  {
   "cell_type": "code",
   "execution_count": 399,
   "metadata": {},
   "outputs": [
    {
     "data": {
      "image/png": "[encoded data removed]",
      "text/plain": [
       "<matplotlib.figure.Figure at 0x1182184e0>"
      ]
     },
     "metadata": {},
     "output_type": "display_data"
    }
   ],
   "source": [
    "N, K = doctopic.shape  # N documents, K topics\n",
    "topic_labels = ['Topic #{}'.format(k) for k in range(K)]\n",
    "\n",
    "plt.figure(figsize=(12,10))\n",
    "plt.pcolor(doctopic, norm=None, cmap='Reds')\n",
    "plt.yticks(np.arange(doctopic.shape[0])+0.5, names);\n",
    "plt.xticks(np.arange(doctopic.shape[1])+0.5, topic_labels);\n",
    "plt.gca().invert_yaxis()\n",
    "plt.xticks(rotation=90)\n",
    "plt.colorbar(cmap='Reds')\n",
    "plt.show()"
   ]
  },
  {
   "cell_type": "code",
   "execution_count": 383,
   "metadata": {},
   "outputs": [
    {
     "name": "stdout",
     "output_type": "stream",
     "text": [
      "Topic 0: que cum2 punc pauper nunc bellum deus gero meus uua\n",
      "Topic 1: amor meus tuus noster puella nullus dolor durus nunc cogo\n",
      "Topic 2: uolo puer que amor do dies aqua uenus fero doceo\n",
      "Topic 3: cum2 que pono amor neu meus uenus seu nox totus\n",
      "Topic 4: que amor tuus manus duco magnus procul sto meus multus\n",
      "Topic 5: que nunc terra illic amor os de_ lio porto sacer\n",
      "Topic 6: do que puer deus uenus cantus nox saepe serus nunc\n",
      "Topic 7: que tuus multus cum2 meus puer deus aurum facio amor\n",
      "Topic 8: que doceo primus cano durus do tener uenio candidus cantus\n",
      "Topic 9: que meus fero pono teneo cum2 parco nunc tener iners\n"
     ]
    }
   ],
   "source": [
    "for t in range(len(topic_words)):\n",
    "    print(\"Topic {}: {}\".format(t, ' '.join(topic_words[t][:15])))"
   ]
  },
  {
   "cell_type": "code",
   "execution_count": null,
   "metadata": {
    "collapsed": true
   },
   "outputs": [],
   "source": []
  },
  {
   "cell_type": "code",
   "execution_count": null,
   "metadata": {
    "collapsed": true
   },
   "outputs": [],
   "source": []
  }
 ],
 "metadata": {
  "kernelspec": {
   "display_name": "Python 3",
   "language": "python",
   "name": "python3"
  },
  "language_info": {
   "codemirror_mode": {
    "name": "ipython",
    "version": 3
   },
   "file_extension": ".py",
   "mimetype": "text/x-python",
   "name": "python",
   "nbconvert_exporter": "python",
   "pygments_lexer": "ipython3",
   "version": "3.6.0"
  }
 },
 "nbformat": 4,
 "nbformat_minor": 1
}
